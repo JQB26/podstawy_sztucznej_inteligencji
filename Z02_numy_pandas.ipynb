{
 "cells": [
  {
   "cell_type": "markdown",
   "metadata": {
    "collapsed": true
   },
   "source": [
    "# NumPy - operacje arytmetyczne w Pythonie\n",
    "\n",
    "Standardowe typy danych i procedury Pythona nie nadają się do poważnych zastosowań numerycznych. Konieczne było opracowanie zoptymalizowanych pod względem typowych operacji numerycznych typów danych i procedur. Stworzony został Numerical Python, zwany w skrócie NumPy. Podczas rozwoju tego pakietu kierowano się podejściem zastosowanym w takich językach jak Basis, MATLAB, rodzina języków APL, FORTRAN i innych. Tak więc NumPy jest biblioteką Pythona służącą do obliczeń naukowych. Dostarcza ona listę matematycznych funkcji użytecznych w takich zagadnieniach jak:\n",
    "  \n",
    "  * algebra liniowa,\n",
    "  * transformacje Fouriera,\n",
    "  * generowanie liczb losowych,\n",
    "  * oraz wszystkie operacje na tablicach i macierzach, które są podstawowymi obiektami w Numpy.\n",
    "  \n",
    "Żeby można korzystać z dobrodziejstwa tej biblioteki należy ją zaimportować:"
   ]
  },
  {
   "cell_type": "code",
   "execution_count": 1,
   "metadata": {},
   "outputs": [],
   "source": [
    "import numpy\n",
    "# lub\n",
    "import numpy as np "
   ]
  },
  {
   "cell_type": "markdown",
   "metadata": {},
   "source": [
    "## Tworzenie macierzy\n",
    "Do stworzenia tablicy jedno-, dwu- i wielowymiarowej używamy funkcji **array**:"
   ]
  },
  {
   "cell_type": "code",
   "execution_count": 2,
   "metadata": {},
   "outputs": [
    {
     "name": "stdout",
     "output_type": "stream",
     "text": [
      "[1 2 3]\n",
      "\n",
      " \n",
      "\n",
      "[[1 2 3]\n",
      " [4 5 6]]\n",
      "\n",
      " \n",
      "\n",
      "[[[1 1 1]\n",
      "  [1 1 1]]\n",
      "\n",
      " [[2 2 2]\n",
      "  [2 2 2]]]\n"
     ]
    }
   ],
   "source": [
    "x = np.array([1,2,3]) # tablica jednowymiarowa\n",
    "A = np.array([[1,2,3] , [4,5,6]]) # tablica dwuwymiarowa\n",
    "B = np.array( [[[1,1,1],[1,1,1]], [[2,2,2],[2,2,2]]]) # wielowymiarowa\n",
    "\n",
    "print(x)\n",
    "print(\"\\n \\n\")\n",
    "print(A)\n",
    "print(\"\\n \\n\")\n",
    "print(B)"
   ]
  },
  {
   "cell_type": "markdown",
   "metadata": {},
   "source": [
    "Przy tworzeniu tablicy istnieje możliwość zadeklarowania jej typu:"
   ]
  },
  {
   "cell_type": "code",
   "execution_count": 3,
   "metadata": {},
   "outputs": [
    {
     "name": "stdout",
     "output_type": "stream",
     "text": [
      "[[1.+0.j 0.+0.j]\n",
      " [0.+0.j 1.+0.j]]\n"
     ]
    }
   ],
   "source": [
    "z = np.array( [[1,0], [0,1]], dtype=complex) # tablica liczb zespolonych\n",
    "print(z) "
   ]
  },
  {
   "cell_type": "markdown",
   "metadata": {},
   "source": [
    "Do tworzenia tablicy jednowymiarowej (wektora) składającego się z elementów z danego zakresu używamy polecenia **arange(start, stop, krok)**:"
   ]
  },
  {
   "cell_type": "code",
   "execution_count": 4,
   "metadata": {},
   "outputs": [
    {
     "name": "stdout",
     "output_type": "stream",
     "text": [
      "[0 1 2 3 4 5 6 7 8 9]\n",
      " \n",
      "[0 2 4 6 8]\n",
      " \n",
      "[0.  0.5 1.  1.5 2.  2.5 3.  3.5 4.  4.5 5.  5.5 6.  6.5 7.  7.5 8.  8.5\n",
      " 9.  9.5]\n"
     ]
    }
   ],
   "source": [
    "print(np.arange(10), end='\\n \\n')\n",
    "print(np.arange(0, 10, 2), end='\\n \\n')\n",
    "print(np.arange(0., 10, 0.5))"
   ]
  },
  {
   "cell_type": "markdown",
   "metadata": {},
   "source": [
    "Jeśli chcemy wygenerować tablicę o określonej liczbie z danego przedziału, używamy funkcji **linspace**:"
   ]
  },
  {
   "cell_type": "code",
   "execution_count": 5,
   "metadata": {},
   "outputs": [
    {
     "name": "stdout",
     "output_type": "stream",
     "text": [
      "[ 0.  5. 10.]\n",
      " \n",
      "[0.   0.25 0.5  0.75 1.  ]\n"
     ]
    }
   ],
   "source": [
    "import numpy as np\n",
    "\n",
    "print(np.linspace(0., 10., 3), end='\\n \\n')\n",
    "print(np.linspace(0., 1, 5) )"
   ]
  },
  {
   "cell_type": "markdown",
   "metadata": {},
   "source": [
    "Biblioteka Numpy oferuje wiele możliwości budowania typowych tablic:"
   ]
  },
  {
   "cell_type": "code",
   "execution_count": 6,
   "metadata": {},
   "outputs": [
    {
     "name": "stdout",
     "output_type": "stream",
     "text": [
      "[[1. 1. 1.]\n",
      " [1. 1. 1.]\n",
      " [1. 1. 1.]] \n",
      "\n",
      "[[0. 0.]\n",
      " [0. 0.]\n",
      " [0. 0.]] \n",
      "\n",
      "[[1. 0. 0. 0.]\n",
      " [0. 1. 0. 0.]\n",
      " [0. 0. 1. 0.]\n",
      " [0. 0. 0. 1.]]\n"
     ]
    }
   ],
   "source": [
    "print(np.ones((3,3)), '\\n') # dwuwymiarowa tablica (3x3) wypełniona jedynkami\n",
    "print(np.zeros((3,2)), '\\n') # dwuwymiarowa tablica (3x2) wypełniona zerami\n",
    "print(np.eye(4)) # macierz jednostkowa 4x4"
   ]
  },
  {
   "cell_type": "markdown",
   "metadata": {},
   "source": [
    "Korzystając z powyższych funkcji możemy w łatwy sposób tworzyć dowolne macierze, zmieniając ich rozmiary."
   ]
  },
  {
   "cell_type": "code",
   "execution_count": 7,
   "metadata": {},
   "outputs": [
    {
     "name": "stdout",
     "output_type": "stream",
     "text": [
      "[[ 0  1  2]\n",
      " [ 3  4  5]\n",
      " [ 6  7  8]\n",
      " [ 9 10 11]\n",
      " [12 13 14]] \n",
      "\n",
      "[[0.         0.07142857 0.14285714]\n",
      " [0.21428571 0.28571429 0.35714286]\n",
      " [0.42857143 0.5        0.57142857]\n",
      " [0.64285714 0.71428571 0.78571429]\n",
      " [0.85714286 0.92857143 1.        ]]\n"
     ]
    }
   ],
   "source": [
    "print(np.arange(15).reshape(5,3), '\\n')\n",
    "print(np.linspace(0., 1, 15).reshape(5,3))"
   ]
  },
  {
   "cell_type": "markdown",
   "metadata": {},
   "source": [
    "# Operacje na indeksach tablicy\n",
    "Żeby odwołać się do konkretnej wartości tablicy należy użyć **[]** z odpowiednim indeksem (pamiętamy, że w Pythonie zaczynamy indeksować od 0)."
   ]
  },
  {
   "cell_type": "code",
   "execution_count": 8,
   "metadata": {},
   "outputs": [
    {
     "name": "stdout",
     "output_type": "stream",
     "text": [
      "[ 0  1  2  3  4  5  6  7  8  9 10 11 12 13 14] \n",
      "\n",
      "3 \n",
      "\n",
      "[[ 0  1  2  3]\n",
      " [ 4  5  6  7]\n",
      " [ 8  9 10 11]\n",
      " [12 13 14 15]\n",
      " [16 17 18 19]] \n",
      "\n",
      "11\n",
      "11 \n",
      "\n",
      "[ 8  9 10 11] \n",
      "\n",
      "[ 2  6 10 14 18]\n"
     ]
    }
   ],
   "source": [
    "x = np.arange(15)\n",
    "print(x, '\\n')\n",
    "print(x[3], '\\n')\n",
    "\n",
    "A = np.arange(20).reshape(5,4)\n",
    "print(A, '\\n')\n",
    "print(A[2, 3])\n",
    "print(A[2][3], '\\n') # równoważnie\n",
    "print(A[2], '\\n') # trzeci wiersz\n",
    "print(A[:, 2]) # trzecia kolumna"
   ]
  },
  {
   "cell_type": "markdown",
   "metadata": {},
   "source": [
    "Aby wyświetlić fragment tablicy od  $n-1$  do  $m-1$  elementów używamy składni: **tablica[n:m]**, analogicznie aby wyświetlić elementy tablicy pomiędzy  $n-1$ , a  $m-1$  przesuwając się o wartość  $k$  używamy składni **tablica[n:m:k]**. \n"
   ]
  },
  {
   "cell_type": "code",
   "execution_count": 9,
   "metadata": {},
   "outputs": [
    {
     "name": "stdout",
     "output_type": "stream",
     "text": [
      "[ 0  1  2  3  4  5  6  7  8  9 10 11 12 13 14] \n",
      "\n",
      "[ 3  4  5  6  7  8  9 10]\n",
      "[3 5 7 9] \n",
      "\n",
      "[[ 8  9 10 11]\n",
      " [12 13 14 15]] \n",
      "\n",
      "[[ 2  3]\n",
      " [ 6  7]\n",
      " [10 11]\n",
      " [14 15]\n",
      " [18 19]] \n",
      "\n",
      "[[ 2  3]\n",
      " [ 6  7]\n",
      " [10 11]\n",
      " [14 15]\n",
      " [18 19]]\n"
     ]
    }
   ],
   "source": [
    "x = np.arange(15)\n",
    "print(x, '\\n')\n",
    "print(x[3:11])\n",
    "print(x[3:11:2], '\\n')\n",
    "\n",
    "A = np.arange(20).reshape(5,4)\n",
    "print(A[2:4], '\\n') # wiersze od trzeciego do czwartego\n",
    "print(A[:,2:4], '\\n') # trzecia i czwarta kolumnę\n",
    "print(A[:,[2,3]]) # równoważnie"
   ]
  },
  {
   "cell_type": "markdown",
   "metadata": {},
   "source": [
    "Jak widać z powyższych przykładów, przecinek w nawiasach **[]** rozdziela poszczególne wymiary tablic."
   ]
  },
  {
   "cell_type": "code",
   "execution_count": 10,
   "metadata": {},
   "outputs": [
    {
     "name": "stdout",
     "output_type": "stream",
     "text": [
      "[5 6 7] \n",
      "\n",
      "[[4 5]\n",
      " [8 9]] \n",
      "\n",
      "[4 6]\n"
     ]
    }
   ],
   "source": [
    "print(A[1,1:5], '\\n') # elementy z drugiego wiersza i od drugiej do piątej kolumny \n",
    "print(A[1:3, :2], '\\n') # elementy od drugiego do trzeciego wiersza, \n",
    "                 # znajdujące się w kolumnach od pierwszej do drugiej\n",
    "print(A[1,0:5:2]) # elementy drugiego wiersza i kolumny od pierwszej do piątej co dwie"
   ]
  },
  {
   "cell_type": "markdown",
   "metadata": {},
   "source": [
    "Tablice można też budować w oparciu o już istniejące:"
   ]
  },
  {
   "cell_type": "code",
   "execution_count": 11,
   "metadata": {},
   "outputs": [
    {
     "name": "stdout",
     "output_type": "stream",
     "text": [
      "[[ 0  1  2  3]\n",
      " [ 4  5  6  7]\n",
      " [ 8  9 10 11]\n",
      " [12 13 14 15]\n",
      " [16 17 18 19]] \n",
      "\n",
      "[[10 11]\n",
      " [14 15]]\n"
     ]
    }
   ],
   "source": [
    "A = np.arange(20).reshape(5,4)\n",
    "print(A, '\\n')\n",
    "\n",
    "B = A[2:4, 2:]\n",
    "print(B)"
   ]
  },
  {
   "cell_type": "markdown",
   "metadata": {},
   "source": [
    "# Zmiana rozmiaru, kształtu tablicy\n",
    "Do zmiany rozmiaru tablicy już utworzonej służy funkcja: reshape. Operacja ta nie zmieni zawartości oryginalnej tablicy, pokaże jedynie jej elementy w zadanej postaci."
   ]
  },
  {
   "cell_type": "code",
   "execution_count": 12,
   "metadata": {},
   "outputs": [
    {
     "name": "stdout",
     "output_type": "stream",
     "text": [
      "[0 1 2 3 4 5 6 7] \n",
      "\n",
      "[[0 1 2 3]\n",
      " [4 5 6 7]] \n",
      "\n",
      "[0 1 2 3 4 5 6 7]\n"
     ]
    }
   ],
   "source": [
    "A = np.arange(8)\n",
    "print(A,'\\n')\n",
    "print(A.reshape((2, 4)), '\\n')\n",
    "print(A)"
   ]
  },
  {
   "cell_type": "markdown",
   "metadata": {},
   "source": [
    "Aby zmienić kształt tablicy za pomocą funkcji reshape możemy zrobić tak:"
   ]
  },
  {
   "cell_type": "code",
   "execution_count": 13,
   "metadata": {},
   "outputs": [
    {
     "name": "stdout",
     "output_type": "stream",
     "text": [
      "[0 1 2 3 4 5 6 7] \n",
      "\n",
      "[[0 1 2 3]\n",
      " [4 5 6 7]]\n"
     ]
    }
   ],
   "source": [
    "A = np.arange(8)\n",
    "print(A,'\\n')\n",
    "A = A.reshape((2, 4))\n",
    "print(A)"
   ]
  },
  {
   "cell_type": "markdown",
   "metadata": {},
   "source": [
    "lub użyć funkcję **resize**:"
   ]
  },
  {
   "cell_type": "code",
   "execution_count": 14,
   "metadata": {},
   "outputs": [
    {
     "name": "stdout",
     "output_type": "stream",
     "text": [
      "[0 1 2 3 4 5 6 7] \n",
      "\n",
      "[[0 1 2 3]\n",
      " [4 5 6 7]]\n"
     ]
    }
   ],
   "source": [
    "A = np.arange(8)\n",
    "print(A,'\\n')\n",
    "A.resize(2, 4)\n",
    "# print A.resize(2, 4), '\\n'\n",
    "print(A)"
   ]
  },
  {
   "cell_type": "markdown",
   "metadata": {},
   "source": [
    "Do sprawdzenia wymiaru tablicy służy funkcja **shape**:"
   ]
  },
  {
   "cell_type": "code",
   "execution_count": 15,
   "metadata": {},
   "outputs": [
    {
     "name": "stdout",
     "output_type": "stream",
     "text": [
      "(5, 4) \n",
      "\n",
      "5 \n",
      "\n",
      "4 \n",
      "\n",
      "20\n"
     ]
    }
   ],
   "source": [
    "A = np.arange(20).reshape(5,4)\n",
    "print(A.shape, '\\n') # wymiar tablicy\n",
    "print(A.shape[0], '\\n') # pierwszy wymiar\n",
    "print(A.shape[1], '\\n') # drugi wymiar\n",
    "print(A.size) # liczba wszystkich elementów w tablicy "
   ]
  },
  {
   "cell_type": "markdown",
   "metadata": {},
   "source": [
    "Transpozycja macierzy:"
   ]
  },
  {
   "cell_type": "code",
   "execution_count": 16,
   "metadata": {},
   "outputs": [
    {
     "name": "stdout",
     "output_type": "stream",
     "text": [
      "[[0 1 2 3]\n",
      " [4 5 6 7]] \n",
      "\n",
      "[[0 4]\n",
      " [1 5]\n",
      " [2 6]\n",
      " [3 7]] \n",
      "\n",
      "[[0 4]\n",
      " [1 5]\n",
      " [2 6]\n",
      " [3 7]]\n"
     ]
    }
   ],
   "source": [
    "A = np.arange(8).reshape(2,4)\n",
    "print(A, '\\n')\n",
    "print(A.T, '\\n')\n",
    "print(np.transpose(A))"
   ]
  },
  {
   "cell_type": "markdown",
   "metadata": {},
   "source": [
    "Podobnie jak przy funkcji reshape aby zachować wynik transpozycji macierzy musimy go przypisać do nowej zmiennej."
   ]
  },
  {
   "cell_type": "code",
   "execution_count": 17,
   "metadata": {},
   "outputs": [
    {
     "name": "stdout",
     "output_type": "stream",
     "text": [
      "[[0 1 2 3]\n",
      " [4 5 6 7]] \n",
      "\n",
      "[[0 4]\n",
      " [1 5]\n",
      " [2 6]\n",
      " [3 7]]\n"
     ]
    }
   ],
   "source": [
    "print(A, '\\n')\n",
    "A = A.T\n",
    "print(A)"
   ]
  },
  {
   "cell_type": "markdown",
   "metadata": {},
   "source": [
    "Podobnie jest z poleceniem **swapaxes(tablica, oś1, oś2)**, które wyświetli zmienione wiersze z kolumnami dla tablicy dwuwymiarowej. Dla wielowymiarowych tablic zmieni ono elementy dla zadanych osi."
   ]
  },
  {
   "cell_type": "code",
   "execution_count": 18,
   "metadata": {},
   "outputs": [
    {
     "name": "stdout",
     "output_type": "stream",
     "text": [
      "[[1 2 3]] \n",
      "\n",
      "[[1]\n",
      " [2]\n",
      " [3]] \n",
      "\n",
      "[[[0 1]\n",
      "  [2 3]]\n",
      "\n",
      " [[4 5]\n",
      "  [6 7]]] \n",
      "\n",
      "[[[0 4]\n",
      "  [2 6]]\n",
      "\n",
      " [[1 5]\n",
      "  [3 7]]]\n"
     ]
    }
   ],
   "source": [
    "x = np.array([[1,2,3]])\n",
    "print(x, '\\n')\n",
    "print(np.swapaxes(x,0,1), '\\n')\n",
    "\n",
    "x = np.array([[[0,1],[2,3]],[[4,5],[6,7]]])\n",
    "print(x, '\\n')\n",
    "print(np.swapaxes(x, 0, 2))"
   ]
  },
  {
   "cell_type": "markdown",
   "metadata": {},
   "source": [
    "Aby zmienić tablicę na jednowymiarową, możemy użyć polecenia:"
   ]
  },
  {
   "cell_type": "code",
   "execution_count": 19,
   "metadata": {},
   "outputs": [
    {
     "name": "stdout",
     "output_type": "stream",
     "text": [
      "[[0 1 2 3]\n",
      " [4 5 6 7]] \n",
      "\n",
      "[0 1 2 3 4 5 6 7] \n",
      "\n",
      "[0 1 2 3 4 5 6 7]\n"
     ]
    }
   ],
   "source": [
    "A = np.arange(8).reshape(2,4)\n",
    "print(A, '\\n')\n",
    "print(np.ravel(A), '\\n')\n",
    "print(A.reshape(-1,))"
   ]
  },
  {
   "cell_type": "markdown",
   "metadata": {},
   "source": [
    "# Podstawowe operacje na tablicach\n",
    "\n",
    "  * dodawanie:"
   ]
  },
  {
   "cell_type": "code",
   "execution_count": 20,
   "metadata": {},
   "outputs": [
    {
     "name": "stdout",
     "output_type": "stream",
     "text": [
      "[1 5 8 5 9]\n",
      "[1 5 8 5 9] \n",
      "\n",
      "[2 5 7 3 6] \n",
      "\n",
      "[[15 17 19]\n",
      " [21 23 25]\n",
      " [27 29 31]\n",
      " [33 35 37]\n",
      " [39 41 43]]\n",
      "[[15 17 19]\n",
      " [21 23 25]\n",
      " [27 29 31]\n",
      " [33 35 37]\n",
      " [39 41 43]] \n",
      "\n",
      "[[20 21 22]\n",
      " [23 24 25]\n",
      " [26 27 28]\n",
      " [29 30 31]\n",
      " [32 33 34]] \n",
      "\n",
      "[[15 16 17]\n",
      " [18 19 20]\n",
      " [21 22 23]\n",
      " [24 25 26]\n",
      " [27 28 29]] \n",
      "\n",
      "[1 2 3] \n",
      "\n",
      "[[16 18 20]\n",
      " [19 21 23]\n",
      " [22 24 26]\n",
      " [25 27 29]\n",
      " [28 30 32]]\n"
     ]
    }
   ],
   "source": [
    "x = np.array([1,4,6,2,5])\n",
    "v = np.arange(5)\n",
    "print(x+v)\n",
    "print(np.add(x, v), '\\n') # równoważnie\n",
    "print(x+1, '\\n')\n",
    "\n",
    "A = np.arange(15, 30).reshape((5, 3))\n",
    "B = np.arange(15).reshape((5, 3))\n",
    "print(A+B)\n",
    "print(np.add(A, B), '\\n')\n",
    "print(A+5, '\\n')\n",
    "\n",
    "x = np.array([1,2,3])\n",
    "print(A, '\\n')\n",
    "print(x, '\\n')\n",
    "print(np.add(A, x)) # dodawanie do każdego wiersza wektora x"
   ]
  },
  {
   "cell_type": "markdown",
   "metadata": {},
   "source": [
    "* odejmowanie:"
   ]
  },
  {
   "cell_type": "code",
   "execution_count": 21,
   "metadata": {},
   "outputs": [
    {
     "name": "stdout",
     "output_type": "stream",
     "text": [
      "[ 1  3  4 -1  1]\n",
      "[ 1  3  4 -1  1] \n",
      "\n",
      "[0 3 5 1 4]\n",
      "[[15 15 15]\n",
      " [15 15 15]\n",
      " [15 15 15]\n",
      " [15 15 15]\n",
      " [15 15 15]]\n",
      "[[15 15 15]\n",
      " [15 15 15]\n",
      " [15 15 15]\n",
      " [15 15 15]\n",
      " [15 15 15]] \n",
      "\n",
      "[[14 15 16]\n",
      " [17 18 19]\n",
      " [20 21 22]\n",
      " [23 24 25]\n",
      " [26 27 28]] \n",
      "\n",
      "[[14 14 14]\n",
      " [17 17 17]\n",
      " [20 20 20]\n",
      " [23 23 23]\n",
      " [26 26 26]]\n"
     ]
    }
   ],
   "source": [
    "x = np.array([1,4,6,2,5])\n",
    "v = np.arange(5)\n",
    "print(x-v)\n",
    "print(np.subtract(x, v), '\\n') # równoważnie\n",
    "print(x-1)\n",
    "\n",
    "A = np.arange(15, 30).reshape((5, 3))\n",
    "B = np.arange(15).reshape((5, 3))\n",
    "print(A-B)\n",
    "print(np.subtract(A, B), '\\n')\n",
    "print(A-1, '\\n')\n",
    "\n",
    "x = np.array([1,2,3])\n",
    "print(np.subtract(A, x)) # odjęcie od każdego wiersza wektora x"
   ]
  },
  {
   "cell_type": "markdown",
   "metadata": {},
   "source": [
    "* mnożenie:"
   ]
  },
  {
   "cell_type": "code",
   "execution_count": 22,
   "metadata": {},
   "outputs": [
    {
     "name": "stdout",
     "output_type": "stream",
     "text": [
      "[ 5 20 30 10 25] \n",
      "\n",
      "42 \n",
      "\n",
      "[ 0  4 12  6 20] \n",
      "\n",
      "[[ 5 15]\n",
      " [ 0 30]] \n",
      "\n",
      "[[ 22   0]\n",
      " [ 48 -12]] \n",
      "\n",
      "[[ 22   0]\n",
      " [ 48 -12]] \n",
      "\n",
      "[[ -2  18]\n",
      " [  0 -12]]\n"
     ]
    }
   ],
   "source": [
    "x = np.array([1,4,6,2,5])\n",
    "v = np.arange(5)\n",
    "print(x*5, '\\n')\n",
    "print(np.dot(x,v), '\\n') # iloczyn skalarny\n",
    "print(x*v, '\\n' )# to nie, mnożony jest element przez element! \n",
    "\n",
    "A = np.array([[1, 3], [0, 6]])\n",
    "print(A*5, '\\n')\n",
    "\n",
    "B = np.array([[-2, 6], [8, -2]])\n",
    "print(np.dot(A, B), '\\n')\n",
    "print(A @ B, '\\n') # to samo co wyżej\n",
    "print(A*B) # to nie, mnożony jest element przez element! "
   ]
  },
  {
   "cell_type": "markdown",
   "metadata": {},
   "source": [
    "NumPy ma możliwość deklarowania macierzy, różnią się one w tym środowisku od tablic tym, że operacja mnożenia nie dotyczy mnożenia elementów, tylko klasycznego mnożenia macierzy:"
   ]
  },
  {
   "cell_type": "code",
   "execution_count": 23,
   "metadata": {},
   "outputs": [
    {
     "name": "stdout",
     "output_type": "stream",
     "text": [
      "[[17  1]\n",
      " [28  1]] \n",
      "\n",
      "[[17  1]\n",
      " [28  1]]\n"
     ]
    }
   ],
   "source": [
    "A = np.matrix( ((2,3), (3, 5)) )\n",
    "B = np.matrix( ((1,2), (5, -1)) )\n",
    "\n",
    "print(A * B, '\\n')\n",
    "print(np.dot(A, B))"
   ]
  },
  {
   "cell_type": "markdown",
   "metadata": {},
   "source": [
    "  * potęgowanie:"
   ]
  },
  {
   "cell_type": "code",
   "execution_count": 24,
   "metadata": {},
   "outputs": [
    {
     "name": "stdout",
     "output_type": "stream",
     "text": [
      "[1 4 6 2 5] \n",
      "\n",
      "[ 1 16 36  4 25]\n",
      "[ 1 16 36  4 25] \n",
      "\n",
      "[[0 1 2]\n",
      " [3 4 5]\n",
      " [6 7 8]] \n",
      "\n",
      "[[ 0  1  4]\n",
      " [ 9 16 25]\n",
      " [36 49 64]] \n",
      "\n",
      "[[ 0  1  4]\n",
      " [ 9 16 25]\n",
      " [36 49 64]]\n"
     ]
    }
   ],
   "source": [
    "x = np.array([1,4,6,2,5])\n",
    "print(x, '\\n')\n",
    "\n",
    "print(x**2)\n",
    "print(np.power(x, 2), '\\n') # równoważnie\n",
    "\n",
    "A = np.arange(9).reshape((3, 3))\n",
    "print(A, '\\n')\n",
    "print(A**2, '\\n') # kwadrat elementów tablicy\n",
    "print(np.power(A, 2)) # równoważnie"
   ]
  },
  {
   "cell_type": "markdown",
   "metadata": {},
   "source": [
    "Więcej funkcji można znaleźć tutaj: [https://docs.scipy.org/doc/numpy/reference/routines.math.html]."
   ]
  },
  {
   "cell_type": "markdown",
   "metadata": {},
   "source": [
    "## Porównania elementów tablic"
   ]
  },
  {
   "cell_type": "code",
   "execution_count": 25,
   "metadata": {},
   "outputs": [
    {
     "name": "stdout",
     "output_type": "stream",
     "text": [
      "[[False False False]\n",
      " [False False False]\n",
      " [False False False]\n",
      " [False False False]\n",
      " [False False False]] \n",
      "\n",
      "[[ True  True  True]\n",
      " [ True  True  True]\n",
      " [ True  True  True]\n",
      " [ True  True  True]\n",
      " [ True  True  True]] \n",
      "\n",
      "[[False False False]\n",
      " [False False False]\n",
      " [False False False]\n",
      " [False False False]\n",
      " [ True False False]] \n",
      "\n",
      "True \n",
      "\n",
      "False\n"
     ]
    }
   ],
   "source": [
    "A = np.arange(5, 20).reshape((5, 3))\n",
    "B = np.arange(15).reshape((5, 3))\n",
    "\n",
    "print(A < B, '\\n')\n",
    "print(A == A, '\\n')\n",
    "print(A == 17, '\\n')\n",
    "print(np.any( A > 17 ), '\\n') # prawdziwe, jeśli każdy element z osobna spełnia warunek \n",
    "print(np.all( A > 17 )) # prawdziwe jeśli wszystkie elementy spełniają warunek"
   ]
  },
  {
   "cell_type": "markdown",
   "metadata": {},
   "source": [
    "## Łączenie i dzielenie tablic\n",
    "Biblioteka <i>NumPy</i> daje nam narzędzia dzięki, którym możemy łączyć i dzielić tablice. Zaczniemy od omówienia problemu łączenia tablic:"
   ]
  },
  {
   "cell_type": "code",
   "execution_count": 26,
   "metadata": {},
   "outputs": [
    {
     "name": "stdout",
     "output_type": "stream",
     "text": [
      "[[1 2]\n",
      " [3 4]] \n",
      "\n",
      "[[5 6]] \n",
      "\n",
      "[[1 2]\n",
      " [3 4]\n",
      " [5 6]] \n",
      "\n",
      "[[1 2]\n",
      " [3 4]\n",
      " [5 6]] \n",
      "\n",
      "[[1 2 5]\n",
      " [3 4 6]] \n",
      "\n",
      "[[1 2 5]\n",
      " [3 4 6]]\n"
     ]
    }
   ],
   "source": [
    "x = np.array([[1, 2], [3, 4]])\n",
    "y = np.array([[5, 6]])\n",
    "\n",
    "print(x, '\\n')\n",
    "print(y, '\\n')\n",
    "\n",
    "# łączenie wierszowe\n",
    "print(np.concatenate((x, y), axis=0), '\\n')\n",
    "print(np.vstack((x,y)), '\\n')\n",
    "\n",
    "# łączenie kolumnowe\n",
    "print(np.concatenate((x,y.T), axis=1), '\\n')\n",
    "print(np.hstack((x,y.T)))"
   ]
  },
  {
   "cell_type": "markdown",
   "metadata": {},
   "source": [
    "## Wybrane metody z algebry linowej\n",
    "Do części funkcji typowych dla algebry liniowej możemy się odwołać po zaimportowaniu biblioteki **linalg** będącej integralną częścią biblioteki NumPy."
   ]
  },
  {
   "cell_type": "code",
   "execution_count": 27,
   "metadata": {},
   "outputs": [],
   "source": [
    "import numpy.linalg as alg "
   ]
  },
  {
   "cell_type": "markdown",
   "metadata": {},
   "source": [
    "Można tam znaleźć funkcję obliczającą:\n",
    "\n",
    "* macierz odwrotną:"
   ]
  },
  {
   "cell_type": "code",
   "execution_count": 28,
   "metadata": {},
   "outputs": [
    {
     "name": "stdout",
     "output_type": "stream",
     "text": [
      "[[-2.   1. ]\n",
      " [ 1.5 -0.5]] \n",
      "\n",
      "[[1.0000000e+00 0.0000000e+00]\n",
      " [8.8817842e-16 1.0000000e+00]]\n"
     ]
    }
   ],
   "source": [
    "A = np.array([[1., 2.], [3., 4.]])\n",
    "invA = alg.inv(A)\n",
    "print(invA, '\\n')\n",
    "print(np.dot(A, invA))"
   ]
  },
  {
   "cell_type": "markdown",
   "metadata": {},
   "source": [
    "  * wyznacznik:"
   ]
  },
  {
   "cell_type": "code",
   "execution_count": 29,
   "metadata": {},
   "outputs": [
    {
     "name": "stdout",
     "output_type": "stream",
     "text": [
      "[[1. 2.]\n",
      " [3. 4.]] \n",
      "\n",
      "-2.0000000000000004\n"
     ]
    }
   ],
   "source": [
    "print(A, '\\n')\n",
    "print(alg.det(A))"
   ]
  },
  {
   "cell_type": "markdown",
   "metadata": {},
   "source": [
    "  * ślad:"
   ]
  },
  {
   "cell_type": "code",
   "execution_count": 30,
   "metadata": {},
   "outputs": [
    {
     "name": "stdout",
     "output_type": "stream",
     "text": [
      "[[1. 2.]\n",
      " [3. 4.]] \n",
      "\n",
      "5.0\n"
     ]
    }
   ],
   "source": [
    "print(A, '\\n')\n",
    "print(np.trace(A))"
   ]
  },
  {
   "cell_type": "markdown",
   "metadata": {},
   "source": [
    "  * normę dla macierz lub wektora:"
   ]
  },
  {
   "cell_type": "code",
   "execution_count": 31,
   "metadata": {},
   "outputs": [
    {
     "name": "stdout",
     "output_type": "stream",
     "text": [
      "5.477225575051661 \n",
      "\n",
      "5.477225575051661 \n",
      "\n",
      "7.0 \n",
      "\n",
      "[3.16227766 4.47213595] \n",
      "\n",
      "[2.23606798 5.        ] \n",
      "\n"
     ]
    }
   ],
   "source": [
    "print(alg.norm(A), '\\n') # Euklidesowa\n",
    "print(alg.norm(A, 'fro'), '\\n') # Frobeniusa\n",
    "print(alg.norm(A, np.inf), '\\n') # maksimum\n",
    "\n",
    "print(alg.norm(A, axis=0), '\\n') # wierszy\n",
    "print(alg.norm(A, axis=1), '\\n') # kolumn"
   ]
  },
  {
   "cell_type": "markdown",
   "metadata": {},
   "source": [
    "  * rozwiązywanie układów równań:"
   ]
  },
  {
   "cell_type": "code",
   "execution_count": 32,
   "metadata": {},
   "outputs": [
    {
     "name": "stdout",
     "output_type": "stream",
     "text": [
      "[2.33333333 0.66666667]\n"
     ]
    }
   ],
   "source": [
    "# 4*x_1 + x_2 = 10\n",
    "# 3*x_1 = 7\n",
    "A = np.array([[4,1], [3,0]])\n",
    "b = np.array([10,7])\n",
    "print(np.linalg.solve(A, b))"
   ]
  },
  {
   "cell_type": "markdown",
   "metadata": {},
   "source": [
    "## Statystyka\n",
    "<i>NumPy</i> oferuje dużo możliwości generacji liczb losowych. Poniżej podaję niektóre z nich, więcej można znaleźć tutaj:\n",
    "[https://docs.scipy.org/doc/numpy/reference/routines.random.html]"
   ]
  },
  {
   "cell_type": "code",
   "execution_count": 33,
   "metadata": {},
   "outputs": [
    {
     "name": "stdout",
     "output_type": "stream",
     "text": [
      "[[0.41708808 0.47268111]\n",
      " [0.14856237 0.67628642]\n",
      " [0.88438284 0.26724109]] \n",
      "\n",
      "[[ 3.02248188 -0.09217932 -0.52829704]\n",
      " [ 2.04562368 -2.91656867  2.18990504]] \n",
      "\n",
      "[[2 0 2]\n",
      " [3 0 1]\n",
      " [3 3 2]] \n",
      "\n",
      "[2 0 4] \n",
      "\n",
      "[[0.1361481  0.85132206 1.32073033]\n",
      " [2.50685715 0.38612336 1.3299009 ]] \n",
      "\n",
      "[[1 2 2 7]\n",
      " [3 1 3 2]] \n",
      "\n",
      "[ 2.31712418  0.16068078 -0.00997057 -0.30496722  0.07734927 -0.01580933\n",
      "  0.68337981] \n",
      "\n",
      "[5 4 7 8 2 0 4 4 4 2] \n",
      "\n",
      "[[ 2.91262815 -4.81404521]\n",
      " [-0.28280707 -2.10638513]\n",
      " [ 4.07437417 -4.76234649]\n",
      " [ 0.58286424 -3.28969447]\n",
      " [ 6.91020827 -7.52644467]\n",
      " [ 2.89280872 -4.35083542]\n",
      " [ 4.17975497 -3.88075422]] \n",
      "\n"
     ]
    }
   ],
   "source": [
    "# np.random.seed(0)\n",
    "\n",
    "# macierz losowa 3x2 (liczby z przedziału [0, 1)) \n",
    "print(np.random.rand(3,2), '\\n')\n",
    "\n",
    "# macierz losowa 2x3 o elementach z rozkładu N(mu, sigma^2) = N(1, 4)\n",
    "print(2 * np.random.randn(2, 3) + 1, '\\n')\n",
    "\n",
    "# macierz losowa 3x3 o elementach całkowitych z przedziału [0, 5)\n",
    "print(np.random.randint(5, size=(3, 3)), '\\n')\n",
    "\n",
    "# losowe wybranie 3 liczb z [0, 1, 2, 3, 4]\n",
    "print(np.random.choice(5, 3, replace=False), '\\n')\n",
    "\n",
    "# rozkład wykładniczy (scale = 1/lambda)\n",
    "print(numpy.random.exponential(scale=1.0, size=(2, 3)), '\\n')\n",
    "\n",
    "# rozkład geometryczny\n",
    "print(np.random.geometric(p=0.35, size=(2,4)), '\\n')\n",
    "\n",
    "# rozkład normalny N(mu, sigma)\n",
    "print(np.random.normal(0.0, 1, size=7), '\\n')\n",
    "\n",
    "# rozkład Poissona\n",
    "print(np.random.poisson(5, 10), '\\n')\n",
    "\n",
    "# rozkład wielowymiarowy rozkład normalny\n",
    "mean = [5, -5]\n",
    "cov = [[10, -6], [-6, 5]]\n",
    "print(np.random.multivariate_normal(mean, cov, 7), '\\n')"
   ]
  },
  {
   "cell_type": "markdown",
   "metadata": {},
   "source": [
    "Proste statystyki:"
   ]
  },
  {
   "cell_type": "code",
   "execution_count": 34,
   "metadata": {},
   "outputs": [
    {
     "name": "stdout",
     "output_type": "stream",
     "text": [
      "3.9372298262913468 \n",
      "\n",
      "-0.4271811610456915 \n",
      "\n",
      "7.8529611865936655 \n",
      "\n",
      "0.19613952867332457 \n",
      "\n",
      "1.1218515980848094\n",
      "1.1218515980848094 \n",
      "\n",
      "0.94339840750209 \n",
      "\n",
      "1.4432498847542563\n",
      "1.4432498847542563 \n",
      "\n",
      "2.082970229843174\n",
      "2.082970229843174\n"
     ]
    }
   ],
   "source": [
    "x = np.random.normal(2.0, 2.5, size=7)\n",
    "\n",
    "print(x.max(),'\\n') #maksymalna wartość\n",
    "\n",
    "print(x.min(),'\\n') # minimalna wartość \n",
    "\n",
    "print(x.sum(),'\\n') # suma wszystkich elementów \n",
    "\n",
    "print(x.prod(),'\\n') # iloczyn wszystkich elementów \n",
    "\n",
    "print(x.mean()) # średnia z wszystkich elementów\n",
    "print(np.mean(x),'\\n')\n",
    "\n",
    "print(np.median(x),'\\n') # mediana\n",
    "\n",
    "print(x.std()) # odchylenie standardowe \n",
    "print(np.std(x),'\\n')\n",
    "\n",
    "print(x.var()) # wariancja\n",
    "print(np.var(x))"
   ]
  },
  {
   "cell_type": "markdown",
   "metadata": {},
   "source": [
    "# Zadanie 1\n",
    "Wygeneruj losową tablice 100 x 10, która będzie reprezentować 100 punktów w 10 wymiarowej przestrzeni. Napisz funkcję, która policzy odległość euklidesową pomiędzy każdą parą punktów, czy potrafisz zrobić to w jednej linijce, bez użycia żadnych pętli/wytworników pętli? Przypomnienie, dla dwóch wektorów  xx  i  yy  odległość euklidesową liczymy ze wzoru: \n",
    "\n",
    "$$\n",
    "d(x,y)=\\|x-y\\|_2^2=\\sum_{i=1}^n |x_i-y_i|^2.\n",
    "$$"
   ]
  },
  {
   "cell_type": "code",
   "execution_count": 85,
   "metadata": {},
   "outputs": [],
   "source": [
    "pts = np.random.randn(100, 10)\n",
    "distances = [[np.linalg.norm(v1 - v2) for v2 in pts] for v1 in pts]\n",
    "\n",
    "# distances - output is too long"
   ]
  },
  {
   "cell_type": "markdown",
   "metadata": {},
   "source": [
    "# Zadanie 2\n",
    "\n",
    "Wygeneruj losową tablicę z wielowymiarowego rozkładu normalnego (procedura random.multivariate_normal), która będzie reprezentować 100 punktów w 5 wymiarowej przestrzeni. Napisz funkcję do normalizacji zbioru punktów (zrób to w jednej linijce, bez użycia pętli):\n",
    "\n",
    "$$\n",
    "x_{ij} = \\frac{x_{ij}-\\mu_j}{\\sigma_j},\n",
    "$$\n",
    "\n",
    "gdzie  $μ_j$  to średnia, a  $σ_j$  to odchylenie standardowe po  $j$-tej kolumnie, zaś  $x_{ij}$  to  $j$-ta współrzędna  $i$ -tego wektora.\n",
    "\n",
    "Policz średnią i macierz kowariancji tak przekształconych danych. Co zaobserwowałeś?"
   ]
  },
  {
   "cell_type": "code",
   "execution_count": null,
   "metadata": {},
   "outputs": [],
   "source": [
    "arr = np.random.multivariate_normal()"
   ]
  },
  {
   "cell_type": "markdown",
   "metadata": {},
   "source": [
    "# Zadanie 3\n",
    "\n",
    "Wypełni 100-elementową tablicę liczbami losowymi naturalnymi z zakresu  $[5,15]$  i policz liczbę wystąpień tych liczb. Która z tych liczb najczęściej występuje w tak wygenerowanej tablicy?\n",
    "Wskazówka: zobacz funkcje: bincount, argmax."
   ]
  },
  {
   "cell_type": "code",
   "execution_count": 84,
   "metadata": {},
   "outputs": [
    {
     "name": "stdout",
     "output_type": "stream",
     "text": [
      "[ 0  0  0  0  0  8  5  7 10  6  6 16 12  9 11 10]\n",
      "11\n"
     ]
    }
   ],
   "source": [
    "arr = np.random.randint(5, 16, size=100)\n",
    "count = np.bincount(arr)\n",
    "print(count)\n",
    "print(np.argmax(count))"
   ]
  },
  {
   "cell_type": "markdown",
   "metadata": {},
   "source": [
    "# Zadanie 4\n",
    "\n",
    "Korzystając z poniższego kodu zaimportuj dane **breast cancer**, który składa się z 2 elementów: macierzy  $X$  o wymiarach 569 x 30 oraz wektora  $y$ o długości 569. Macierz  $X$  opisuje badania 683 pacjentów, a wektor  $y$  ich diagnozy."
   ]
  },
  {
   "cell_type": "code",
   "execution_count": 37,
   "metadata": {},
   "outputs": [
    {
     "name": "stdout",
     "output_type": "stream",
     "text": [
      "(569, 30)\n",
      "(569,)\n"
     ]
    }
   ],
   "source": [
    "from sklearn.datasets import load_breast_cancer\n",
    "X, y  = load_breast_cancer(return_X_y=True)\n",
    "print(X.shape)\n",
    "print(y.shape)"
   ]
  },
  {
   "cell_type": "markdown",
   "metadata": {},
   "source": [
    "Za pomocą biblioteki **numpy** przenumeruj wektor  $y$ , tzn zamień wartości $0$ i $1$ na $-1$ i $+1$. Przeskaluj macierz  $X$ , tak żeby wartości w każdej kolumnie mieściły się w zakresie  $[0,1]$ , innymi słowy przeskaluj niezależnie każdą kolumnę  $X_i$  według poniższej procedury: \n",
    "\n",
    "$$\n",
    "X_i=\\frac{X_i-min(X_i)}{max(X_i)-min(X_i)}.\n",
    "$$"
   ]
  },
  {
   "cell_type": "code",
   "execution_count": 38,
   "metadata": {},
   "outputs": [
    {
     "name": "stdout",
     "output_type": "stream",
     "text": [
      "[[0.52103744 0.0226581  0.54598853 ... 0.91202749 0.59846245 0.41886396]\n",
      " [0.64314449 0.27257355 0.61578329 ... 0.63917526 0.23358959 0.22287813]\n",
      " [0.60149557 0.3902604  0.59574321 ... 0.83505155 0.40370589 0.21343303]\n",
      " ...\n",
      " [0.45525108 0.62123774 0.44578813 ... 0.48728522 0.12872068 0.1519087 ]\n",
      " [0.64456434 0.66351031 0.66553797 ... 0.91065292 0.49714173 0.45231536]\n",
      " [0.03686876 0.50152181 0.02853984 ... 0.         0.25744136 0.10068215]]\n"
     ]
    }
   ],
   "source": [
    "# y_new = np.where(y == 0, -1, y)\n",
    "y_new = np.interp(y, (0, 1), (-1, 1))\n",
    "\n",
    "X_min = X.min(axis=0)\n",
    "X_max = X.max(axis=0)\n",
    "X_normed = (X - X_min) / (X_max - X_min)\n",
    "print(X_normed)"
   ]
  },
  {
   "cell_type": "markdown",
   "metadata": {},
   "source": [
    "# Biblioteka Pandas\n",
    "\n",
    "**Pandas** jest darmową biblioteką języka Python, która służy do analizy danych. Zawiera łatwe w użyciu struktury i narzędzia do analizy danych spotykane w języku R.\n",
    "\n",
    "Biblioteka ta pozwala między innymi na:\n",
    "  \n",
    "  * tworzenie własnych danych w odpowiednich strukturach,\n",
    "  * importowanie i eksportowanie danych do różnych plików,\n",
    "  * przygotowanie danych do analizy (pozbycie się anomalii w danych, np. brakujących wartości),\n",
    "  * analizę danych,\n",
    "  * prezentację danych.\n",
    "\n",
    "Do instalacji tej biblioteki można użyć procedury **pip** albo **conda** [http://pandas.pydata.org/pandas-docs/stable/install.html]"
   ]
  },
  {
   "cell_type": "markdown",
   "metadata": {},
   "source": [
    "Aby skorzystać z biblioteki pandas należy ją wcześniej zaimportować, np.:"
   ]
  },
  {
   "cell_type": "code",
   "execution_count": 39,
   "metadata": {},
   "outputs": [
    {
     "name": "stdout",
     "output_type": "stream",
     "text": [
      "1.4.1\n"
     ]
    }
   ],
   "source": [
    "# import pandas\n",
    "import pandas as pd\n",
    "\n",
    "print(pd.__version__) # wersja biblioteki\n",
    "%matplotlib inline"
   ]
  },
  {
   "cell_type": "markdown",
   "metadata": {},
   "source": [
    "## Struktury danych\n",
    "\n",
    "Biblioteka pandas wprowadza dwie nowe struktury danych do Pythona: **Series** i **DataFrame**.\n",
    "\n",
    "1. **Serie**\n",
    "\n",
    "Seria to jednowymiarowy obiekt podobny do tablicy, listy, który może zawierać różnego rodzaju dane (liczby całkowite, zmiennoprzecinkowe, ciągi, obiekty Pythona, itd.). Każdy element serii ma przypisany indeks/etykietę (domyślnie od 0 do N, gdzie N jest długość serii minus 1)."
   ]
  },
  {
   "cell_type": "code",
   "execution_count": 40,
   "metadata": {},
   "outputs": [
    {
     "name": "stdout",
     "output_type": "stream",
     "text": [
      "0                7\n",
      "1       Heisenberg\n",
      "2             3.14\n",
      "3      -1789710578\n",
      "4    Happy Eating!\n",
      "dtype: object\n"
     ]
    }
   ],
   "source": [
    "from pandas import Series, DataFrame\n",
    "import pandas as pd\n",
    "s = pd.Series([7, 'Heisenberg', 3.14, -1789710578, 'Happy Eating!'])\n",
    "print(s)"
   ]
  },
  {
   "cell_type": "markdown",
   "metadata": {},
   "source": [
    "Alternatywnie, można zdefiniować indeksy elementów serii w trakcje jej definicji:"
   ]
  },
  {
   "cell_type": "code",
   "execution_count": 41,
   "metadata": {},
   "outputs": [
    {
     "name": "stdout",
     "output_type": "stream",
     "text": [
      "a   -0.429065\n",
      "b    0.023572\n",
      "c   -1.687178\n",
      "i    0.930063\n",
      "e    0.159445\n",
      "dtype: float64\n"
     ]
    }
   ],
   "source": [
    "import numpy as np\n",
    "\n",
    "# Series(dane, index=indeks)\n",
    "s = Series(np.random.randn(5), index=['a', 'b', 'c', 'i', 'e'])\n",
    "print(s)"
   ]
  },
  {
   "cell_type": "markdown",
   "metadata": {},
   "source": [
    "Konstruktor **Series** może przetwarzać słowniki Pythona:"
   ]
  },
  {
   "cell_type": "code",
   "execution_count": 42,
   "metadata": {},
   "outputs": [
    {
     "name": "stdout",
     "output_type": "stream",
     "text": [
      "a    0.0\n",
      "b    1.0\n",
      "c    2.0\n",
      "dtype: float64\n"
     ]
    }
   ],
   "source": [
    "d = {'a' : 0., 'b' : 1., 'c' : 2.}\n",
    "print(Series(d))"
   ]
  },
  {
   "cell_type": "code",
   "execution_count": 43,
   "metadata": {},
   "outputs": [
    {
     "name": "stdout",
     "output_type": "stream",
     "text": [
      "b    1.0\n",
      "c    2.0\n",
      "d    NaN\n",
      "a    0.0\n",
      "dtype: float64\n"
     ]
    }
   ],
   "source": [
    "print(Series(d, index=['b', 'c', 'd', 'a']))"
   ]
  },
  {
   "cell_type": "code",
   "execution_count": 44,
   "metadata": {},
   "outputs": [
    {
     "name": "stdout",
     "output_type": "stream",
     "text": [
      "a    1\n",
      "b    1\n",
      "c    1\n",
      "d    1\n",
      "e    1\n",
      "dtype: int64 \n",
      "\n",
      "a    1.0\n",
      "b    1.0\n",
      "c    1.0\n",
      "d    1.0\n",
      "e    1.0\n",
      "dtype: float64\n"
     ]
    }
   ],
   "source": [
    "print(Series(1, index=['a', 'b', 'c', 'd', 'e']), '\\n')\n",
    "print(Series(1., index=['a', 'b', 'c', 'd', 'e']))"
   ]
  },
  {
   "cell_type": "markdown",
   "metadata": {},
   "source": [
    "## 1.1 Odwoływanie się do elementów serii\n",
    "\n",
    "Struktura Series działa jak tablica. Można odwołać się do poszczególnego elementu serii za pomocą indeksu, używać logicznego indeksowania, itd.:"
   ]
  },
  {
   "cell_type": "code",
   "execution_count": 45,
   "metadata": {},
   "outputs": [
    {
     "name": "stdout",
     "output_type": "stream",
     "text": [
      "a    0.690625\n",
      "b    1.446248\n",
      "c   -0.532025\n",
      "i   -0.047560\n",
      "e    0.730808\n",
      "dtype: float64 \n",
      "\n",
      "0.6906250714155888 -0.04755982939738329\n"
     ]
    }
   ],
   "source": [
    "s = Series(np.random.randn(5), index=['a', 'b', 'c', 'i', 'e'])\n",
    "print(s, '\\n')\n",
    "\n",
    "print(s[0], s[3])"
   ]
  },
  {
   "cell_type": "code",
   "execution_count": 46,
   "metadata": {},
   "outputs": [
    {
     "name": "stdout",
     "output_type": "stream",
     "text": [
      "a    0.690625\n",
      "b    1.446248\n",
      "e    0.730808\n",
      "dtype: float64 \n",
      "\n",
      "a    0.690625\n",
      "b    1.446248\n",
      "e    0.730808\n",
      "dtype: float64\n"
     ]
    }
   ],
   "source": [
    "print(s[s > 0.5], '\\n')\n",
    "print(s[s > s.mean()])"
   ]
  },
  {
   "cell_type": "markdown",
   "metadata": {},
   "source": [
    "## 1.2 Zmiana wartości wybranych elementów"
   ]
  },
  {
   "cell_type": "code",
   "execution_count": 47,
   "metadata": {},
   "outputs": [
    {
     "name": "stdout",
     "output_type": "stream",
     "text": [
      "a   -0.210984\n",
      "b   -0.713380\n",
      "c    0.697881\n",
      "i    0.597110\n",
      "e   -0.101130\n",
      "dtype: float64 \n",
      "\n",
      "stara wartosc: -0.21098402330846705\n",
      "nowa wartosc: 10.0 \n",
      "\n",
      "stara wartosc: -0.7133795878557011\n",
      "nowa wartosc: 15.0\n"
     ]
    }
   ],
   "source": [
    "s = Series(np.random.randn(5), index=['a', 'b', 'c', 'i', 'e'])\n",
    "print(s, '\\n')\n",
    "print(\"stara wartosc:\",  s[0])\n",
    "s[0] = 10. \n",
    "print(\"nowa wartosc:\",  s[0], '\\n')\n",
    "\n",
    "print(\"stara wartosc:\",  s['b'])\n",
    "s['b'] = 15. \n",
    "print(\"nowa wartosc:\",  s['b'])"
   ]
  },
  {
   "cell_type": "code",
   "execution_count": 48,
   "metadata": {},
   "outputs": [
    {
     "name": "stdout",
     "output_type": "stream",
     "text": [
      "stare:\n",
      " a    1.134545\n",
      "b   -0.388234\n",
      "c    0.537029\n",
      "i   -0.038518\n",
      "e    0.141370\n",
      "dtype: float64 \n",
      "\n",
      "nowe:\n",
      " a    1.134545\n",
      "b    1.000000\n",
      "c    0.537029\n",
      "i    1.000000\n",
      "e    1.000000\n",
      "dtype: float64\n"
     ]
    }
   ],
   "source": [
    "s = Series(np.random.randn(5), index=['a', 'b', 'c', 'i', 'e'])\n",
    "print(\"stare:\\n\",  s, '\\n')\n",
    "s[s < s.mean()] = 1\n",
    "print(\"nowe:\\n\",  s)"
   ]
  },
  {
   "cell_type": "markdown",
   "metadata": {},
   "source": [
    "## 1.5 Niezdefiniowane wartości, obiekty"
   ]
  },
  {
   "cell_type": "code",
   "execution_count": 49,
   "metadata": {},
   "outputs": [
    {
     "name": "stdout",
     "output_type": "stream",
     "text": [
      "Chicago          1000.0\n",
      "New York         1300.0\n",
      "Portland          900.0\n",
      "San Francisco    1100.0\n",
      "Austin            450.0\n",
      "Boston              NaN\n",
      "dtype: float64 \n",
      "\n",
      "False\n",
      "True\n"
     ]
    }
   ],
   "source": [
    "cities = Series({'Chicago': 1000, 'New York': 1300, 'Portland': 900,\n",
    "                 'San Francisco': 1100, 'Austin': 450, 'Boston': None})\n",
    "print(cities, '\\n')\n",
    "\n",
    "print('Seattle' in cities)\n",
    "print('San Francisco' in cities)"
   ]
  },
  {
   "cell_type": "code",
   "execution_count": 50,
   "metadata": {},
   "outputs": [
    {
     "name": "stdout",
     "output_type": "stream",
     "text": [
      "Chicago          1000.0\n",
      "New York         1300.0\n",
      "Portland          900.0\n",
      "San Francisco    1100.0\n",
      "Austin            450.0\n",
      "Boston              NaN\n",
      "dtype: float64 \n",
      "\n",
      "Chicago           True\n",
      "New York          True\n",
      "Portland          True\n",
      "San Francisco     True\n",
      "Austin            True\n",
      "Boston           False\n",
      "dtype: bool\n"
     ]
    }
   ],
   "source": [
    "print(cities, '\\n')\n",
    "print(cities.notnull()) # które są zdefiniowane"
   ]
  },
  {
   "cell_type": "code",
   "execution_count": 51,
   "metadata": {},
   "outputs": [
    {
     "name": "stdout",
     "output_type": "stream",
     "text": [
      "Chicago          False\n",
      "New York         False\n",
      "Portland         False\n",
      "San Francisco    False\n",
      "Austin           False\n",
      "Boston            True\n",
      "dtype: bool\n"
     ]
    }
   ],
   "source": [
    "print(cities.isnull()) # które nie są zdefiniowane"
   ]
  },
  {
   "cell_type": "code",
   "execution_count": 52,
   "metadata": {},
   "outputs": [
    {
     "name": "stdout",
     "output_type": "stream",
     "text": [
      "Boston   NaN\n",
      "dtype: float64\n",
      "\n",
      "Chicago          False\n",
      "New York         False\n",
      "Portland         False\n",
      "San Francisco    False\n",
      "Austin           False\n",
      "Boston           False\n",
      "dtype: bool\n",
      "\n",
      "Chicago          1000.0\n",
      "New York         1300.0\n",
      "Portland          900.0\n",
      "San Francisco    1100.0\n",
      "Austin            450.0\n",
      "Boston              1.0\n",
      "dtype: float64\n"
     ]
    }
   ],
   "source": [
    "print(cities[cities.isnull()]) # tylko te które nie są zdefiniowane \n",
    "cities[cities.isnull()] = 1\n",
    "print() \n",
    "print(cities.isnull())\n",
    "print()\n",
    "print(cities)"
   ]
  },
  {
   "cell_type": "markdown",
   "metadata": {},
   "source": [
    "# 2. DataFrame\n",
    "\n",
    "<i>DataFrame</i> to struktura danych składa się z wierszy i kolumn, podobna do arkusza kalkulacyjnego, baz danych, tabeli 2-wymiarowej lub data.frame obiektu z języka R.\n",
    "\n",
    "Poniżej przedstawiam kilka sposobów definiowania struktury DataFrame:\n",
    "\n",
    "  * ze słownika list/tablic"
   ]
  },
  {
   "cell_type": "code",
   "execution_count": 53,
   "metadata": {},
   "outputs": [
    {
     "name": "stdout",
     "output_type": "stream",
     "text": [
      "   one  two\n",
      "0  1.0  4.0\n",
      "1  2.0  3.0\n",
      "2  3.0  2.0\n",
      "3  4.0  1.0\n"
     ]
    },
    {
     "data": {
      "text/html": [
       "<div>\n",
       "<style scoped>\n",
       "    .dataframe tbody tr th:only-of-type {\n",
       "        vertical-align: middle;\n",
       "    }\n",
       "\n",
       "    .dataframe tbody tr th {\n",
       "        vertical-align: top;\n",
       "    }\n",
       "\n",
       "    .dataframe thead th {\n",
       "        text-align: right;\n",
       "    }\n",
       "</style>\n",
       "<table border=\"1\" class=\"dataframe\">\n",
       "  <thead>\n",
       "    <tr style=\"text-align: right;\">\n",
       "      <th></th>\n",
       "      <th>one</th>\n",
       "      <th>two</th>\n",
       "    </tr>\n",
       "  </thead>\n",
       "  <tbody>\n",
       "    <tr>\n",
       "      <th>0</th>\n",
       "      <td>1.0</td>\n",
       "      <td>4.0</td>\n",
       "    </tr>\n",
       "    <tr>\n",
       "      <th>1</th>\n",
       "      <td>2.0</td>\n",
       "      <td>3.0</td>\n",
       "    </tr>\n",
       "    <tr>\n",
       "      <th>2</th>\n",
       "      <td>3.0</td>\n",
       "      <td>2.0</td>\n",
       "    </tr>\n",
       "    <tr>\n",
       "      <th>3</th>\n",
       "      <td>4.0</td>\n",
       "      <td>1.0</td>\n",
       "    </tr>\n",
       "  </tbody>\n",
       "</table>\n",
       "</div>"
      ],
      "text/plain": [
       "   one  two\n",
       "0  1.0  4.0\n",
       "1  2.0  3.0\n",
       "2  3.0  2.0\n",
       "3  4.0  1.0"
      ]
     },
     "execution_count": 53,
     "metadata": {},
     "output_type": "execute_result"
    }
   ],
   "source": [
    "d = {'one' : [1., 2., 3., 4.],\n",
    "     'two' : [4., 3., 2., 1.]}\n",
    "print(DataFrame(d))\n",
    "DataFrame(d)"
   ]
  },
  {
   "cell_type": "code",
   "execution_count": 54,
   "metadata": {},
   "outputs": [
    {
     "data": {
      "text/html": [
       "<div>\n",
       "<style scoped>\n",
       "    .dataframe tbody tr th:only-of-type {\n",
       "        vertical-align: middle;\n",
       "    }\n",
       "\n",
       "    .dataframe tbody tr th {\n",
       "        vertical-align: top;\n",
       "    }\n",
       "\n",
       "    .dataframe thead th {\n",
       "        text-align: right;\n",
       "    }\n",
       "</style>\n",
       "<table border=\"1\" class=\"dataframe\">\n",
       "  <thead>\n",
       "    <tr style=\"text-align: right;\">\n",
       "      <th></th>\n",
       "      <th>year</th>\n",
       "      <th>team</th>\n",
       "      <th>wins</th>\n",
       "      <th>losses</th>\n",
       "    </tr>\n",
       "  </thead>\n",
       "  <tbody>\n",
       "    <tr>\n",
       "      <th>0</th>\n",
       "      <td>2010</td>\n",
       "      <td>Bears</td>\n",
       "      <td>11</td>\n",
       "      <td>5</td>\n",
       "    </tr>\n",
       "    <tr>\n",
       "      <th>1</th>\n",
       "      <td>2011</td>\n",
       "      <td>Bears</td>\n",
       "      <td>8</td>\n",
       "      <td>8</td>\n",
       "    </tr>\n",
       "    <tr>\n",
       "      <th>2</th>\n",
       "      <td>2012</td>\n",
       "      <td>Bears</td>\n",
       "      <td>10</td>\n",
       "      <td>6</td>\n",
       "    </tr>\n",
       "    <tr>\n",
       "      <th>3</th>\n",
       "      <td>2011</td>\n",
       "      <td>Packers</td>\n",
       "      <td>15</td>\n",
       "      <td>1</td>\n",
       "    </tr>\n",
       "    <tr>\n",
       "      <th>4</th>\n",
       "      <td>2012</td>\n",
       "      <td>Packers</td>\n",
       "      <td>11</td>\n",
       "      <td>5</td>\n",
       "    </tr>\n",
       "    <tr>\n",
       "      <th>5</th>\n",
       "      <td>2010</td>\n",
       "      <td>Lions</td>\n",
       "      <td>6</td>\n",
       "      <td>10</td>\n",
       "    </tr>\n",
       "    <tr>\n",
       "      <th>6</th>\n",
       "      <td>2011</td>\n",
       "      <td>Lions</td>\n",
       "      <td>10</td>\n",
       "      <td>6</td>\n",
       "    </tr>\n",
       "    <tr>\n",
       "      <th>7</th>\n",
       "      <td>2012</td>\n",
       "      <td>Lions</td>\n",
       "      <td>4</td>\n",
       "      <td>12</td>\n",
       "    </tr>\n",
       "  </tbody>\n",
       "</table>\n",
       "</div>"
      ],
      "text/plain": [
       "   year     team  wins  losses\n",
       "0  2010    Bears    11       5\n",
       "1  2011    Bears     8       8\n",
       "2  2012    Bears    10       6\n",
       "3  2011  Packers    15       1\n",
       "4  2012  Packers    11       5\n",
       "5  2010    Lions     6      10\n",
       "6  2011    Lions    10       6\n",
       "7  2012    Lions     4      12"
      ]
     },
     "execution_count": 54,
     "metadata": {},
     "output_type": "execute_result"
    }
   ],
   "source": [
    "data = {'year': [2010, 2011, 2012, 2011, 2012, 2010, 2011, 2012],\n",
    "        'team': ['Bears', 'Bears', 'Bears', 'Packers', 'Packers', 'Lions', 'Lions', 'Lions'],\n",
    "        'wins': [11, 8, 10, 15, 11, 6, 10, 4],\n",
    "        'losses': [5, 8, 6, 1, 5, 10, 6, 12]}\n",
    "football = pd.DataFrame(data, columns=['year', 'team', 'wins', 'losses'])\n",
    "football"
   ]
  },
  {
   "cell_type": "markdown",
   "metadata": {},
   "source": [
    "## 2.1 Podstawowe informacje\n",
    "Biblioteka pandas ma wiele funkcji, które dostarczają nam podstawowej informacji na DataFrame. Jedną z takich funkcji jest metoda **info**."
   ]
  },
  {
   "cell_type": "code",
   "execution_count": 55,
   "metadata": {},
   "outputs": [
    {
     "name": "stdout",
     "output_type": "stream",
     "text": [
      "<class 'pandas.core.frame.DataFrame'>\n",
      "RangeIndex: 2 entries, 0 to 1\n",
      "Data columns (total 3 columns):\n",
      " #   Column  Non-Null Count  Dtype  \n",
      "---  ------  --------------  -----  \n",
      " 0   a       2 non-null      int64  \n",
      " 1   b       2 non-null      int64  \n",
      " 2   c       1 non-null      float64\n",
      "dtypes: float64(1), int64(2)\n",
      "memory usage: 176.0 bytes\n"
     ]
    }
   ],
   "source": [
    "data = [{'a': 1, 'b': 2}, \n",
    "         {'a': 5, 'b': 10, 'c': 20}]\n",
    "df = DataFrame(data)\n",
    "\n",
    "df.info()"
   ]
  },
  {
   "cell_type": "markdown",
   "metadata": {},
   "source": [
    "## 2.2 Wybieranie rekordów, kolumn, elementów\n",
    "\n",
    "Jak już wspomniałem strukturę DataFrame możemy traktować jako grupę/tablicę serii, które dzielą indeks (w tym przypadku nagłówki kolumn). Dzięki temu możemy w łatwy sposób wybrać konkretne rekordy."
   ]
  },
  {
   "cell_type": "code",
   "execution_count": 56,
   "metadata": {},
   "outputs": [
    {
     "name": "stdout",
     "output_type": "stream",
     "text": [
      "   year     team  wins  losses\n",
      "0  2010    Bears    11       5\n",
      "1  2011    Bears     8       8\n",
      "2  2012    Bears    10       6\n",
      "3  2011  Packers    15       1\n",
      "4  2012  Packers    11       5\n",
      "5  2010    Lions     6      10\n",
      "6  2011    Lions    10       6\n",
      "7  2012    Lions     4      12\n"
     ]
    },
    {
     "data": {
      "text/html": [
       "<div>\n",
       "<style scoped>\n",
       "    .dataframe tbody tr th:only-of-type {\n",
       "        vertical-align: middle;\n",
       "    }\n",
       "\n",
       "    .dataframe tbody tr th {\n",
       "        vertical-align: top;\n",
       "    }\n",
       "\n",
       "    .dataframe thead th {\n",
       "        text-align: right;\n",
       "    }\n",
       "</style>\n",
       "<table border=\"1\" class=\"dataframe\">\n",
       "  <thead>\n",
       "    <tr style=\"text-align: right;\">\n",
       "      <th></th>\n",
       "      <th>year</th>\n",
       "      <th>team</th>\n",
       "      <th>wins</th>\n",
       "      <th>losses</th>\n",
       "    </tr>\n",
       "  </thead>\n",
       "  <tbody>\n",
       "    <tr>\n",
       "      <th>0</th>\n",
       "      <td>2010</td>\n",
       "      <td>Bears</td>\n",
       "      <td>11</td>\n",
       "      <td>5</td>\n",
       "    </tr>\n",
       "    <tr>\n",
       "      <th>1</th>\n",
       "      <td>2011</td>\n",
       "      <td>Bears</td>\n",
       "      <td>8</td>\n",
       "      <td>8</td>\n",
       "    </tr>\n",
       "    <tr>\n",
       "      <th>2</th>\n",
       "      <td>2012</td>\n",
       "      <td>Bears</td>\n",
       "      <td>10</td>\n",
       "      <td>6</td>\n",
       "    </tr>\n",
       "  </tbody>\n",
       "</table>\n",
       "</div>"
      ],
      "text/plain": [
       "   year   team  wins  losses\n",
       "0  2010  Bears    11       5\n",
       "1  2011  Bears     8       8\n",
       "2  2012  Bears    10       6"
      ]
     },
     "execution_count": 56,
     "metadata": {},
     "output_type": "execute_result"
    }
   ],
   "source": [
    "data = {'year': [2010, 2011, 2012, 2011, 2012, 2010, 2011, 2012],\n",
    "        'team': ['Bears', 'Bears', 'Bears', 'Packers', 'Packers', 'Lions', 'Lions', 'Lions'],\n",
    "        'wins': [11, 8, 10, 15, 11, 6, 10, 4],\n",
    "        'losses': [5, 8, 6, 1, 5, 10, 6, 12]}\n",
    "football = pd.DataFrame(data, columns=['year', 'team', 'wins', 'losses'])\n",
    "print (football)\n",
    "\n",
    "football.head(3)"
   ]
  },
  {
   "cell_type": "code",
   "execution_count": 57,
   "metadata": {},
   "outputs": [
    {
     "data": {
      "text/plain": [
       "0    2010\n",
       "1    2011\n",
       "2    2012\n",
       "3    2011\n",
       "Name: year, dtype: int64"
      ]
     },
     "execution_count": 57,
     "metadata": {},
     "output_type": "execute_result"
    }
   ],
   "source": [
    "football['year'].head(4)"
   ]
  },
  {
   "cell_type": "code",
   "execution_count": 58,
   "metadata": {},
   "outputs": [
    {
     "data": {
      "text/html": [
       "<div>\n",
       "<style scoped>\n",
       "    .dataframe tbody tr th:only-of-type {\n",
       "        vertical-align: middle;\n",
       "    }\n",
       "\n",
       "    .dataframe tbody tr th {\n",
       "        vertical-align: top;\n",
       "    }\n",
       "\n",
       "    .dataframe thead th {\n",
       "        text-align: right;\n",
       "    }\n",
       "</style>\n",
       "<table border=\"1\" class=\"dataframe\">\n",
       "  <thead>\n",
       "    <tr style=\"text-align: right;\">\n",
       "      <th></th>\n",
       "      <th>year</th>\n",
       "      <th>team</th>\n",
       "      <th>wins</th>\n",
       "      <th>losses</th>\n",
       "    </tr>\n",
       "  </thead>\n",
       "  <tbody>\n",
       "    <tr>\n",
       "      <th>5</th>\n",
       "      <td>2010</td>\n",
       "      <td>Lions</td>\n",
       "      <td>6</td>\n",
       "      <td>10</td>\n",
       "    </tr>\n",
       "    <tr>\n",
       "      <th>6</th>\n",
       "      <td>2011</td>\n",
       "      <td>Lions</td>\n",
       "      <td>10</td>\n",
       "      <td>6</td>\n",
       "    </tr>\n",
       "    <tr>\n",
       "      <th>7</th>\n",
       "      <td>2012</td>\n",
       "      <td>Lions</td>\n",
       "      <td>4</td>\n",
       "      <td>12</td>\n",
       "    </tr>\n",
       "  </tbody>\n",
       "</table>\n",
       "</div>"
      ],
      "text/plain": [
       "   year   team  wins  losses\n",
       "5  2010  Lions     6      10\n",
       "6  2011  Lions    10       6\n",
       "7  2012  Lions     4      12"
      ]
     },
     "execution_count": 58,
     "metadata": {},
     "output_type": "execute_result"
    }
   ],
   "source": [
    "football.tail(3)"
   ]
  },
  {
   "cell_type": "markdown",
   "metadata": {},
   "source": [
    "Możemy też modyfikować DataFrame na podstawie wybranej kolumny."
   ]
  },
  {
   "cell_type": "code",
   "execution_count": 59,
   "metadata": {},
   "outputs": [
    {
     "data": {
      "text/html": [
       "<div>\n",
       "<style scoped>\n",
       "    .dataframe tbody tr th:only-of-type {\n",
       "        vertical-align: middle;\n",
       "    }\n",
       "\n",
       "    .dataframe tbody tr th {\n",
       "        vertical-align: top;\n",
       "    }\n",
       "\n",
       "    .dataframe thead th {\n",
       "        text-align: right;\n",
       "    }\n",
       "</style>\n",
       "<table border=\"1\" class=\"dataframe\">\n",
       "  <thead>\n",
       "    <tr style=\"text-align: right;\">\n",
       "      <th></th>\n",
       "      <th>year</th>\n",
       "      <th>wins</th>\n",
       "      <th>losses</th>\n",
       "    </tr>\n",
       "    <tr>\n",
       "      <th>team</th>\n",
       "      <th></th>\n",
       "      <th></th>\n",
       "      <th></th>\n",
       "    </tr>\n",
       "  </thead>\n",
       "  <tbody>\n",
       "    <tr>\n",
       "      <th>Bears</th>\n",
       "      <td>2010</td>\n",
       "      <td>11</td>\n",
       "      <td>5</td>\n",
       "    </tr>\n",
       "    <tr>\n",
       "      <th>Bears</th>\n",
       "      <td>2011</td>\n",
       "      <td>8</td>\n",
       "      <td>8</td>\n",
       "    </tr>\n",
       "    <tr>\n",
       "      <th>Bears</th>\n",
       "      <td>2012</td>\n",
       "      <td>10</td>\n",
       "      <td>6</td>\n",
       "    </tr>\n",
       "    <tr>\n",
       "      <th>Packers</th>\n",
       "      <td>2011</td>\n",
       "      <td>15</td>\n",
       "      <td>1</td>\n",
       "    </tr>\n",
       "    <tr>\n",
       "      <th>Packers</th>\n",
       "      <td>2012</td>\n",
       "      <td>11</td>\n",
       "      <td>5</td>\n",
       "    </tr>\n",
       "    <tr>\n",
       "      <th>Lions</th>\n",
       "      <td>2010</td>\n",
       "      <td>6</td>\n",
       "      <td>10</td>\n",
       "    </tr>\n",
       "    <tr>\n",
       "      <th>Lions</th>\n",
       "      <td>2011</td>\n",
       "      <td>10</td>\n",
       "      <td>6</td>\n",
       "    </tr>\n",
       "    <tr>\n",
       "      <th>Lions</th>\n",
       "      <td>2012</td>\n",
       "      <td>4</td>\n",
       "      <td>12</td>\n",
       "    </tr>\n",
       "  </tbody>\n",
       "</table>\n",
       "</div>"
      ],
      "text/plain": [
       "         year  wins  losses\n",
       "team                       \n",
       "Bears    2010    11       5\n",
       "Bears    2011     8       8\n",
       "Bears    2012    10       6\n",
       "Packers  2011    15       1\n",
       "Packers  2012    11       5\n",
       "Lions    2010     6      10\n",
       "Lions    2011    10       6\n",
       "Lions    2012     4      12"
      ]
     },
     "execution_count": 59,
     "metadata": {},
     "output_type": "execute_result"
    }
   ],
   "source": [
    "football.set_index('team')"
   ]
  },
  {
   "cell_type": "markdown",
   "metadata": {},
   "source": [
    "Aby wybrać którąś z kolumn należy użyć jej nazwy:"
   ]
  },
  {
   "cell_type": "code",
   "execution_count": 60,
   "metadata": {},
   "outputs": [
    {
     "data": {
      "text/plain": [
       "0    2010\n",
       "1    2011\n",
       "2    2012\n",
       "3    2011\n",
       "4    2012\n",
       "5    2010\n",
       "6    2011\n",
       "7    2012\n",
       "Name: year, dtype: int64"
      ]
     },
     "execution_count": 60,
     "metadata": {},
     "output_type": "execute_result"
    }
   ],
   "source": [
    "data = {'year': [2010, 2011, 2012, 2011, 2012, 2010, 2011, 2012],\n",
    "        'team': ['Bears', 'Bears', 'Bears', 'Packers', 'Packers', 'Lions', 'Lions', 'Lions'],\n",
    "        'wins': [11, 8, 10, 15, 11, 6, 10, 4],\n",
    "        'losses': [5, 8, 6, 1, 5, 10, 6, 12]}\n",
    "football = pd.DataFrame(data, columns=['year', 'team', 'wins', 'losses'])\n",
    "\n",
    "football['year'] # wybieramy kolumnę 'year'"
   ]
  },
  {
   "cell_type": "code",
   "execution_count": 61,
   "metadata": {},
   "outputs": [
    {
     "data": {
      "text/plain": [
       "0    2010\n",
       "1    2011\n",
       "2    2012\n",
       "3    2011\n",
       "4    2012\n",
       "5    2010\n",
       "6    2011\n",
       "7    2012\n",
       "Name: year, dtype: int64"
      ]
     },
     "execution_count": 61,
     "metadata": {},
     "output_type": "execute_result"
    }
   ],
   "source": [
    "football.year"
   ]
  },
  {
   "cell_type": "code",
   "execution_count": 62,
   "metadata": {},
   "outputs": [
    {
     "data": {
      "text/html": [
       "<div>\n",
       "<style scoped>\n",
       "    .dataframe tbody tr th:only-of-type {\n",
       "        vertical-align: middle;\n",
       "    }\n",
       "\n",
       "    .dataframe tbody tr th {\n",
       "        vertical-align: top;\n",
       "    }\n",
       "\n",
       "    .dataframe thead th {\n",
       "        text-align: right;\n",
       "    }\n",
       "</style>\n",
       "<table border=\"1\" class=\"dataframe\">\n",
       "  <thead>\n",
       "    <tr style=\"text-align: right;\">\n",
       "      <th></th>\n",
       "      <th>year</th>\n",
       "      <th>wins</th>\n",
       "    </tr>\n",
       "  </thead>\n",
       "  <tbody>\n",
       "    <tr>\n",
       "      <th>0</th>\n",
       "      <td>2010</td>\n",
       "      <td>11</td>\n",
       "    </tr>\n",
       "    <tr>\n",
       "      <th>1</th>\n",
       "      <td>2011</td>\n",
       "      <td>8</td>\n",
       "    </tr>\n",
       "    <tr>\n",
       "      <th>2</th>\n",
       "      <td>2012</td>\n",
       "      <td>10</td>\n",
       "    </tr>\n",
       "    <tr>\n",
       "      <th>3</th>\n",
       "      <td>2011</td>\n",
       "      <td>15</td>\n",
       "    </tr>\n",
       "    <tr>\n",
       "      <th>4</th>\n",
       "      <td>2012</td>\n",
       "      <td>11</td>\n",
       "    </tr>\n",
       "    <tr>\n",
       "      <th>5</th>\n",
       "      <td>2010</td>\n",
       "      <td>6</td>\n",
       "    </tr>\n",
       "    <tr>\n",
       "      <th>6</th>\n",
       "      <td>2011</td>\n",
       "      <td>10</td>\n",
       "    </tr>\n",
       "    <tr>\n",
       "      <th>7</th>\n",
       "      <td>2012</td>\n",
       "      <td>4</td>\n",
       "    </tr>\n",
       "  </tbody>\n",
       "</table>\n",
       "</div>"
      ],
      "text/plain": [
       "   year  wins\n",
       "0  2010    11\n",
       "1  2011     8\n",
       "2  2012    10\n",
       "3  2011    15\n",
       "4  2012    11\n",
       "5  2010     6\n",
       "6  2011    10\n",
       "7  2012     4"
      ]
     },
     "execution_count": 62,
     "metadata": {},
     "output_type": "execute_result"
    }
   ],
   "source": [
    "football[['year', 'wins']]"
   ]
  },
  {
   "cell_type": "markdown",
   "metadata": {},
   "source": [
    "Do wybierania wierszy/obserwacji służy funkcja **loc** (indeksowanie oparte na etykietach) lub **iloc** (indeksowanie oparte na pozycji)."
   ]
  },
  {
   "cell_type": "code",
   "execution_count": 63,
   "metadata": {},
   "outputs": [
    {
     "data": {
      "text/plain": [
       "year       2010\n",
       "team      Bears\n",
       "wins         11\n",
       "losses        5\n",
       "Name: 0, dtype: object"
      ]
     },
     "execution_count": 63,
     "metadata": {},
     "output_type": "execute_result"
    }
   ],
   "source": [
    "football.loc[0]"
   ]
  },
  {
   "cell_type": "code",
   "execution_count": 64,
   "metadata": {},
   "outputs": [
    {
     "data": {
      "text/html": [
       "<div>\n",
       "<style scoped>\n",
       "    .dataframe tbody tr th:only-of-type {\n",
       "        vertical-align: middle;\n",
       "    }\n",
       "\n",
       "    .dataframe tbody tr th {\n",
       "        vertical-align: top;\n",
       "    }\n",
       "\n",
       "    .dataframe thead th {\n",
       "        text-align: right;\n",
       "    }\n",
       "</style>\n",
       "<table border=\"1\" class=\"dataframe\">\n",
       "  <thead>\n",
       "    <tr style=\"text-align: right;\">\n",
       "      <th></th>\n",
       "      <th>year</th>\n",
       "      <th>team</th>\n",
       "      <th>wins</th>\n",
       "      <th>losses</th>\n",
       "    </tr>\n",
       "  </thead>\n",
       "  <tbody>\n",
       "    <tr>\n",
       "      <th>0</th>\n",
       "      <td>2010</td>\n",
       "      <td>Bears</td>\n",
       "      <td>11</td>\n",
       "      <td>5</td>\n",
       "    </tr>\n",
       "    <tr>\n",
       "      <th>3</th>\n",
       "      <td>2011</td>\n",
       "      <td>Packers</td>\n",
       "      <td>15</td>\n",
       "      <td>1</td>\n",
       "    </tr>\n",
       "  </tbody>\n",
       "</table>\n",
       "</div>"
      ],
      "text/plain": [
       "   year     team  wins  losses\n",
       "0  2010    Bears    11       5\n",
       "3  2011  Packers    15       1"
      ]
     },
     "execution_count": 64,
     "metadata": {},
     "output_type": "execute_result"
    }
   ],
   "source": [
    "football.loc[[0,3]]"
   ]
  },
  {
   "cell_type": "markdown",
   "metadata": {},
   "source": [
    "# 2.3 Podstawowe operacje na DataFrame"
   ]
  },
  {
   "cell_type": "code",
   "execution_count": 65,
   "metadata": {},
   "outputs": [
    {
     "data": {
      "text/html": [
       "<div>\n",
       "<style scoped>\n",
       "    .dataframe tbody tr th:only-of-type {\n",
       "        vertical-align: middle;\n",
       "    }\n",
       "\n",
       "    .dataframe tbody tr th {\n",
       "        vertical-align: top;\n",
       "    }\n",
       "\n",
       "    .dataframe thead th {\n",
       "        text-align: right;\n",
       "    }\n",
       "</style>\n",
       "<table border=\"1\" class=\"dataframe\">\n",
       "  <thead>\n",
       "    <tr style=\"text-align: right;\">\n",
       "      <th></th>\n",
       "      <th>year</th>\n",
       "      <th>team</th>\n",
       "      <th>wins</th>\n",
       "      <th>losses</th>\n",
       "    </tr>\n",
       "  </thead>\n",
       "  <tbody>\n",
       "    <tr>\n",
       "      <th>0</th>\n",
       "      <td>2010</td>\n",
       "      <td>Bears</td>\n",
       "      <td>11</td>\n",
       "      <td>5</td>\n",
       "    </tr>\n",
       "    <tr>\n",
       "      <th>3</th>\n",
       "      <td>2011</td>\n",
       "      <td>Packers</td>\n",
       "      <td>15</td>\n",
       "      <td>1</td>\n",
       "    </tr>\n",
       "    <tr>\n",
       "      <th>4</th>\n",
       "      <td>2012</td>\n",
       "      <td>Packers</td>\n",
       "      <td>11</td>\n",
       "      <td>5</td>\n",
       "    </tr>\n",
       "  </tbody>\n",
       "</table>\n",
       "</div>"
      ],
      "text/plain": [
       "   year     team  wins  losses\n",
       "0  2010    Bears    11       5\n",
       "3  2011  Packers    15       1\n",
       "4  2012  Packers    11       5"
      ]
     },
     "execution_count": 65,
     "metadata": {},
     "output_type": "execute_result"
    }
   ],
   "source": [
    "football[football.wins > 10]"
   ]
  },
  {
   "cell_type": "code",
   "execution_count": 66,
   "metadata": {},
   "outputs": [
    {
     "data": {
      "text/plain": [
       "15"
      ]
     },
     "execution_count": 66,
     "metadata": {},
     "output_type": "execute_result"
    }
   ],
   "source": [
    "football['wins'].max()"
   ]
  },
  {
   "cell_type": "code",
   "execution_count": 67,
   "metadata": {},
   "outputs": [
    {
     "data": {
      "text/plain": [
       "wins      9.375\n",
       "losses    6.625\n",
       "dtype: float64"
      ]
     },
     "execution_count": 67,
     "metadata": {},
     "output_type": "execute_result"
    }
   ],
   "source": [
    "football[['wins', 'losses']].mean()"
   ]
  },
  {
   "cell_type": "code",
   "execution_count": 68,
   "metadata": {},
   "outputs": [
    {
     "data": {
      "text/html": [
       "<div>\n",
       "<style scoped>\n",
       "    .dataframe tbody tr th:only-of-type {\n",
       "        vertical-align: middle;\n",
       "    }\n",
       "\n",
       "    .dataframe tbody tr th {\n",
       "        vertical-align: top;\n",
       "    }\n",
       "\n",
       "    .dataframe thead th {\n",
       "        text-align: right;\n",
       "    }\n",
       "</style>\n",
       "<table border=\"1\" class=\"dataframe\">\n",
       "  <thead>\n",
       "    <tr style=\"text-align: right;\">\n",
       "      <th></th>\n",
       "      <th>year</th>\n",
       "      <th>team</th>\n",
       "      <th>wins</th>\n",
       "      <th>losses</th>\n",
       "    </tr>\n",
       "  </thead>\n",
       "  <tbody>\n",
       "    <tr>\n",
       "      <th>0</th>\n",
       "      <td>2010</td>\n",
       "      <td>Bears</td>\n",
       "      <td>0</td>\n",
       "      <td>5</td>\n",
       "    </tr>\n",
       "    <tr>\n",
       "      <th>1</th>\n",
       "      <td>2011</td>\n",
       "      <td>Bears</td>\n",
       "      <td>0</td>\n",
       "      <td>8</td>\n",
       "    </tr>\n",
       "    <tr>\n",
       "      <th>2</th>\n",
       "      <td>2012</td>\n",
       "      <td>Bears</td>\n",
       "      <td>0</td>\n",
       "      <td>6</td>\n",
       "    </tr>\n",
       "    <tr>\n",
       "      <th>3</th>\n",
       "      <td>2011</td>\n",
       "      <td>Packers</td>\n",
       "      <td>0</td>\n",
       "      <td>1</td>\n",
       "    </tr>\n",
       "    <tr>\n",
       "      <th>4</th>\n",
       "      <td>2012</td>\n",
       "      <td>Packers</td>\n",
       "      <td>0</td>\n",
       "      <td>5</td>\n",
       "    </tr>\n",
       "    <tr>\n",
       "      <th>5</th>\n",
       "      <td>2010</td>\n",
       "      <td>Lions</td>\n",
       "      <td>0</td>\n",
       "      <td>0</td>\n",
       "    </tr>\n",
       "    <tr>\n",
       "      <th>6</th>\n",
       "      <td>2011</td>\n",
       "      <td>Lions</td>\n",
       "      <td>0</td>\n",
       "      <td>6</td>\n",
       "    </tr>\n",
       "    <tr>\n",
       "      <th>7</th>\n",
       "      <td>2012</td>\n",
       "      <td>Lions</td>\n",
       "      <td>0</td>\n",
       "      <td>12</td>\n",
       "    </tr>\n",
       "  </tbody>\n",
       "</table>\n",
       "</div>"
      ],
      "text/plain": [
       "   year     team  wins  losses\n",
       "0  2010    Bears     0       5\n",
       "1  2011    Bears     0       8\n",
       "2  2012    Bears     0       6\n",
       "3  2011  Packers     0       1\n",
       "4  2012  Packers     0       5\n",
       "5  2010    Lions     0       0\n",
       "6  2011    Lions     0       6\n",
       "7  2012    Lions     0      12"
      ]
     },
     "execution_count": 68,
     "metadata": {},
     "output_type": "execute_result"
    }
   ],
   "source": [
    "football['wins'] = 0\n",
    "football.at[5, 'losses'] = 0\n",
    "football"
   ]
  },
  {
   "cell_type": "markdown",
   "metadata": {},
   "source": [
    "## 2.6 Importowanie i eksportowanie danych\n",
    "\n",
    "  * eksport to CSV:"
   ]
  },
  {
   "cell_type": "code",
   "execution_count": 69,
   "metadata": {},
   "outputs": [],
   "source": [
    "data = {'year': [2010, 2011, 2012, 2011, 2012, 2010, 2011, 2012],\n",
    "        'team': ['Bears', 'Bears', 'Bears', 'Packers', 'Packers', 'Lions', 'Lions', 'Lions'],\n",
    "        'wins': [11, 8, 10, 15, 11, 6, 10, 4],\n",
    "        'losses': [5, 8, 6, 1, 5, 10, 6, 12]}\n",
    "football = pd.DataFrame(data, columns=['year', 'team', 'wins', 'losses'])\n",
    "\n",
    "football.to_csv('dane.csv', index=False)"
   ]
  },
  {
   "cell_type": "markdown",
   "metadata": {},
   "source": [
    "  * import z CSV:"
   ]
  },
  {
   "cell_type": "code",
   "execution_count": 70,
   "metadata": {},
   "outputs": [
    {
     "data": {
      "text/html": [
       "<div>\n",
       "<style scoped>\n",
       "    .dataframe tbody tr th:only-of-type {\n",
       "        vertical-align: middle;\n",
       "    }\n",
       "\n",
       "    .dataframe tbody tr th {\n",
       "        vertical-align: top;\n",
       "    }\n",
       "\n",
       "    .dataframe thead th {\n",
       "        text-align: right;\n",
       "    }\n",
       "</style>\n",
       "<table border=\"1\" class=\"dataframe\">\n",
       "  <thead>\n",
       "    <tr style=\"text-align: right;\">\n",
       "      <th></th>\n",
       "      <th>year</th>\n",
       "      <th>team</th>\n",
       "      <th>wins</th>\n",
       "      <th>losses</th>\n",
       "    </tr>\n",
       "  </thead>\n",
       "  <tbody>\n",
       "    <tr>\n",
       "      <th>0</th>\n",
       "      <td>2010</td>\n",
       "      <td>Bears</td>\n",
       "      <td>11</td>\n",
       "      <td>5</td>\n",
       "    </tr>\n",
       "    <tr>\n",
       "      <th>1</th>\n",
       "      <td>2011</td>\n",
       "      <td>Bears</td>\n",
       "      <td>8</td>\n",
       "      <td>8</td>\n",
       "    </tr>\n",
       "    <tr>\n",
       "      <th>2</th>\n",
       "      <td>2012</td>\n",
       "      <td>Bears</td>\n",
       "      <td>10</td>\n",
       "      <td>6</td>\n",
       "    </tr>\n",
       "    <tr>\n",
       "      <th>3</th>\n",
       "      <td>2011</td>\n",
       "      <td>Packers</td>\n",
       "      <td>15</td>\n",
       "      <td>1</td>\n",
       "    </tr>\n",
       "    <tr>\n",
       "      <th>4</th>\n",
       "      <td>2012</td>\n",
       "      <td>Packers</td>\n",
       "      <td>11</td>\n",
       "      <td>5</td>\n",
       "    </tr>\n",
       "    <tr>\n",
       "      <th>5</th>\n",
       "      <td>2010</td>\n",
       "      <td>Lions</td>\n",
       "      <td>6</td>\n",
       "      <td>10</td>\n",
       "    </tr>\n",
       "    <tr>\n",
       "      <th>6</th>\n",
       "      <td>2011</td>\n",
       "      <td>Lions</td>\n",
       "      <td>10</td>\n",
       "      <td>6</td>\n",
       "    </tr>\n",
       "    <tr>\n",
       "      <th>7</th>\n",
       "      <td>2012</td>\n",
       "      <td>Lions</td>\n",
       "      <td>4</td>\n",
       "      <td>12</td>\n",
       "    </tr>\n",
       "  </tbody>\n",
       "</table>\n",
       "</div>"
      ],
      "text/plain": [
       "   year     team  wins  losses\n",
       "0  2010    Bears    11       5\n",
       "1  2011    Bears     8       8\n",
       "2  2012    Bears    10       6\n",
       "3  2011  Packers    15       1\n",
       "4  2012  Packers    11       5\n",
       "5  2010    Lions     6      10\n",
       "6  2011    Lions    10       6\n",
       "7  2012    Lions     4      12"
      ]
     },
     "execution_count": 70,
     "metadata": {},
     "output_type": "execute_result"
    }
   ],
   "source": [
    "pd.read_csv('dane.csv')"
   ]
  },
  {
   "cell_type": "markdown",
   "metadata": {},
   "source": [
    "Więcej informacji na temat biblioteki pandas można znaleźć tutaj: [http://pandas.pydata.org]"
   ]
  },
  {
   "cell_type": "markdown",
   "metadata": {},
   "source": [
    "# Zadanie 5\n",
    "\n",
    "Zaimportuj dane z pliku ,,airports.csv'' i wykonaj na nich poniższe polecenia:\n",
    "\n",
    "  * wybierz nazwy państw ostatnich 12 lotnisk w tabeli,\n",
    "  * wybierz wiersz o indeksie 1 korzystając z indeksera .loc oraz .iloc (porównaj otrzymane wyniki),\n",
    "  * wybierz wszystkie lotniska w Polsce,\n",
    "  * wybierz wszystkie lotniska, których nazwa różni się od nazwy miasta, w którym się znajdują.\n",
    "  * przelicz wartości wysokości na metry i zapisz zmodyfikowaną kolumnę w miejsce starej (w naszej tabeli wysokość jest podana w   * stopach nad poziomem morza; jedna stopa angielska równa się 30,48 cm),\n",
    "  * znajdź wszystkie państwa, w których znajduje się wyłącznie 1 lotnisko (zobacz procedurę .unique())."
   ]
  },
  {
   "cell_type": "code",
   "execution_count": 17,
   "metadata": {},
   "outputs": [
    {
     "data": {
      "text/html": [
       "<div>\n",
       "<style scoped>\n",
       "    .dataframe tbody tr th:only-of-type {\n",
       "        vertical-align: middle;\n",
       "    }\n",
       "\n",
       "    .dataframe tbody tr th {\n",
       "        vertical-align: top;\n",
       "    }\n",
       "\n",
       "    .dataframe thead th {\n",
       "        text-align: right;\n",
       "    }\n",
       "</style>\n",
       "<table border=\"1\" class=\"dataframe\">\n",
       "  <thead>\n",
       "    <tr style=\"text-align: right;\">\n",
       "      <th></th>\n",
       "      <th>0</th>\n",
       "      <th>1</th>\n",
       "      <th>2</th>\n",
       "      <th>3</th>\n",
       "      <th>4</th>\n",
       "      <th>5</th>\n",
       "      <th>6</th>\n",
       "      <th>7</th>\n",
       "      <th>8</th>\n",
       "      <th>9</th>\n",
       "      <th>10</th>\n",
       "      <th>11</th>\n",
       "    </tr>\n",
       "  </thead>\n",
       "  <tbody>\n",
       "    <tr>\n",
       "      <th>0</th>\n",
       "      <td>1</td>\n",
       "      <td>Goroka</td>\n",
       "      <td>Goroka</td>\n",
       "      <td>Papua New Guinea</td>\n",
       "      <td>GKA</td>\n",
       "      <td>AYGA</td>\n",
       "      <td>-6.081689</td>\n",
       "      <td>145.391881</td>\n",
       "      <td>5282</td>\n",
       "      <td>10.0</td>\n",
       "      <td>U</td>\n",
       "      <td>Pacific/Port_Moresby</td>\n",
       "    </tr>\n",
       "    <tr>\n",
       "      <th>1</th>\n",
       "      <td>2</td>\n",
       "      <td>Madang</td>\n",
       "      <td>Madang</td>\n",
       "      <td>Papua New Guinea</td>\n",
       "      <td>MAG</td>\n",
       "      <td>AYMD</td>\n",
       "      <td>-5.207083</td>\n",
       "      <td>145.788700</td>\n",
       "      <td>20</td>\n",
       "      <td>10.0</td>\n",
       "      <td>U</td>\n",
       "      <td>Pacific/Port_Moresby</td>\n",
       "    </tr>\n",
       "    <tr>\n",
       "      <th>2</th>\n",
       "      <td>3</td>\n",
       "      <td>Mount Hagen</td>\n",
       "      <td>Mount Hagen</td>\n",
       "      <td>Papua New Guinea</td>\n",
       "      <td>HGU</td>\n",
       "      <td>AYMH</td>\n",
       "      <td>-5.826789</td>\n",
       "      <td>144.295861</td>\n",
       "      <td>5388</td>\n",
       "      <td>10.0</td>\n",
       "      <td>U</td>\n",
       "      <td>Pacific/Port_Moresby</td>\n",
       "    </tr>\n",
       "    <tr>\n",
       "      <th>3</th>\n",
       "      <td>4</td>\n",
       "      <td>Nadzab</td>\n",
       "      <td>Nadzab</td>\n",
       "      <td>Papua New Guinea</td>\n",
       "      <td>LAE</td>\n",
       "      <td>AYNZ</td>\n",
       "      <td>-6.569828</td>\n",
       "      <td>146.726242</td>\n",
       "      <td>239</td>\n",
       "      <td>10.0</td>\n",
       "      <td>U</td>\n",
       "      <td>Pacific/Port_Moresby</td>\n",
       "    </tr>\n",
       "    <tr>\n",
       "      <th>4</th>\n",
       "      <td>5</td>\n",
       "      <td>Port Moresby Jacksons Intl</td>\n",
       "      <td>Port Moresby</td>\n",
       "      <td>Papua New Guinea</td>\n",
       "      <td>POM</td>\n",
       "      <td>AYPY</td>\n",
       "      <td>-9.443383</td>\n",
       "      <td>147.220050</td>\n",
       "      <td>146</td>\n",
       "      <td>10.0</td>\n",
       "      <td>U</td>\n",
       "      <td>Pacific/Port_Moresby</td>\n",
       "    </tr>\n",
       "    <tr>\n",
       "      <th>...</th>\n",
       "      <td>...</td>\n",
       "      <td>...</td>\n",
       "      <td>...</td>\n",
       "      <td>...</td>\n",
       "      <td>...</td>\n",
       "      <td>...</td>\n",
       "      <td>...</td>\n",
       "      <td>...</td>\n",
       "      <td>...</td>\n",
       "      <td>...</td>\n",
       "      <td>...</td>\n",
       "      <td>...</td>\n",
       "    </tr>\n",
       "    <tr>\n",
       "      <th>8102</th>\n",
       "      <td>9537</td>\n",
       "      <td>Mansons Landing Water Aerodrome</td>\n",
       "      <td>Mansons Landing</td>\n",
       "      <td>Canada</td>\n",
       "      <td>YMU</td>\n",
       "      <td>\\N</td>\n",
       "      <td>50.066667</td>\n",
       "      <td>-124.983333</td>\n",
       "      <td>0</td>\n",
       "      <td>-8.0</td>\n",
       "      <td>A</td>\n",
       "      <td>America/Vancouver</td>\n",
       "    </tr>\n",
       "    <tr>\n",
       "      <th>8103</th>\n",
       "      <td>9538</td>\n",
       "      <td>Port McNeill Airport</td>\n",
       "      <td>Port McNeill</td>\n",
       "      <td>Canada</td>\n",
       "      <td>YMP</td>\n",
       "      <td>\\N</td>\n",
       "      <td>50.575556</td>\n",
       "      <td>-127.028611</td>\n",
       "      <td>225</td>\n",
       "      <td>-8.0</td>\n",
       "      <td>A</td>\n",
       "      <td>America/Vancouver</td>\n",
       "    </tr>\n",
       "    <tr>\n",
       "      <th>8104</th>\n",
       "      <td>9539</td>\n",
       "      <td>Sullivan Bay Water Aerodrome</td>\n",
       "      <td>Sullivan Bay</td>\n",
       "      <td>Canada</td>\n",
       "      <td>YTG</td>\n",
       "      <td>\\N</td>\n",
       "      <td>50.883333</td>\n",
       "      <td>-126.833333</td>\n",
       "      <td>0</td>\n",
       "      <td>-8.0</td>\n",
       "      <td>A</td>\n",
       "      <td>America/Vancouver</td>\n",
       "    </tr>\n",
       "    <tr>\n",
       "      <th>8105</th>\n",
       "      <td>9540</td>\n",
       "      <td>Deer Harbor Seaplane</td>\n",
       "      <td>Deer Harbor</td>\n",
       "      <td>United States</td>\n",
       "      <td>DHB</td>\n",
       "      <td>\\N</td>\n",
       "      <td>48.618397</td>\n",
       "      <td>-123.005960</td>\n",
       "      <td>0</td>\n",
       "      <td>-8.0</td>\n",
       "      <td>A</td>\n",
       "      <td>America/Los_Angeles</td>\n",
       "    </tr>\n",
       "    <tr>\n",
       "      <th>8106</th>\n",
       "      <td>9541</td>\n",
       "      <td>San Diego Old Town Transit Center</td>\n",
       "      <td>San Diego</td>\n",
       "      <td>United States</td>\n",
       "      <td>OLT</td>\n",
       "      <td>\\N</td>\n",
       "      <td>32.755200</td>\n",
       "      <td>-117.199500</td>\n",
       "      <td>0</td>\n",
       "      <td>-8.0</td>\n",
       "      <td>A</td>\n",
       "      <td>America/Los_Angeles</td>\n",
       "    </tr>\n",
       "  </tbody>\n",
       "</table>\n",
       "<p>8107 rows × 12 columns</p>\n",
       "</div>"
      ],
      "text/plain": [
       "        0                                  1                2   \\\n",
       "0        1                             Goroka           Goroka   \n",
       "1        2                             Madang           Madang   \n",
       "2        3                        Mount Hagen      Mount Hagen   \n",
       "3        4                             Nadzab           Nadzab   \n",
       "4        5         Port Moresby Jacksons Intl     Port Moresby   \n",
       "...    ...                                ...              ...   \n",
       "8102  9537    Mansons Landing Water Aerodrome  Mansons Landing   \n",
       "8103  9538               Port McNeill Airport     Port McNeill   \n",
       "8104  9539       Sullivan Bay Water Aerodrome     Sullivan Bay   \n",
       "8105  9540               Deer Harbor Seaplane      Deer Harbor   \n",
       "8106  9541  San Diego Old Town Transit Center        San Diego   \n",
       "\n",
       "                    3    4     5          6           7     8     9  10  \\\n",
       "0     Papua New Guinea  GKA  AYGA  -6.081689  145.391881  5282  10.0  U   \n",
       "1     Papua New Guinea  MAG  AYMD  -5.207083  145.788700    20  10.0  U   \n",
       "2     Papua New Guinea  HGU  AYMH  -5.826789  144.295861  5388  10.0  U   \n",
       "3     Papua New Guinea  LAE  AYNZ  -6.569828  146.726242   239  10.0  U   \n",
       "4     Papua New Guinea  POM  AYPY  -9.443383  147.220050   146  10.0  U   \n",
       "...                ...  ...   ...        ...         ...   ...   ... ..   \n",
       "8102            Canada  YMU    \\N  50.066667 -124.983333     0  -8.0  A   \n",
       "8103            Canada  YMP    \\N  50.575556 -127.028611   225  -8.0  A   \n",
       "8104            Canada  YTG    \\N  50.883333 -126.833333     0  -8.0  A   \n",
       "8105     United States  DHB    \\N  48.618397 -123.005960     0  -8.0  A   \n",
       "8106     United States  OLT    \\N  32.755200 -117.199500     0  -8.0  A   \n",
       "\n",
       "                        11  \n",
       "0     Pacific/Port_Moresby  \n",
       "1     Pacific/Port_Moresby  \n",
       "2     Pacific/Port_Moresby  \n",
       "3     Pacific/Port_Moresby  \n",
       "4     Pacific/Port_Moresby  \n",
       "...                    ...  \n",
       "8102     America/Vancouver  \n",
       "8103     America/Vancouver  \n",
       "8104     America/Vancouver  \n",
       "8105   America/Los_Angeles  \n",
       "8106   America/Los_Angeles  \n",
       "\n",
       "[8107 rows x 12 columns]"
      ]
     },
     "execution_count": 17,
     "metadata": {},
     "output_type": "execute_result"
    }
   ],
   "source": [
    "df=pd.read_csv('data/airports.csv', header=None)\n",
    "df"
   ]
  },
  {
   "cell_type": "code",
   "execution_count": 87,
   "metadata": {},
   "outputs": [
    {
     "data": {
      "text/plain": [
       "8095         Cambodia\n",
       "8096           Taiwan\n",
       "8097        Australia\n",
       "8098    United States\n",
       "8099            Spain\n",
       "8100           Canada\n",
       "8101           Canada\n",
       "8102           Canada\n",
       "8103           Canada\n",
       "8104           Canada\n",
       "8105    United States\n",
       "8106    United States\n",
       "Name: 3, dtype: object"
      ]
     },
     "execution_count": 87,
     "metadata": {},
     "output_type": "execute_result"
    }
   ],
   "source": [
    "# nazwy państw ostatnich 12 lotnisk w tabeli\n",
    "df.tail(12)[3]"
   ]
  },
  {
   "cell_type": "code",
   "execution_count": 93,
   "metadata": {},
   "outputs": [
    {
     "name": "stdout",
     "output_type": "stream",
     "text": [
      "loc:\n",
      "iloc:\n"
     ]
    },
    {
     "data": {
      "text/plain": [
       "0                        2\n",
       "1                   Madang\n",
       "2                   Madang\n",
       "3         Papua New Guinea\n",
       "4                      MAG\n",
       "5                     AYMD\n",
       "6                -5.207083\n",
       "7                 145.7887\n",
       "8                       20\n",
       "9                     10.0\n",
       "10                       U\n",
       "11    Pacific/Port_Moresby\n",
       "Name: 1, dtype: object"
      ]
     },
     "execution_count": 93,
     "metadata": {},
     "output_type": "execute_result"
    }
   ],
   "source": [
    "# wiersz o indeksie 1\n",
    "print(\"loc:\")\n",
    "df.loc[1, :]\n",
    "print(\"iloc:\")\n",
    "df.iloc[1, :]\n",
    "\n",
    "# with loc we use label and with iloc we use numbers/positions"
   ]
  },
  {
   "cell_type": "code",
   "execution_count": 97,
   "metadata": {},
   "outputs": [
    {
     "data": {
      "text/html": [
       "<div>\n",
       "<style scoped>\n",
       "    .dataframe tbody tr th:only-of-type {\n",
       "        vertical-align: middle;\n",
       "    }\n",
       "\n",
       "    .dataframe tbody tr th {\n",
       "        vertical-align: top;\n",
       "    }\n",
       "\n",
       "    .dataframe thead th {\n",
       "        text-align: right;\n",
       "    }\n",
       "</style>\n",
       "<table border=\"1\" class=\"dataframe\">\n",
       "  <thead>\n",
       "    <tr style=\"text-align: right;\">\n",
       "      <th></th>\n",
       "      <th>0</th>\n",
       "      <th>1</th>\n",
       "      <th>2</th>\n",
       "      <th>3</th>\n",
       "      <th>4</th>\n",
       "      <th>5</th>\n",
       "      <th>6</th>\n",
       "      <th>7</th>\n",
       "      <th>8</th>\n",
       "      <th>9</th>\n",
       "      <th>10</th>\n",
       "      <th>11</th>\n",
       "    </tr>\n",
       "  </thead>\n",
       "  <tbody>\n",
       "    <tr>\n",
       "      <th>658</th>\n",
       "      <td>667</td>\n",
       "      <td>Babice</td>\n",
       "      <td>Warsaw</td>\n",
       "      <td>Poland</td>\n",
       "      <td>NaN</td>\n",
       "      <td>EPBC</td>\n",
       "      <td>52.268494</td>\n",
       "      <td>20.911047</td>\n",
       "      <td>352</td>\n",
       "      <td>1.0</td>\n",
       "      <td>E</td>\n",
       "      <td>Europe/Warsaw</td>\n",
       "    </tr>\n",
       "    <tr>\n",
       "      <th>659</th>\n",
       "      <td>668</td>\n",
       "      <td>Lech Walesa</td>\n",
       "      <td>Gdansk</td>\n",
       "      <td>Poland</td>\n",
       "      <td>GDN</td>\n",
       "      <td>EPGD</td>\n",
       "      <td>54.377569</td>\n",
       "      <td>18.466222</td>\n",
       "      <td>489</td>\n",
       "      <td>1.0</td>\n",
       "      <td>E</td>\n",
       "      <td>Europe/Warsaw</td>\n",
       "    </tr>\n",
       "    <tr>\n",
       "      <th>660</th>\n",
       "      <td>669</td>\n",
       "      <td>Balice</td>\n",
       "      <td>Krakow</td>\n",
       "      <td>Poland</td>\n",
       "      <td>KRK</td>\n",
       "      <td>EPKK</td>\n",
       "      <td>50.077731</td>\n",
       "      <td>19.784836</td>\n",
       "      <td>791</td>\n",
       "      <td>1.0</td>\n",
       "      <td>E</td>\n",
       "      <td>Europe/Warsaw</td>\n",
       "    </tr>\n",
       "    <tr>\n",
       "      <th>661</th>\n",
       "      <td>670</td>\n",
       "      <td>Muchowiec</td>\n",
       "      <td>Katowice</td>\n",
       "      <td>Poland</td>\n",
       "      <td>NaN</td>\n",
       "      <td>EPKM</td>\n",
       "      <td>50.238147</td>\n",
       "      <td>19.034181</td>\n",
       "      <td>909</td>\n",
       "      <td>1.0</td>\n",
       "      <td>E</td>\n",
       "      <td>Europe/Warsaw</td>\n",
       "    </tr>\n",
       "    <tr>\n",
       "      <th>662</th>\n",
       "      <td>671</td>\n",
       "      <td>Pyrzowice</td>\n",
       "      <td>Katowice</td>\n",
       "      <td>Poland</td>\n",
       "      <td>KTW</td>\n",
       "      <td>EPKT</td>\n",
       "      <td>50.474253</td>\n",
       "      <td>19.080019</td>\n",
       "      <td>995</td>\n",
       "      <td>1.0</td>\n",
       "      <td>E</td>\n",
       "      <td>Europe/Warsaw</td>\n",
       "    </tr>\n",
       "    <tr>\n",
       "      <th>663</th>\n",
       "      <td>673</td>\n",
       "      <td>Mielec</td>\n",
       "      <td>Mielec</td>\n",
       "      <td>Poland</td>\n",
       "      <td>NaN</td>\n",
       "      <td>EPML</td>\n",
       "      <td>50.322275</td>\n",
       "      <td>21.462131</td>\n",
       "      <td>548</td>\n",
       "      <td>1.0</td>\n",
       "      <td>E</td>\n",
       "      <td>Europe/Warsaw</td>\n",
       "    </tr>\n",
       "    <tr>\n",
       "      <th>664</th>\n",
       "      <td>674</td>\n",
       "      <td>Lawica</td>\n",
       "      <td>Poznan</td>\n",
       "      <td>Poland</td>\n",
       "      <td>POZ</td>\n",
       "      <td>EPPO</td>\n",
       "      <td>52.421031</td>\n",
       "      <td>16.826325</td>\n",
       "      <td>308</td>\n",
       "      <td>1.0</td>\n",
       "      <td>E</td>\n",
       "      <td>Europe/Warsaw</td>\n",
       "    </tr>\n",
       "    <tr>\n",
       "      <th>665</th>\n",
       "      <td>675</td>\n",
       "      <td>Jasionka</td>\n",
       "      <td>Rzeszow</td>\n",
       "      <td>Poland</td>\n",
       "      <td>RZE</td>\n",
       "      <td>EPRZ</td>\n",
       "      <td>50.109958</td>\n",
       "      <td>22.019000</td>\n",
       "      <td>675</td>\n",
       "      <td>1.0</td>\n",
       "      <td>E</td>\n",
       "      <td>Europe/Warsaw</td>\n",
       "    </tr>\n",
       "    <tr>\n",
       "      <th>666</th>\n",
       "      <td>676</td>\n",
       "      <td>Goleniow</td>\n",
       "      <td>Szczecin</td>\n",
       "      <td>Poland</td>\n",
       "      <td>SZZ</td>\n",
       "      <td>EPSC</td>\n",
       "      <td>53.584731</td>\n",
       "      <td>14.902206</td>\n",
       "      <td>154</td>\n",
       "      <td>1.0</td>\n",
       "      <td>E</td>\n",
       "      <td>Europe/Warsaw</td>\n",
       "    </tr>\n",
       "    <tr>\n",
       "      <th>667</th>\n",
       "      <td>677</td>\n",
       "      <td>Redzikowo</td>\n",
       "      <td>Slupsk</td>\n",
       "      <td>Poland</td>\n",
       "      <td>OSP</td>\n",
       "      <td>EPSK</td>\n",
       "      <td>54.478889</td>\n",
       "      <td>17.107500</td>\n",
       "      <td>217</td>\n",
       "      <td>1.0</td>\n",
       "      <td>E</td>\n",
       "      <td>Europe/Warsaw</td>\n",
       "    </tr>\n",
       "    <tr>\n",
       "      <th>668</th>\n",
       "      <td>678</td>\n",
       "      <td>Swidwin</td>\n",
       "      <td>Shapaja</td>\n",
       "      <td>Poland</td>\n",
       "      <td>NaN</td>\n",
       "      <td>EPSN</td>\n",
       "      <td>53.790639</td>\n",
       "      <td>15.826250</td>\n",
       "      <td>385</td>\n",
       "      <td>1.0</td>\n",
       "      <td>E</td>\n",
       "      <td>Europe/Warsaw</td>\n",
       "    </tr>\n",
       "    <tr>\n",
       "      <th>669</th>\n",
       "      <td>679</td>\n",
       "      <td>Okecie</td>\n",
       "      <td>Warsaw</td>\n",
       "      <td>Poland</td>\n",
       "      <td>WAW</td>\n",
       "      <td>EPWA</td>\n",
       "      <td>52.165750</td>\n",
       "      <td>20.967122</td>\n",
       "      <td>362</td>\n",
       "      <td>1.0</td>\n",
       "      <td>E</td>\n",
       "      <td>Europe/Warsaw</td>\n",
       "    </tr>\n",
       "    <tr>\n",
       "      <th>670</th>\n",
       "      <td>680</td>\n",
       "      <td>Strachowice</td>\n",
       "      <td>Wroclaw</td>\n",
       "      <td>Poland</td>\n",
       "      <td>WRO</td>\n",
       "      <td>EPWR</td>\n",
       "      <td>51.102683</td>\n",
       "      <td>16.885836</td>\n",
       "      <td>404</td>\n",
       "      <td>1.0</td>\n",
       "      <td>E</td>\n",
       "      <td>Europe/Warsaw</td>\n",
       "    </tr>\n",
       "    <tr>\n",
       "      <th>671</th>\n",
       "      <td>681</td>\n",
       "      <td>Babimost</td>\n",
       "      <td>Zielona Gora</td>\n",
       "      <td>Poland</td>\n",
       "      <td>IEG</td>\n",
       "      <td>EPZG</td>\n",
       "      <td>52.138517</td>\n",
       "      <td>15.798556</td>\n",
       "      <td>194</td>\n",
       "      <td>1.0</td>\n",
       "      <td>E</td>\n",
       "      <td>Europe/Warsaw</td>\n",
       "    </tr>\n",
       "    <tr>\n",
       "      <th>4729</th>\n",
       "      <td>5592</td>\n",
       "      <td>Łódź Władysław Reymont Airport</td>\n",
       "      <td>Lodz</td>\n",
       "      <td>Poland</td>\n",
       "      <td>LCJ</td>\n",
       "      <td>EPLL</td>\n",
       "      <td>51.721881</td>\n",
       "      <td>19.398133</td>\n",
       "      <td>604</td>\n",
       "      <td>1.0</td>\n",
       "      <td>E</td>\n",
       "      <td>Europe/Warsaw</td>\n",
       "    </tr>\n",
       "    <tr>\n",
       "      <th>4730</th>\n",
       "      <td>5591</td>\n",
       "      <td>Bydgoszcz Ignacy Jan Paderewski Airport</td>\n",
       "      <td>Bydgoszcz</td>\n",
       "      <td>Poland</td>\n",
       "      <td>BZG</td>\n",
       "      <td>EPBY</td>\n",
       "      <td>53.096800</td>\n",
       "      <td>17.977700</td>\n",
       "      <td>235</td>\n",
       "      <td>1.0</td>\n",
       "      <td>E</td>\n",
       "      <td>Europe/Warsaw</td>\n",
       "    </tr>\n",
       "    <tr>\n",
       "      <th>5296</th>\n",
       "      <td>6425</td>\n",
       "      <td>Szczecin-Dabie</td>\n",
       "      <td>Szczecin</td>\n",
       "      <td>Poland</td>\n",
       "      <td>NaN</td>\n",
       "      <td>EPSD</td>\n",
       "      <td>53.471138</td>\n",
       "      <td>14.637750</td>\n",
       "      <td>3</td>\n",
       "      <td>1.0</td>\n",
       "      <td>E</td>\n",
       "      <td>Europe/Warsaw</td>\n",
       "    </tr>\n",
       "    <tr>\n",
       "      <th>5367</th>\n",
       "      <td>6499</td>\n",
       "      <td>Aleksandrowice</td>\n",
       "      <td>Bielsko-Biala</td>\n",
       "      <td>Poland</td>\n",
       "      <td>NaN</td>\n",
       "      <td>EPBA</td>\n",
       "      <td>49.849970</td>\n",
       "      <td>19.020193</td>\n",
       "      <td>860</td>\n",
       "      <td>1.0</td>\n",
       "      <td>E</td>\n",
       "      <td>Europe/Warsaw</td>\n",
       "    </tr>\n",
       "    <tr>\n",
       "      <th>6259</th>\n",
       "      <td>7685</td>\n",
       "      <td>Koszalin - Zegrze Pomorskie Airport</td>\n",
       "      <td>Koszalin</td>\n",
       "      <td>Poland</td>\n",
       "      <td>OSZ</td>\n",
       "      <td>EPKO</td>\n",
       "      <td>54.041000</td>\n",
       "      <td>16.266000</td>\n",
       "      <td>111</td>\n",
       "      <td>1.0</td>\n",
       "      <td>E</td>\n",
       "      <td>Europe/Warsaw</td>\n",
       "    </tr>\n",
       "    <tr>\n",
       "      <th>6382</th>\n",
       "      <td>7807</td>\n",
       "      <td>Chojna Air Base</td>\n",
       "      <td>Chojna</td>\n",
       "      <td>Poland</td>\n",
       "      <td>NaN</td>\n",
       "      <td>\\N</td>\n",
       "      <td>52.939400</td>\n",
       "      <td>14.421700</td>\n",
       "      <td>187</td>\n",
       "      <td>1.0</td>\n",
       "      <td>E</td>\n",
       "      <td>Europe/Warsaw</td>\n",
       "    </tr>\n",
       "    <tr>\n",
       "      <th>6387</th>\n",
       "      <td>7812</td>\n",
       "      <td>Gdynia</td>\n",
       "      <td>Gdynia</td>\n",
       "      <td>Poland</td>\n",
       "      <td>QYD</td>\n",
       "      <td>EPOK</td>\n",
       "      <td>54.579700</td>\n",
       "      <td>18.517200</td>\n",
       "      <td>144</td>\n",
       "      <td>1.0</td>\n",
       "      <td>E</td>\n",
       "      <td>Europe/Warsaw</td>\n",
       "    </tr>\n",
       "    <tr>\n",
       "      <th>6388</th>\n",
       "      <td>7813</td>\n",
       "      <td>Malbork</td>\n",
       "      <td>Malbork</td>\n",
       "      <td>Poland</td>\n",
       "      <td>NaN</td>\n",
       "      <td>EPMB</td>\n",
       "      <td>54.026944</td>\n",
       "      <td>19.134167</td>\n",
       "      <td>16</td>\n",
       "      <td>1.0</td>\n",
       "      <td>E</td>\n",
       "      <td>Europe/Warsaw</td>\n",
       "    </tr>\n",
       "    <tr>\n",
       "      <th>6389</th>\n",
       "      <td>7814</td>\n",
       "      <td>Lask</td>\n",
       "      <td>Lask</td>\n",
       "      <td>Poland</td>\n",
       "      <td>NaN</td>\n",
       "      <td>EPLK</td>\n",
       "      <td>51.551667</td>\n",
       "      <td>19.179058</td>\n",
       "      <td>633</td>\n",
       "      <td>1.0</td>\n",
       "      <td>E</td>\n",
       "      <td>Europe/Warsaw</td>\n",
       "    </tr>\n",
       "    <tr>\n",
       "      <th>6390</th>\n",
       "      <td>7815</td>\n",
       "      <td>Miroslawiec</td>\n",
       "      <td>Miroslawiec</td>\n",
       "      <td>Poland</td>\n",
       "      <td>NaN</td>\n",
       "      <td>EPMI</td>\n",
       "      <td>53.395072</td>\n",
       "      <td>16.082814</td>\n",
       "      <td>459</td>\n",
       "      <td>1.0</td>\n",
       "      <td>E</td>\n",
       "      <td>Europe/Warsaw</td>\n",
       "    </tr>\n",
       "    <tr>\n",
       "      <th>6391</th>\n",
       "      <td>7816</td>\n",
       "      <td>Krzesiny</td>\n",
       "      <td>Poznan</td>\n",
       "      <td>Poland</td>\n",
       "      <td>NaN</td>\n",
       "      <td>EPKS</td>\n",
       "      <td>52.331719</td>\n",
       "      <td>16.966428</td>\n",
       "      <td>265</td>\n",
       "      <td>1.0</td>\n",
       "      <td>E</td>\n",
       "      <td>Europe/Warsaw</td>\n",
       "    </tr>\n",
       "    <tr>\n",
       "      <th>6602</th>\n",
       "      <td>8029</td>\n",
       "      <td>RADOM</td>\n",
       "      <td>RADOM</td>\n",
       "      <td>Poland</td>\n",
       "      <td>QXR</td>\n",
       "      <td>EPRA</td>\n",
       "      <td>51.231978</td>\n",
       "      <td>21.124183</td>\n",
       "      <td>479</td>\n",
       "      <td>1.0</td>\n",
       "      <td>E</td>\n",
       "      <td>Europe/Warsaw</td>\n",
       "    </tr>\n",
       "    <tr>\n",
       "      <th>6985</th>\n",
       "      <td>8414</td>\n",
       "      <td>Warsaw Modlin</td>\n",
       "      <td>Warsaw</td>\n",
       "      <td>Poland</td>\n",
       "      <td>WMI</td>\n",
       "      <td>EPMO</td>\n",
       "      <td>52.451111</td>\n",
       "      <td>20.651667</td>\n",
       "      <td>341</td>\n",
       "      <td>1.0</td>\n",
       "      <td>E</td>\n",
       "      <td>Europe/Warsaw</td>\n",
       "    </tr>\n",
       "    <tr>\n",
       "      <th>7201</th>\n",
       "      <td>8633</td>\n",
       "      <td>Inowroclaw Inowr Airport</td>\n",
       "      <td>Inowroclaw</td>\n",
       "      <td>Poland</td>\n",
       "      <td>NaN</td>\n",
       "      <td>EPIR</td>\n",
       "      <td>52.829444</td>\n",
       "      <td>18.330556</td>\n",
       "      <td>259</td>\n",
       "      <td>1.0</td>\n",
       "      <td>E</td>\n",
       "      <td>Europe/Warsaw</td>\n",
       "    </tr>\n",
       "    <tr>\n",
       "      <th>7202</th>\n",
       "      <td>8634</td>\n",
       "      <td>Pruszcz Gdansk Airport</td>\n",
       "      <td>Pruszcz Gdansk</td>\n",
       "      <td>Poland</td>\n",
       "      <td>NaN</td>\n",
       "      <td>EPPR</td>\n",
       "      <td>54.248056</td>\n",
       "      <td>18.671667</td>\n",
       "      <td>21</td>\n",
       "      <td>1.0</td>\n",
       "      <td>E</td>\n",
       "      <td>Europe/Warsaw</td>\n",
       "    </tr>\n",
       "    <tr>\n",
       "      <th>7309</th>\n",
       "      <td>8741</td>\n",
       "      <td>Gryzliny - Lansk</td>\n",
       "      <td>Gryzliny</td>\n",
       "      <td>Poland</td>\n",
       "      <td>NaN</td>\n",
       "      <td>EPGR</td>\n",
       "      <td>53.362900</td>\n",
       "      <td>20.204000</td>\n",
       "      <td>520</td>\n",
       "      <td>1.0</td>\n",
       "      <td>E</td>\n",
       "      <td>Europe/Warsaw</td>\n",
       "    </tr>\n",
       "    <tr>\n",
       "      <th>7319</th>\n",
       "      <td>8751</td>\n",
       "      <td>Goraszka</td>\n",
       "      <td>Goraszka</td>\n",
       "      <td>Poland</td>\n",
       "      <td>NaN</td>\n",
       "      <td>EPGO</td>\n",
       "      <td>52.110400</td>\n",
       "      <td>21.165200</td>\n",
       "      <td>110</td>\n",
       "      <td>1.0</td>\n",
       "      <td>E</td>\n",
       "      <td>Europe/Warsaw</td>\n",
       "    </tr>\n",
       "    <tr>\n",
       "      <th>7400</th>\n",
       "      <td>8832</td>\n",
       "      <td>Lublin</td>\n",
       "      <td>Lublin</td>\n",
       "      <td>Poland</td>\n",
       "      <td>LUZ</td>\n",
       "      <td>EPLB</td>\n",
       "      <td>51.239333</td>\n",
       "      <td>22.714083</td>\n",
       "      <td>203</td>\n",
       "      <td>1.0</td>\n",
       "      <td>E</td>\n",
       "      <td>Europe/Warsaw</td>\n",
       "    </tr>\n",
       "    <tr>\n",
       "      <th>7415</th>\n",
       "      <td>8849</td>\n",
       "      <td>RUDNIKI</td>\n",
       "      <td>RUDNIKI</td>\n",
       "      <td>Poland</td>\n",
       "      <td>CZW</td>\n",
       "      <td>EPRU</td>\n",
       "      <td>50.884722</td>\n",
       "      <td>19.202222</td>\n",
       "      <td>262</td>\n",
       "      <td>1.0</td>\n",
       "      <td>E</td>\n",
       "      <td>Europe/Warsaw</td>\n",
       "    </tr>\n",
       "    <tr>\n",
       "      <th>7474</th>\n",
       "      <td>8908</td>\n",
       "      <td>Krakow Glowny</td>\n",
       "      <td>Krakow</td>\n",
       "      <td>Poland</td>\n",
       "      <td>NaN</td>\n",
       "      <td>\\N</td>\n",
       "      <td>50.065556</td>\n",
       "      <td>19.947222</td>\n",
       "      <td>719</td>\n",
       "      <td>1.0</td>\n",
       "      <td>E</td>\n",
       "      <td>Europe/Warsaw</td>\n",
       "    </tr>\n",
       "  </tbody>\n",
       "</table>\n",
       "</div>"
      ],
      "text/plain": [
       "        0                                        1               2       3   \\\n",
       "658    667                                   Babice          Warsaw  Poland   \n",
       "659    668                              Lech Walesa          Gdansk  Poland   \n",
       "660    669                                   Balice          Krakow  Poland   \n",
       "661    670                                Muchowiec        Katowice  Poland   \n",
       "662    671                                Pyrzowice        Katowice  Poland   \n",
       "663    673                                   Mielec          Mielec  Poland   \n",
       "664    674                                   Lawica          Poznan  Poland   \n",
       "665    675                                 Jasionka         Rzeszow  Poland   \n",
       "666    676                                 Goleniow        Szczecin  Poland   \n",
       "667    677                                Redzikowo          Slupsk  Poland   \n",
       "668    678                                  Swidwin         Shapaja  Poland   \n",
       "669    679                                   Okecie          Warsaw  Poland   \n",
       "670    680                              Strachowice         Wroclaw  Poland   \n",
       "671    681                                 Babimost    Zielona Gora  Poland   \n",
       "4729  5592           Łódź Władysław Reymont Airport            Lodz  Poland   \n",
       "4730  5591  Bydgoszcz Ignacy Jan Paderewski Airport       Bydgoszcz  Poland   \n",
       "5296  6425                           Szczecin-Dabie        Szczecin  Poland   \n",
       "5367  6499                           Aleksandrowice   Bielsko-Biala  Poland   \n",
       "6259  7685      Koszalin - Zegrze Pomorskie Airport        Koszalin  Poland   \n",
       "6382  7807                          Chojna Air Base          Chojna  Poland   \n",
       "6387  7812                                   Gdynia          Gdynia  Poland   \n",
       "6388  7813                                  Malbork         Malbork  Poland   \n",
       "6389  7814                                     Lask            Lask  Poland   \n",
       "6390  7815                              Miroslawiec     Miroslawiec  Poland   \n",
       "6391  7816                                 Krzesiny          Poznan  Poland   \n",
       "6602  8029                                    RADOM           RADOM  Poland   \n",
       "6985  8414                            Warsaw Modlin          Warsaw  Poland   \n",
       "7201  8633                 Inowroclaw Inowr Airport      Inowroclaw  Poland   \n",
       "7202  8634                   Pruszcz Gdansk Airport  Pruszcz Gdansk  Poland   \n",
       "7309  8741                         Gryzliny - Lansk        Gryzliny  Poland   \n",
       "7319  8751                                 Goraszka        Goraszka  Poland   \n",
       "7400  8832                                   Lublin          Lublin  Poland   \n",
       "7415  8849                                 RUDNIKI          RUDNIKI  Poland   \n",
       "7474  8908                            Krakow Glowny          Krakow  Poland   \n",
       "\n",
       "       4     5          6          7    8    9  10             11  \n",
       "658   NaN  EPBC  52.268494  20.911047  352  1.0  E  Europe/Warsaw  \n",
       "659   GDN  EPGD  54.377569  18.466222  489  1.0  E  Europe/Warsaw  \n",
       "660   KRK  EPKK  50.077731  19.784836  791  1.0  E  Europe/Warsaw  \n",
       "661   NaN  EPKM  50.238147  19.034181  909  1.0  E  Europe/Warsaw  \n",
       "662   KTW  EPKT  50.474253  19.080019  995  1.0  E  Europe/Warsaw  \n",
       "663   NaN  EPML  50.322275  21.462131  548  1.0  E  Europe/Warsaw  \n",
       "664   POZ  EPPO  52.421031  16.826325  308  1.0  E  Europe/Warsaw  \n",
       "665   RZE  EPRZ  50.109958  22.019000  675  1.0  E  Europe/Warsaw  \n",
       "666   SZZ  EPSC  53.584731  14.902206  154  1.0  E  Europe/Warsaw  \n",
       "667   OSP  EPSK  54.478889  17.107500  217  1.0  E  Europe/Warsaw  \n",
       "668   NaN  EPSN  53.790639  15.826250  385  1.0  E  Europe/Warsaw  \n",
       "669   WAW  EPWA  52.165750  20.967122  362  1.0  E  Europe/Warsaw  \n",
       "670   WRO  EPWR  51.102683  16.885836  404  1.0  E  Europe/Warsaw  \n",
       "671   IEG  EPZG  52.138517  15.798556  194  1.0  E  Europe/Warsaw  \n",
       "4729  LCJ  EPLL  51.721881  19.398133  604  1.0  E  Europe/Warsaw  \n",
       "4730  BZG  EPBY  53.096800  17.977700  235  1.0  E  Europe/Warsaw  \n",
       "5296  NaN  EPSD  53.471138  14.637750    3  1.0  E  Europe/Warsaw  \n",
       "5367  NaN  EPBA  49.849970  19.020193  860  1.0  E  Europe/Warsaw  \n",
       "6259  OSZ  EPKO  54.041000  16.266000  111  1.0  E  Europe/Warsaw  \n",
       "6382  NaN    \\N  52.939400  14.421700  187  1.0  E  Europe/Warsaw  \n",
       "6387  QYD  EPOK  54.579700  18.517200  144  1.0  E  Europe/Warsaw  \n",
       "6388  NaN  EPMB  54.026944  19.134167   16  1.0  E  Europe/Warsaw  \n",
       "6389  NaN  EPLK  51.551667  19.179058  633  1.0  E  Europe/Warsaw  \n",
       "6390  NaN  EPMI  53.395072  16.082814  459  1.0  E  Europe/Warsaw  \n",
       "6391  NaN  EPKS  52.331719  16.966428  265  1.0  E  Europe/Warsaw  \n",
       "6602  QXR  EPRA  51.231978  21.124183  479  1.0  E  Europe/Warsaw  \n",
       "6985  WMI  EPMO  52.451111  20.651667  341  1.0  E  Europe/Warsaw  \n",
       "7201  NaN  EPIR  52.829444  18.330556  259  1.0  E  Europe/Warsaw  \n",
       "7202  NaN  EPPR  54.248056  18.671667   21  1.0  E  Europe/Warsaw  \n",
       "7309  NaN  EPGR  53.362900  20.204000  520  1.0  E  Europe/Warsaw  \n",
       "7319  NaN  EPGO  52.110400  21.165200  110  1.0  E  Europe/Warsaw  \n",
       "7400  LUZ  EPLB  51.239333  22.714083  203  1.0  E  Europe/Warsaw  \n",
       "7415  CZW  EPRU  50.884722  19.202222  262  1.0  E  Europe/Warsaw  \n",
       "7474  NaN    \\N  50.065556  19.947222  719  1.0  E  Europe/Warsaw  "
      ]
     },
     "execution_count": 97,
     "metadata": {},
     "output_type": "execute_result"
    }
   ],
   "source": [
    "# wszystkie lotniska w Polsce\n",
    "df[df[3] == \"Poland\"]"
   ]
  },
  {
   "cell_type": "code",
   "execution_count": 18,
   "metadata": {},
   "outputs": [
    {
     "data": {
      "text/html": [
       "<div>\n",
       "<style scoped>\n",
       "    .dataframe tbody tr th:only-of-type {\n",
       "        vertical-align: middle;\n",
       "    }\n",
       "\n",
       "    .dataframe tbody tr th {\n",
       "        vertical-align: top;\n",
       "    }\n",
       "\n",
       "    .dataframe thead th {\n",
       "        text-align: right;\n",
       "    }\n",
       "</style>\n",
       "<table border=\"1\" class=\"dataframe\">\n",
       "  <thead>\n",
       "    <tr style=\"text-align: right;\">\n",
       "      <th></th>\n",
       "      <th>0</th>\n",
       "      <th>1</th>\n",
       "      <th>2</th>\n",
       "      <th>3</th>\n",
       "      <th>4</th>\n",
       "      <th>5</th>\n",
       "      <th>6</th>\n",
       "      <th>7</th>\n",
       "      <th>8</th>\n",
       "      <th>9</th>\n",
       "      <th>10</th>\n",
       "      <th>11</th>\n",
       "    </tr>\n",
       "  </thead>\n",
       "  <tbody>\n",
       "    <tr>\n",
       "      <th>4</th>\n",
       "      <td>5</td>\n",
       "      <td>Port Moresby Jacksons Intl</td>\n",
       "      <td>Port Moresby</td>\n",
       "      <td>Papua New Guinea</td>\n",
       "      <td>POM</td>\n",
       "      <td>AYPY</td>\n",
       "      <td>-9.443383</td>\n",
       "      <td>147.220050</td>\n",
       "      <td>146</td>\n",
       "      <td>10.0</td>\n",
       "      <td>U</td>\n",
       "      <td>Pacific/Port_Moresby</td>\n",
       "    </tr>\n",
       "    <tr>\n",
       "      <th>5</th>\n",
       "      <td>6</td>\n",
       "      <td>Wewak Intl</td>\n",
       "      <td>Wewak</td>\n",
       "      <td>Papua New Guinea</td>\n",
       "      <td>WWK</td>\n",
       "      <td>AYWK</td>\n",
       "      <td>-3.583828</td>\n",
       "      <td>143.669186</td>\n",
       "      <td>19</td>\n",
       "      <td>10.0</td>\n",
       "      <td>U</td>\n",
       "      <td>Pacific/Port_Moresby</td>\n",
       "    </tr>\n",
       "    <tr>\n",
       "      <th>6</th>\n",
       "      <td>7</td>\n",
       "      <td>Narsarsuaq</td>\n",
       "      <td>Narssarssuaq</td>\n",
       "      <td>Greenland</td>\n",
       "      <td>UAK</td>\n",
       "      <td>BGBW</td>\n",
       "      <td>61.160517</td>\n",
       "      <td>-45.425978</td>\n",
       "      <td>112</td>\n",
       "      <td>-3.0</td>\n",
       "      <td>E</td>\n",
       "      <td>America/Godthab</td>\n",
       "    </tr>\n",
       "    <tr>\n",
       "      <th>7</th>\n",
       "      <td>8</td>\n",
       "      <td>Nuuk</td>\n",
       "      <td>Godthaab</td>\n",
       "      <td>Greenland</td>\n",
       "      <td>GOH</td>\n",
       "      <td>BGGH</td>\n",
       "      <td>64.190922</td>\n",
       "      <td>-51.678064</td>\n",
       "      <td>283</td>\n",
       "      <td>-3.0</td>\n",
       "      <td>E</td>\n",
       "      <td>America/Godthab</td>\n",
       "    </tr>\n",
       "    <tr>\n",
       "      <th>8</th>\n",
       "      <td>9</td>\n",
       "      <td>Sondre Stromfjord</td>\n",
       "      <td>Sondrestrom</td>\n",
       "      <td>Greenland</td>\n",
       "      <td>SFJ</td>\n",
       "      <td>BGSF</td>\n",
       "      <td>67.016969</td>\n",
       "      <td>-50.689325</td>\n",
       "      <td>165</td>\n",
       "      <td>-3.0</td>\n",
       "      <td>E</td>\n",
       "      <td>America/Godthab</td>\n",
       "    </tr>\n",
       "  </tbody>\n",
       "</table>\n",
       "</div>"
      ],
      "text/plain": [
       "   0                           1             2                 3    4     5   \\\n",
       "4   5  Port Moresby Jacksons Intl  Port Moresby  Papua New Guinea  POM  AYPY   \n",
       "5   6                  Wewak Intl         Wewak  Papua New Guinea  WWK  AYWK   \n",
       "6   7                  Narsarsuaq  Narssarssuaq         Greenland  UAK  BGBW   \n",
       "7   8                        Nuuk      Godthaab         Greenland  GOH  BGGH   \n",
       "8   9           Sondre Stromfjord   Sondrestrom         Greenland  SFJ  BGSF   \n",
       "\n",
       "          6           7    8     9  10                    11  \n",
       "4  -9.443383  147.220050  146  10.0  U  Pacific/Port_Moresby  \n",
       "5  -3.583828  143.669186   19  10.0  U  Pacific/Port_Moresby  \n",
       "6  61.160517  -45.425978  112  -3.0  E       America/Godthab  \n",
       "7  64.190922  -51.678064  283  -3.0  E       America/Godthab  \n",
       "8  67.016969  -50.689325  165  -3.0  E       America/Godthab  "
      ]
     },
     "execution_count": 18,
     "metadata": {},
     "output_type": "execute_result"
    }
   ],
   "source": [
    "# nazwa lotniska różna od nazwy miasta, w którym się znajdują\n",
    "df[df[1] != df[2]].head()"
   ]
  },
  {
   "cell_type": "code",
   "execution_count": 113,
   "metadata": {},
   "outputs": [
    {
     "data": {
      "text/html": [
       "<div>\n",
       "<style scoped>\n",
       "    .dataframe tbody tr th:only-of-type {\n",
       "        vertical-align: middle;\n",
       "    }\n",
       "\n",
       "    .dataframe tbody tr th {\n",
       "        vertical-align: top;\n",
       "    }\n",
       "\n",
       "    .dataframe thead th {\n",
       "        text-align: right;\n",
       "    }\n",
       "</style>\n",
       "<table border=\"1\" class=\"dataframe\">\n",
       "  <thead>\n",
       "    <tr style=\"text-align: right;\">\n",
       "      <th></th>\n",
       "      <th>0</th>\n",
       "      <th>1</th>\n",
       "      <th>2</th>\n",
       "      <th>3</th>\n",
       "      <th>4</th>\n",
       "      <th>5</th>\n",
       "      <th>6</th>\n",
       "      <th>7</th>\n",
       "      <th>8</th>\n",
       "      <th>9</th>\n",
       "      <th>10</th>\n",
       "      <th>11</th>\n",
       "    </tr>\n",
       "  </thead>\n",
       "  <tbody>\n",
       "    <tr>\n",
       "      <th>0</th>\n",
       "      <td>1</td>\n",
       "      <td>Goroka</td>\n",
       "      <td>Goroka</td>\n",
       "      <td>Papua New Guinea</td>\n",
       "      <td>GKA</td>\n",
       "      <td>AYGA</td>\n",
       "      <td>-6.081689</td>\n",
       "      <td>145.391881</td>\n",
       "      <td>186.532070</td>\n",
       "      <td>10.0</td>\n",
       "      <td>U</td>\n",
       "      <td>Pacific/Port_Moresby</td>\n",
       "    </tr>\n",
       "    <tr>\n",
       "      <th>1</th>\n",
       "      <td>2</td>\n",
       "      <td>Madang</td>\n",
       "      <td>Madang</td>\n",
       "      <td>Papua New Guinea</td>\n",
       "      <td>MAG</td>\n",
       "      <td>AYMD</td>\n",
       "      <td>-5.207083</td>\n",
       "      <td>145.788700</td>\n",
       "      <td>0.706293</td>\n",
       "      <td>10.0</td>\n",
       "      <td>U</td>\n",
       "      <td>Pacific/Port_Moresby</td>\n",
       "    </tr>\n",
       "    <tr>\n",
       "      <th>2</th>\n",
       "      <td>3</td>\n",
       "      <td>Mount Hagen</td>\n",
       "      <td>Mount Hagen</td>\n",
       "      <td>Papua New Guinea</td>\n",
       "      <td>HGU</td>\n",
       "      <td>AYMH</td>\n",
       "      <td>-5.826789</td>\n",
       "      <td>144.295861</td>\n",
       "      <td>190.275424</td>\n",
       "      <td>10.0</td>\n",
       "      <td>U</td>\n",
       "      <td>Pacific/Port_Moresby</td>\n",
       "    </tr>\n",
       "    <tr>\n",
       "      <th>3</th>\n",
       "      <td>4</td>\n",
       "      <td>Nadzab</td>\n",
       "      <td>Nadzab</td>\n",
       "      <td>Papua New Guinea</td>\n",
       "      <td>LAE</td>\n",
       "      <td>AYNZ</td>\n",
       "      <td>-6.569828</td>\n",
       "      <td>146.726242</td>\n",
       "      <td>8.440205</td>\n",
       "      <td>10.0</td>\n",
       "      <td>U</td>\n",
       "      <td>Pacific/Port_Moresby</td>\n",
       "    </tr>\n",
       "    <tr>\n",
       "      <th>4</th>\n",
       "      <td>5</td>\n",
       "      <td>Port Moresby Jacksons Intl</td>\n",
       "      <td>Port Moresby</td>\n",
       "      <td>Papua New Guinea</td>\n",
       "      <td>POM</td>\n",
       "      <td>AYPY</td>\n",
       "      <td>-9.443383</td>\n",
       "      <td>147.220050</td>\n",
       "      <td>5.155941</td>\n",
       "      <td>10.0</td>\n",
       "      <td>U</td>\n",
       "      <td>Pacific/Port_Moresby</td>\n",
       "    </tr>\n",
       "    <tr>\n",
       "      <th>...</th>\n",
       "      <td>...</td>\n",
       "      <td>...</td>\n",
       "      <td>...</td>\n",
       "      <td>...</td>\n",
       "      <td>...</td>\n",
       "      <td>...</td>\n",
       "      <td>...</td>\n",
       "      <td>...</td>\n",
       "      <td>...</td>\n",
       "      <td>...</td>\n",
       "      <td>...</td>\n",
       "      <td>...</td>\n",
       "    </tr>\n",
       "    <tr>\n",
       "      <th>8102</th>\n",
       "      <td>9537</td>\n",
       "      <td>Mansons Landing Water Aerodrome</td>\n",
       "      <td>Mansons Landing</td>\n",
       "      <td>Canada</td>\n",
       "      <td>YMU</td>\n",
       "      <td>\\N</td>\n",
       "      <td>50.066667</td>\n",
       "      <td>-124.983333</td>\n",
       "      <td>0.000000</td>\n",
       "      <td>-8.0</td>\n",
       "      <td>A</td>\n",
       "      <td>America/Vancouver</td>\n",
       "    </tr>\n",
       "    <tr>\n",
       "      <th>8103</th>\n",
       "      <td>9538</td>\n",
       "      <td>Port McNeill Airport</td>\n",
       "      <td>Port McNeill</td>\n",
       "      <td>Canada</td>\n",
       "      <td>YMP</td>\n",
       "      <td>\\N</td>\n",
       "      <td>50.575556</td>\n",
       "      <td>-127.028611</td>\n",
       "      <td>7.945800</td>\n",
       "      <td>-8.0</td>\n",
       "      <td>A</td>\n",
       "      <td>America/Vancouver</td>\n",
       "    </tr>\n",
       "    <tr>\n",
       "      <th>8104</th>\n",
       "      <td>9539</td>\n",
       "      <td>Sullivan Bay Water Aerodrome</td>\n",
       "      <td>Sullivan Bay</td>\n",
       "      <td>Canada</td>\n",
       "      <td>YTG</td>\n",
       "      <td>\\N</td>\n",
       "      <td>50.883333</td>\n",
       "      <td>-126.833333</td>\n",
       "      <td>0.000000</td>\n",
       "      <td>-8.0</td>\n",
       "      <td>A</td>\n",
       "      <td>America/Vancouver</td>\n",
       "    </tr>\n",
       "    <tr>\n",
       "      <th>8105</th>\n",
       "      <td>9540</td>\n",
       "      <td>Deer Harbor Seaplane</td>\n",
       "      <td>Deer Harbor</td>\n",
       "      <td>United States</td>\n",
       "      <td>DHB</td>\n",
       "      <td>\\N</td>\n",
       "      <td>48.618397</td>\n",
       "      <td>-123.005960</td>\n",
       "      <td>0.000000</td>\n",
       "      <td>-8.0</td>\n",
       "      <td>A</td>\n",
       "      <td>America/Los_Angeles</td>\n",
       "    </tr>\n",
       "    <tr>\n",
       "      <th>8106</th>\n",
       "      <td>9541</td>\n",
       "      <td>San Diego Old Town Transit Center</td>\n",
       "      <td>San Diego</td>\n",
       "      <td>United States</td>\n",
       "      <td>OLT</td>\n",
       "      <td>\\N</td>\n",
       "      <td>32.755200</td>\n",
       "      <td>-117.199500</td>\n",
       "      <td>0.000000</td>\n",
       "      <td>-8.0</td>\n",
       "      <td>A</td>\n",
       "      <td>America/Los_Angeles</td>\n",
       "    </tr>\n",
       "  </tbody>\n",
       "</table>\n",
       "<p>8107 rows × 12 columns</p>\n",
       "</div>"
      ],
      "text/plain": [
       "        0                                  1                2   \\\n",
       "0        1                             Goroka           Goroka   \n",
       "1        2                             Madang           Madang   \n",
       "2        3                        Mount Hagen      Mount Hagen   \n",
       "3        4                             Nadzab           Nadzab   \n",
       "4        5         Port Moresby Jacksons Intl     Port Moresby   \n",
       "...    ...                                ...              ...   \n",
       "8102  9537    Mansons Landing Water Aerodrome  Mansons Landing   \n",
       "8103  9538               Port McNeill Airport     Port McNeill   \n",
       "8104  9539       Sullivan Bay Water Aerodrome     Sullivan Bay   \n",
       "8105  9540               Deer Harbor Seaplane      Deer Harbor   \n",
       "8106  9541  San Diego Old Town Transit Center        San Diego   \n",
       "\n",
       "                    3    4     5          6           7           8     9  10  \\\n",
       "0     Papua New Guinea  GKA  AYGA  -6.081689  145.391881  186.532070  10.0  U   \n",
       "1     Papua New Guinea  MAG  AYMD  -5.207083  145.788700    0.706293  10.0  U   \n",
       "2     Papua New Guinea  HGU  AYMH  -5.826789  144.295861  190.275424  10.0  U   \n",
       "3     Papua New Guinea  LAE  AYNZ  -6.569828  146.726242    8.440205  10.0  U   \n",
       "4     Papua New Guinea  POM  AYPY  -9.443383  147.220050    5.155941  10.0  U   \n",
       "...                ...  ...   ...        ...         ...         ...   ... ..   \n",
       "8102            Canada  YMU    \\N  50.066667 -124.983333    0.000000  -8.0  A   \n",
       "8103            Canada  YMP    \\N  50.575556 -127.028611    7.945800  -8.0  A   \n",
       "8104            Canada  YTG    \\N  50.883333 -126.833333    0.000000  -8.0  A   \n",
       "8105     United States  DHB    \\N  48.618397 -123.005960    0.000000  -8.0  A   \n",
       "8106     United States  OLT    \\N  32.755200 -117.199500    0.000000  -8.0  A   \n",
       "\n",
       "                        11  \n",
       "0     Pacific/Port_Moresby  \n",
       "1     Pacific/Port_Moresby  \n",
       "2     Pacific/Port_Moresby  \n",
       "3     Pacific/Port_Moresby  \n",
       "4     Pacific/Port_Moresby  \n",
       "...                    ...  \n",
       "8102     America/Vancouver  \n",
       "8103     America/Vancouver  \n",
       "8104     America/Vancouver  \n",
       "8105   America/Los_Angeles  \n",
       "8106   America/Los_Angeles  \n",
       "\n",
       "[8107 rows x 12 columns]"
      ]
     },
     "execution_count": 113,
     "metadata": {},
     "output_type": "execute_result"
    }
   ],
   "source": [
    "# AMSL\n",
    "df[8] = df[8] / 3.048\n",
    "df\n"
   ]
  },
  {
   "cell_type": "code",
   "execution_count": 142,
   "metadata": {},
   "outputs": [
    {
     "data": {
      "text/plain": [
       "3\n",
       "Albania                           1\n",
       "Anguilla                          1\n",
       "Aruba                             1\n",
       "Barbados                          1\n",
       "Benin                             1\n",
       "Bhutan                            1\n",
       "British Indian Ocean Territory    1\n",
       "Burundi                           1\n",
       "Christmas Island                  1\n",
       "Cocos (Keeling) Islands           1\n",
       "Gambia                            1\n",
       "Gibraltar                         1\n",
       "Isle of Man                       1\n",
       "Jersey                            1\n",
       "Johnston Atoll                    1\n",
       "Korea                             1\n",
       "Luxembourg                        1\n",
       "Mayotte                           1\n",
       "Midway Islands                    1\n",
       "Monaco                            1\n",
       "Montserrat                        1\n",
       "Myanmar                           1\n",
       "Nauru                             1\n",
       "Niue                              1\n",
       "Norfolk Island                    1\n",
       "Palestine                         1\n",
       "Saint Helena                      1\n",
       "Swaziland                         1\n",
       "Tuvalu                            1\n",
       "Wake Island                       1\n",
       "West Bank                         1\n",
       "Name: 1, dtype: int64"
      ]
     },
     "execution_count": 142,
     "metadata": {},
     "output_type": "execute_result"
    }
   ],
   "source": [
    "# państwa z jednym lotniskiem\n",
    "res = df.groupby(df[3])[1].nunique()\n",
    "res = res[res == 1]\n",
    "res"
   ]
  },
  {
   "cell_type": "markdown",
   "metadata": {},
   "source": [
    "# Dane do kolejnych zadań\n",
    "Wczytanie dancyh:\n",
    "\n",
    "  * Powinieneś być w stanie zobaczyć wszystkie kolumny i 10 wierszy danych:\n",
    "  * survival – Survival (0 = No; 1 = Yes)\n",
    "  * pclass – Passenger Class (1 = 1st; 2 = 2nd; 3 = 3rd)\n",
    "  * sex – Sex\n",
    "  * age – Age\n",
    "  * sibsp – Number of Siblings/Spouses Aboard\n",
    "  * parch – Number of Parents/Children Aboard\n",
    "  * ticket – Ticket Number\n",
    "  * fare – Passenger Fare\n",
    "  * cabin – Cabin\n",
    "  * embarked – Port of Embarkation (C = Cherbourg; Q = Queenstown; S = Southampton)\n"
   ]
  },
  {
   "cell_type": "code",
   "execution_count": 19,
   "metadata": {},
   "outputs": [
    {
     "name": "stdout",
     "output_type": "stream",
     "text": [
      "(891, 15)\n"
     ]
    },
    {
     "data": {
      "text/html": [
       "<div>\n",
       "<style scoped>\n",
       "    .dataframe tbody tr th:only-of-type {\n",
       "        vertical-align: middle;\n",
       "    }\n",
       "\n",
       "    .dataframe tbody tr th {\n",
       "        vertical-align: top;\n",
       "    }\n",
       "\n",
       "    .dataframe thead th {\n",
       "        text-align: right;\n",
       "    }\n",
       "</style>\n",
       "<table border=\"1\" class=\"dataframe\">\n",
       "  <thead>\n",
       "    <tr style=\"text-align: right;\">\n",
       "      <th></th>\n",
       "      <th>survived</th>\n",
       "      <th>pclass</th>\n",
       "      <th>sex</th>\n",
       "      <th>age</th>\n",
       "      <th>sibsp</th>\n",
       "      <th>parch</th>\n",
       "      <th>fare</th>\n",
       "      <th>embarked</th>\n",
       "      <th>class</th>\n",
       "      <th>who</th>\n",
       "      <th>adult_male</th>\n",
       "      <th>deck</th>\n",
       "      <th>embark_town</th>\n",
       "      <th>alive</th>\n",
       "      <th>alone</th>\n",
       "    </tr>\n",
       "  </thead>\n",
       "  <tbody>\n",
       "    <tr>\n",
       "      <th>0</th>\n",
       "      <td>0</td>\n",
       "      <td>3</td>\n",
       "      <td>male</td>\n",
       "      <td>22.0</td>\n",
       "      <td>1</td>\n",
       "      <td>0</td>\n",
       "      <td>7.2500</td>\n",
       "      <td>S</td>\n",
       "      <td>Third</td>\n",
       "      <td>man</td>\n",
       "      <td>True</td>\n",
       "      <td>NaN</td>\n",
       "      <td>Southampton</td>\n",
       "      <td>no</td>\n",
       "      <td>False</td>\n",
       "    </tr>\n",
       "    <tr>\n",
       "      <th>1</th>\n",
       "      <td>1</td>\n",
       "      <td>1</td>\n",
       "      <td>female</td>\n",
       "      <td>38.0</td>\n",
       "      <td>1</td>\n",
       "      <td>0</td>\n",
       "      <td>71.2833</td>\n",
       "      <td>C</td>\n",
       "      <td>First</td>\n",
       "      <td>woman</td>\n",
       "      <td>False</td>\n",
       "      <td>C</td>\n",
       "      <td>Cherbourg</td>\n",
       "      <td>yes</td>\n",
       "      <td>False</td>\n",
       "    </tr>\n",
       "    <tr>\n",
       "      <th>2</th>\n",
       "      <td>1</td>\n",
       "      <td>3</td>\n",
       "      <td>female</td>\n",
       "      <td>26.0</td>\n",
       "      <td>0</td>\n",
       "      <td>0</td>\n",
       "      <td>7.9250</td>\n",
       "      <td>S</td>\n",
       "      <td>Third</td>\n",
       "      <td>woman</td>\n",
       "      <td>False</td>\n",
       "      <td>NaN</td>\n",
       "      <td>Southampton</td>\n",
       "      <td>yes</td>\n",
       "      <td>True</td>\n",
       "    </tr>\n",
       "    <tr>\n",
       "      <th>3</th>\n",
       "      <td>1</td>\n",
       "      <td>1</td>\n",
       "      <td>female</td>\n",
       "      <td>35.0</td>\n",
       "      <td>1</td>\n",
       "      <td>0</td>\n",
       "      <td>53.1000</td>\n",
       "      <td>S</td>\n",
       "      <td>First</td>\n",
       "      <td>woman</td>\n",
       "      <td>False</td>\n",
       "      <td>C</td>\n",
       "      <td>Southampton</td>\n",
       "      <td>yes</td>\n",
       "      <td>False</td>\n",
       "    </tr>\n",
       "    <tr>\n",
       "      <th>4</th>\n",
       "      <td>0</td>\n",
       "      <td>3</td>\n",
       "      <td>male</td>\n",
       "      <td>35.0</td>\n",
       "      <td>0</td>\n",
       "      <td>0</td>\n",
       "      <td>8.0500</td>\n",
       "      <td>S</td>\n",
       "      <td>Third</td>\n",
       "      <td>man</td>\n",
       "      <td>True</td>\n",
       "      <td>NaN</td>\n",
       "      <td>Southampton</td>\n",
       "      <td>no</td>\n",
       "      <td>True</td>\n",
       "    </tr>\n",
       "  </tbody>\n",
       "</table>\n",
       "</div>"
      ],
      "text/plain": [
       "   survived  pclass     sex   age  sibsp  parch     fare embarked  class  \\\n",
       "0         0       3    male  22.0      1      0   7.2500        S  Third   \n",
       "1         1       1  female  38.0      1      0  71.2833        C  First   \n",
       "2         1       3  female  26.0      0      0   7.9250        S  Third   \n",
       "3         1       1  female  35.0      1      0  53.1000        S  First   \n",
       "4         0       3    male  35.0      0      0   8.0500        S  Third   \n",
       "\n",
       "     who  adult_male deck  embark_town alive  alone  \n",
       "0    man        True  NaN  Southampton    no  False  \n",
       "1  woman       False    C    Cherbourg   yes  False  \n",
       "2  woman       False  NaN  Southampton   yes   True  \n",
       "3  woman       False    C  Southampton   yes  False  \n",
       "4    man        True  NaN  Southampton    no   True  "
      ]
     },
     "execution_count": 19,
     "metadata": {},
     "output_type": "execute_result"
    }
   ],
   "source": [
    "df = pd.read_csv('https://raw.githubusercontent.com/mwaskom/seaborn-data/master/titanic.csv')\n",
    "\n",
    "print(df.shape)\n",
    "df.head()"
   ]
  },
  {
   "cell_type": "code",
   "execution_count": 20,
   "metadata": {},
   "outputs": [],
   "source": [
    "df = df.rename(columns={\"class\": \"pclass\", \"who\": \"sex\", \"deck\": \"cabin\"})"
   ]
  },
  {
   "cell_type": "code",
   "execution_count": 158,
   "metadata": {},
   "outputs": [
    {
     "data": {
      "text/plain": [
       "Index(['survived', 'pclass', 'sex', 'age', 'sibsp', 'parch', 'fare',\n",
       "       'embarked', 'pclass', 'sex', 'adult_male', 'cabin', 'embark_town',\n",
       "       'alive', 'alone'],\n",
       "      dtype='object')"
      ]
     },
     "execution_count": 158,
     "metadata": {},
     "output_type": "execute_result"
    }
   ],
   "source": [
    "df.columns"
   ]
  },
  {
   "cell_type": "markdown",
   "metadata": {},
   "source": [
    "# Zadanie 6\n",
    "\n",
    "Usuń kolumny: \"PassengerId\", \"Name\" i \"Ticket\".\n",
    "\n",
    "Powody:\n",
    "\n",
    "  * PassengerId - jest to unikalny numer\n",
    "  * Imię - nie ma wpływu na predykcje\n",
    "  * Bilet - wygląda niechlujnie i jest losowe"
   ]
  },
  {
   "cell_type": "code",
   "execution_count": null,
   "metadata": {},
   "outputs": [],
   "source": [
    "# data from different source"
   ]
  },
  {
   "cell_type": "markdown",
   "metadata": {},
   "source": [
    "# Następnie musimy spojrzeć na kolumnę Cabin.\n",
    "\n",
    "Następnie musimy spojrzeć na kolumnę Cabin. Będziemy leniwi i zmienimy wartości na Tak lub Nie (w zależności czy posiadał kabinę). Lepszym sposobem na to może być podzielenie opisu tak aby uzyskać pierwszą literę, ponieważ zwykle oznacza ona, na którym pokładzie znajdowała się kabina. Może to być użyteczne przy predykcji (ale my na razie jej nie wykonujemy)."
   ]
  },
  {
   "cell_type": "code",
   "execution_count": 21,
   "metadata": {},
   "outputs": [
    {
     "data": {
      "text/html": [
       "<div>\n",
       "<style scoped>\n",
       "    .dataframe tbody tr th:only-of-type {\n",
       "        vertical-align: middle;\n",
       "    }\n",
       "\n",
       "    .dataframe tbody tr th {\n",
       "        vertical-align: top;\n",
       "    }\n",
       "\n",
       "    .dataframe thead th {\n",
       "        text-align: right;\n",
       "    }\n",
       "</style>\n",
       "<table border=\"1\" class=\"dataframe\">\n",
       "  <thead>\n",
       "    <tr style=\"text-align: right;\">\n",
       "      <th></th>\n",
       "      <th>survived</th>\n",
       "      <th>pclass</th>\n",
       "      <th>sex</th>\n",
       "      <th>age</th>\n",
       "      <th>sibsp</th>\n",
       "      <th>parch</th>\n",
       "      <th>fare</th>\n",
       "      <th>embarked</th>\n",
       "      <th>pclass</th>\n",
       "      <th>sex</th>\n",
       "      <th>adult_male</th>\n",
       "      <th>cabin</th>\n",
       "      <th>embark_town</th>\n",
       "      <th>alive</th>\n",
       "      <th>alone</th>\n",
       "    </tr>\n",
       "  </thead>\n",
       "  <tbody>\n",
       "    <tr>\n",
       "      <th>0</th>\n",
       "      <td>0</td>\n",
       "      <td>3</td>\n",
       "      <td>male</td>\n",
       "      <td>22.0</td>\n",
       "      <td>1</td>\n",
       "      <td>0</td>\n",
       "      <td>7.2500</td>\n",
       "      <td>S</td>\n",
       "      <td>Third</td>\n",
       "      <td>man</td>\n",
       "      <td>True</td>\n",
       "      <td>NaN</td>\n",
       "      <td>Southampton</td>\n",
       "      <td>no</td>\n",
       "      <td>False</td>\n",
       "    </tr>\n",
       "    <tr>\n",
       "      <th>2</th>\n",
       "      <td>1</td>\n",
       "      <td>3</td>\n",
       "      <td>female</td>\n",
       "      <td>26.0</td>\n",
       "      <td>0</td>\n",
       "      <td>0</td>\n",
       "      <td>7.9250</td>\n",
       "      <td>S</td>\n",
       "      <td>Third</td>\n",
       "      <td>woman</td>\n",
       "      <td>False</td>\n",
       "      <td>NaN</td>\n",
       "      <td>Southampton</td>\n",
       "      <td>yes</td>\n",
       "      <td>True</td>\n",
       "    </tr>\n",
       "    <tr>\n",
       "      <th>4</th>\n",
       "      <td>0</td>\n",
       "      <td>3</td>\n",
       "      <td>male</td>\n",
       "      <td>35.0</td>\n",
       "      <td>0</td>\n",
       "      <td>0</td>\n",
       "      <td>8.0500</td>\n",
       "      <td>S</td>\n",
       "      <td>Third</td>\n",
       "      <td>man</td>\n",
       "      <td>True</td>\n",
       "      <td>NaN</td>\n",
       "      <td>Southampton</td>\n",
       "      <td>no</td>\n",
       "      <td>True</td>\n",
       "    </tr>\n",
       "    <tr>\n",
       "      <th>5</th>\n",
       "      <td>0</td>\n",
       "      <td>3</td>\n",
       "      <td>male</td>\n",
       "      <td>NaN</td>\n",
       "      <td>0</td>\n",
       "      <td>0</td>\n",
       "      <td>8.4583</td>\n",
       "      <td>Q</td>\n",
       "      <td>Third</td>\n",
       "      <td>man</td>\n",
       "      <td>True</td>\n",
       "      <td>NaN</td>\n",
       "      <td>Queenstown</td>\n",
       "      <td>no</td>\n",
       "      <td>True</td>\n",
       "    </tr>\n",
       "    <tr>\n",
       "      <th>7</th>\n",
       "      <td>0</td>\n",
       "      <td>3</td>\n",
       "      <td>male</td>\n",
       "      <td>2.0</td>\n",
       "      <td>3</td>\n",
       "      <td>1</td>\n",
       "      <td>21.0750</td>\n",
       "      <td>S</td>\n",
       "      <td>Third</td>\n",
       "      <td>child</td>\n",
       "      <td>False</td>\n",
       "      <td>NaN</td>\n",
       "      <td>Southampton</td>\n",
       "      <td>no</td>\n",
       "      <td>False</td>\n",
       "    </tr>\n",
       "  </tbody>\n",
       "</table>\n",
       "</div>"
      ],
      "text/plain": [
       "   survived pclass     sex   age  sibsp  parch     fare embarked pclass  \\\n",
       "0         0      3    male  22.0      1      0   7.2500        S  Third   \n",
       "2         1      3  female  26.0      0      0   7.9250        S  Third   \n",
       "4         0      3    male  35.0      0      0   8.0500        S  Third   \n",
       "5         0      3    male   NaN      0      0   8.4583        Q  Third   \n",
       "7         0      3    male   2.0      3      1  21.0750        S  Third   \n",
       "\n",
       "     sex  adult_male cabin  embark_town alive  alone  \n",
       "0    man        True   NaN  Southampton    no  False  \n",
       "2  woman       False   NaN  Southampton   yes   True  \n",
       "4    man        True   NaN  Southampton    no   True  \n",
       "5    man        True   NaN   Queenstown    no   True  \n",
       "7  child       False   NaN  Southampton    no  False  "
      ]
     },
     "execution_count": 21,
     "metadata": {},
     "output_type": "execute_result"
    }
   ],
   "source": [
    "# wszystkie rozwiazania ponizej maja dodane na koncu head, aby wyniki nie byly zbyt duze\n",
    "df.loc[df.cabin.isnull()].head()"
   ]
  },
  {
   "cell_type": "markdown",
   "metadata": {},
   "source": [
    "# Zadanie 7\n",
    "Utwórz nową kolumną o nazwie HasCabin, która zawiera 1 jeżeli ktoś miał swoją kabinę i 0 jeśli nie."
   ]
  },
  {
   "cell_type": "code",
   "execution_count": 22,
   "metadata": {},
   "outputs": [
    {
     "data": {
      "text/html": [
       "<div>\n",
       "<style scoped>\n",
       "    .dataframe tbody tr th:only-of-type {\n",
       "        vertical-align: middle;\n",
       "    }\n",
       "\n",
       "    .dataframe tbody tr th {\n",
       "        vertical-align: top;\n",
       "    }\n",
       "\n",
       "    .dataframe thead th {\n",
       "        text-align: right;\n",
       "    }\n",
       "</style>\n",
       "<table border=\"1\" class=\"dataframe\">\n",
       "  <thead>\n",
       "    <tr style=\"text-align: right;\">\n",
       "      <th></th>\n",
       "      <th>survived</th>\n",
       "      <th>pclass</th>\n",
       "      <th>sex</th>\n",
       "      <th>age</th>\n",
       "      <th>sibsp</th>\n",
       "      <th>parch</th>\n",
       "      <th>fare</th>\n",
       "      <th>embarked</th>\n",
       "      <th>pclass</th>\n",
       "      <th>sex</th>\n",
       "      <th>adult_male</th>\n",
       "      <th>cabin</th>\n",
       "      <th>embark_town</th>\n",
       "      <th>alive</th>\n",
       "      <th>alone</th>\n",
       "      <th>HasCabin</th>\n",
       "    </tr>\n",
       "  </thead>\n",
       "  <tbody>\n",
       "    <tr>\n",
       "      <th>0</th>\n",
       "      <td>0</td>\n",
       "      <td>3</td>\n",
       "      <td>male</td>\n",
       "      <td>22.0</td>\n",
       "      <td>1</td>\n",
       "      <td>0</td>\n",
       "      <td>7.2500</td>\n",
       "      <td>S</td>\n",
       "      <td>Third</td>\n",
       "      <td>man</td>\n",
       "      <td>True</td>\n",
       "      <td>NaN</td>\n",
       "      <td>Southampton</td>\n",
       "      <td>no</td>\n",
       "      <td>False</td>\n",
       "      <td>0</td>\n",
       "    </tr>\n",
       "    <tr>\n",
       "      <th>1</th>\n",
       "      <td>1</td>\n",
       "      <td>1</td>\n",
       "      <td>female</td>\n",
       "      <td>38.0</td>\n",
       "      <td>1</td>\n",
       "      <td>0</td>\n",
       "      <td>71.2833</td>\n",
       "      <td>C</td>\n",
       "      <td>First</td>\n",
       "      <td>woman</td>\n",
       "      <td>False</td>\n",
       "      <td>C</td>\n",
       "      <td>Cherbourg</td>\n",
       "      <td>yes</td>\n",
       "      <td>False</td>\n",
       "      <td>1</td>\n",
       "    </tr>\n",
       "    <tr>\n",
       "      <th>2</th>\n",
       "      <td>1</td>\n",
       "      <td>3</td>\n",
       "      <td>female</td>\n",
       "      <td>26.0</td>\n",
       "      <td>0</td>\n",
       "      <td>0</td>\n",
       "      <td>7.9250</td>\n",
       "      <td>S</td>\n",
       "      <td>Third</td>\n",
       "      <td>woman</td>\n",
       "      <td>False</td>\n",
       "      <td>NaN</td>\n",
       "      <td>Southampton</td>\n",
       "      <td>yes</td>\n",
       "      <td>True</td>\n",
       "      <td>0</td>\n",
       "    </tr>\n",
       "    <tr>\n",
       "      <th>3</th>\n",
       "      <td>1</td>\n",
       "      <td>1</td>\n",
       "      <td>female</td>\n",
       "      <td>35.0</td>\n",
       "      <td>1</td>\n",
       "      <td>0</td>\n",
       "      <td>53.1000</td>\n",
       "      <td>S</td>\n",
       "      <td>First</td>\n",
       "      <td>woman</td>\n",
       "      <td>False</td>\n",
       "      <td>C</td>\n",
       "      <td>Southampton</td>\n",
       "      <td>yes</td>\n",
       "      <td>False</td>\n",
       "      <td>1</td>\n",
       "    </tr>\n",
       "    <tr>\n",
       "      <th>4</th>\n",
       "      <td>0</td>\n",
       "      <td>3</td>\n",
       "      <td>male</td>\n",
       "      <td>35.0</td>\n",
       "      <td>0</td>\n",
       "      <td>0</td>\n",
       "      <td>8.0500</td>\n",
       "      <td>S</td>\n",
       "      <td>Third</td>\n",
       "      <td>man</td>\n",
       "      <td>True</td>\n",
       "      <td>NaN</td>\n",
       "      <td>Southampton</td>\n",
       "      <td>no</td>\n",
       "      <td>True</td>\n",
       "      <td>0</td>\n",
       "    </tr>\n",
       "  </tbody>\n",
       "</table>\n",
       "</div>"
      ],
      "text/plain": [
       "   survived pclass     sex   age  sibsp  parch     fare embarked pclass  \\\n",
       "0         0      3    male  22.0      1      0   7.2500        S  Third   \n",
       "1         1      1  female  38.0      1      0  71.2833        C  First   \n",
       "2         1      3  female  26.0      0      0   7.9250        S  Third   \n",
       "3         1      1  female  35.0      1      0  53.1000        S  First   \n",
       "4         0      3    male  35.0      0      0   8.0500        S  Third   \n",
       "\n",
       "     sex  adult_male cabin  embark_town alive  alone  HasCabin  \n",
       "0    man        True   NaN  Southampton    no  False         0  \n",
       "1  woman       False     C    Cherbourg   yes  False         1  \n",
       "2  woman       False   NaN  Southampton   yes   True         0  \n",
       "3  woman       False     C  Southampton   yes  False         1  \n",
       "4    man        True   NaN  Southampton    no   True         0  "
      ]
     },
     "execution_count": 22,
     "metadata": {},
     "output_type": "execute_result"
    }
   ],
   "source": [
    "df['HasCabin'] = df['cabin'].notnull().astype(int)\n",
    "df.head()"
   ]
  },
  {
   "cell_type": "markdown",
   "metadata": {},
   "source": [
    "# Zadanie 8\n",
    "Usuń brakujące wartości"
   ]
  },
  {
   "cell_type": "code",
   "execution_count": 26,
   "metadata": {},
   "outputs": [
    {
     "name": "stdout",
     "output_type": "stream",
     "text": [
      "<class 'pandas.core.frame.DataFrame'>\n",
      "Int64Index: 182 entries, 1 to 889\n",
      "Data columns (total 16 columns):\n",
      " #   Column       Non-Null Count  Dtype  \n",
      "---  ------       --------------  -----  \n",
      " 0   survived     182 non-null    int64  \n",
      " 1   pclass       182 non-null    int64  \n",
      " 2   sex          182 non-null    object \n",
      " 3   age          182 non-null    float64\n",
      " 4   sibsp        182 non-null    int64  \n",
      " 5   parch        182 non-null    int64  \n",
      " 6   fare         182 non-null    float64\n",
      " 7   embarked     182 non-null    object \n",
      " 8   pclass       182 non-null    object \n",
      " 9   sex          182 non-null    object \n",
      " 10  adult_male   182 non-null    bool   \n",
      " 11  cabin        182 non-null    object \n",
      " 12  embark_town  182 non-null    object \n",
      " 13  alive        182 non-null    object \n",
      " 14  alone        182 non-null    bool   \n",
      " 15  HasCabin     182 non-null    int32  \n",
      "dtypes: bool(2), float64(2), int32(1), int64(4), object(7)\n",
      "memory usage: 21.0+ KB\n"
     ]
    }
   ],
   "source": [
    "df2 = df.dropna()\n",
    "df2.info()"
   ]
  },
  {
   "cell_type": "markdown",
   "metadata": {},
   "source": [
    "# Matplotlib - rysowanie wykresów w Pythonie\n",
    "\n",
    "**Matplotlib** jest biblioteką do tworzenia wysokiej jakości wykresów dla języka Python i jego rozszerzenia numerycznego NumPy. Umożliwia prezentację danych w różnych formatach (np. PNG, PDF, XLS). Zapewnia kontrolę nad wyglądem, stylami i właściwościami wykresów, pracę w środowisku interaktywnym, jak i możliwość osadzania wyników w aplikacjach destkopowych czy webowych.\n",
    "\n",
    "Funkcje i narzędzia tej biblioteki są napisane w taki sposób aby jak najbardziej odzwierciedlały metody rysowania wykresów z języka MatLab, dzięki czemu użytkownicy Matlaba w łatwy sposób mogą przenieść się do języka Python.\n",
    "Niektóre zalety korzystania z Pythona, NumPy i matplotlib nad MatLabem:\n",
    "  \n",
    "  * nowoczesny język programowania w pełni funkcjonalny obiektowo, odpowiedni do tworzenia oprogramowania na dużą skalę,\n",
    "  * darmowy (open source),\n",
    "  * wsparcie SVG.\n",
    "\n",
    "Aby skorzystać z biblioteki matplotlib należy ją wcześniej zaimportować, np.:"
   ]
  },
  {
   "cell_type": "code",
   "execution_count": 2,
   "metadata": {},
   "outputs": [],
   "source": [
    "import matplotlib.pyplot as plt\n",
    "# from matplotlib import pyplot as plt\n",
    "\n",
    "%matplotlib inline"
   ]
  },
  {
   "cell_type": "markdown",
   "metadata": {},
   "source": [
    "# Pierwszy wykres"
   ]
  },
  {
   "cell_type": "code",
   "execution_count": 3,
   "metadata": {},
   "outputs": [
    {
     "data": {
      "image/png": "[encoded data removed]",
      "text/plain": [
       "<Figure size 432x288 with 1 Axes>"
      ]
     },
     "metadata": {
      "needs_background": "light"
     },
     "output_type": "display_data"
    }
   ],
   "source": [
    "plt.plot([1, 5, 2, 7, 4, 1]) # wartości funkcji\n",
    "plt.show()"
   ]
  },
  {
   "cell_type": "code",
   "execution_count": 4,
   "metadata": {},
   "outputs": [
    {
     "data": {
      "image/png": "[encoded data removed]",
      "text/plain": [
       "<Figure size 432x288 with 1 Axes>"
      ]
     },
     "metadata": {
      "needs_background": "light"
     },
     "output_type": "display_data"
    }
   ],
   "source": [
    "plt.plot([1, 2, 4, 7], [-1, 3, -2, 10])\n",
    "plt.show()"
   ]
  },
  {
   "cell_type": "markdown",
   "metadata": {},
   "source": [
    "Własności wykresów\n",
    "Za pomocą specjalnych poleceń można też zmieniać właściwości wykresów, takie jak np.: rodzaj linii, kolor, czy też symbole punktów.\n",
    "Rodzaje linii:\n",
    "  \n",
    "  * **\\-** - ciągła,\n",
    "  * **:** - punktowa,\n",
    "  * **-.** - kropka-kreska,\n",
    "  * **--** - kreskowana.\n",
    "\n",
    "Kolory:\n",
    "\n",
    "  * **y** - yellow,\n",
    "  * **m** - magenta,\n",
    "  * **c** - cyan,\n",
    "  * **r** - red,\n",
    "  * **g** - green,\n",
    "  * **b** - blue,\n",
    "  * **w** - white,\n",
    "  * **k** - black.\n",
    "\n",
    "Symbole:\n",
    "\n",
    "  * **.** - punkt,\n",
    "  * **o** - kółko,\n",
    "  * **x** - x,\n",
    "  * **\\+** - plus,\n",
    "  * ** \\* ** - gwiazdka,\n",
    "  * **s** - kwadraty,\n",
    "  * **d** - romb,\n",
    "  * **v** - trójkąt w dół,\n",
    "  * **^** - trójkąt w górę,\n",
    "  * **<** - trójkąt w lewo,\n",
    "  * **\\>** - trójkąt w prawo,\n",
    "  * **p** - pięciokąt,\n",
    "  * **h** - sześciokąt."
   ]
  },
  {
   "cell_type": "code",
   "execution_count": 5,
   "metadata": {},
   "outputs": [
    {
     "data": {
      "image/png": "[encoded data removed]",
      "text/plain": [
       "<Figure size 432x288 with 1 Axes>"
      ]
     },
     "metadata": {
      "needs_background": "light"
     },
     "output_type": "display_data"
    }
   ],
   "source": [
    "import numpy as np\n",
    "\n",
    "x = np.arange(0., 5., 0.2)\n",
    "\n",
    "plt.plot(x, x, 'r--', x, x**2, 'bs', x, x**3, 'g^')\n",
    "plt.show()"
   ]
  },
  {
   "cell_type": "code",
   "execution_count": 6,
   "metadata": {},
   "outputs": [
    {
     "data": {
      "image/png": "[encoded data removed]",
      "text/plain": [
       "<Figure size 432x288 with 1 Axes>"
      ]
     },
     "metadata": {
      "needs_background": "light"
     },
     "output_type": "display_data"
    }
   ],
   "source": [
    "x = [1,2,3,4]\n",
    "y = [20, 21, 20.5, 20.8]\n",
    "\n",
    "plt.plot(x, y, linestyle=\"dashed\", marker=\"o\", color=\"green\")\n",
    "\n",
    "# ustawienie granic osi X, \n",
    "plt.xlim(0.5,4.5)\n",
    "plt.ylim(19.8,21.2)\n",
    "\n",
    "plt.show()"
   ]
  },
  {
   "cell_type": "code",
   "execution_count": 7,
   "metadata": {},
   "outputs": [
    {
     "data": {
      "image/png": "[encoded data removed]",
      "text/plain": [
       "<Figure size 432x288 with 1 Axes>"
      ]
     },
     "metadata": {
      "needs_background": "light"
     },
     "output_type": "display_data"
    }
   ],
   "source": [
    "x = np.linspace(0, 20, 1000)\n",
    "y1 = np.sin(x)\n",
    "y2 = np.cos(x)\n",
    "\n",
    "# rozmiar czcionki\n",
    "plt.rc(\"font\", size=10)\n",
    "\n",
    "# dodanie legendy\n",
    "plt.plot(x, y1, '-b', label=r'$\\sin(x)$')\n",
    "plt.plot(x, y2, '-r', label='cosine')\n",
    "plt.legend(loc='upper right') # pozycja legendy\n",
    "# plt.legend(loc='upper left', frameon=False)\n",
    "plt.ylim(-1.5, 2.0)\n",
    "\n",
    "plt.title(\"Dwa wykresy\", size=20)\n",
    "\n",
    "plt.show()"
   ]
  },
  {
   "cell_type": "code",
   "execution_count": null,
   "metadata": {},
   "outputs": [],
   "source": []
  },
  {
   "cell_type": "markdown",
   "metadata": {},
   "source": [
    "Więcej na temat wyszczególnienia obiektów na wykresie odsyłam do dokumntacji: [http://matplotlib.org/users/annotations_guide.html]\n"
   ]
  },
  {
   "cell_type": "markdown",
   "metadata": {},
   "source": [
    "#  Statystyka\n"
   ]
  },
  {
   "cell_type": "code",
   "execution_count": 41,
   "metadata": {},
   "outputs": [],
   "source": [
    "import pandas as pd\n",
    "\n",
    "inFile = 'http://ww2.amstat.org/publications/jse/datasets/babyboom.dat.txt'\n",
    "data = pd.read_csv(inFile, sep='[ ]+', header=None, engine='python',names= ['sex', 'Weight', 'Minutes'])\n",
    "df = data[['Minutes', 'sex', 'Weight']]"
   ]
  },
  {
   "cell_type": "markdown",
   "metadata": {},
   "source": [
    "  * Narysujmy dane <tt>df.Weight.values</tt> jako szereg czasowy"
   ]
  },
  {
   "cell_type": "code",
   "execution_count": 11,
   "metadata": {},
   "outputs": [
    {
     "data": {
      "image/png": "[encoded data removed]",
      "text/plain": [
       "<Figure size 432x288 with 1 Axes>"
      ]
     },
     "metadata": {
      "needs_background": "light"
     },
     "output_type": "display_data"
    }
   ],
   "source": [
    "x=df.Weight.values\n",
    "plt.scatter(np.arange(len(x)), x)\n",
    "plt.show()"
   ]
  },
  {
   "cell_type": "markdown",
   "metadata": {},
   "source": [
    " Narysujmy histogram dla <tt>df.Weight.values</tt>"
   ]
  },
  {
   "cell_type": "code",
   "execution_count": null,
   "metadata": {},
   "outputs": [
    {
     "data": {
      "image/png": "[encoded data removed]",
      "text/plain": [
       "<Figure size 432x288 with 1 Axes>"
      ]
     },
     "metadata": {
      "needs_background": "light"
     },
     "output_type": "display_data"
    }
   ],
   "source": [
    "plt.hist(x, bins=25)\n",
    "plt.show()"
   ]
  },
  {
   "cell_type": "markdown",
   "metadata": {},
   "source": [
    "Narysujmy gęstość dla <tt> df.Weight.values</tt> (estymacja jądrowa):"
   ]
  },
  {
   "cell_type": "code",
   "execution_count": 12,
   "metadata": {},
   "outputs": [
    {
     "data": {
      "image/png": "[encoded data removed]",
      "text/plain": [
       "<Figure size 432x288 with 1 Axes>"
      ]
     },
     "metadata": {
      "needs_background": "light"
     },
     "output_type": "display_data"
    }
   ],
   "source": [
    "import seaborn as sns\n",
    "sns.kdeplot(x)\n",
    "plt.show()"
   ]
  },
  {
   "cell_type": "markdown",
   "metadata": {},
   "source": [
    "Narysujmy dystrybuantę empiryczną dla </tt> df.Weight.values<tt>"
   ]
  },
  {
   "cell_type": "code",
   "execution_count": 13,
   "metadata": {},
   "outputs": [
    {
     "data": {
      "image/png": "[encoded data removed]",
      "text/plain": [
       "<Figure size 432x288 with 1 Axes>"
      ]
     },
     "metadata": {
      "needs_background": "light"
     },
     "output_type": "display_data"
    }
   ],
   "source": [
    "from scipy import stats\n",
    "plt.plot(stats.cumfreq(x,numbins=25)[0])\n",
    "plt.show()"
   ]
  },
  {
   "cell_type": "markdown",
   "metadata": {},
   "source": [
    "Narysujmy wykres pudełkowy dla <tt>df.Weight.values</tt>"
   ]
  },
  {
   "cell_type": "code",
   "execution_count": 14,
   "metadata": {},
   "outputs": [
    {
     "data": {
      "image/png": "[encoded data removed]",
      "text/plain": [
       "<Figure size 432x288 with 1 Axes>"
      ]
     },
     "metadata": {
      "needs_background": "light"
     },
     "output_type": "display_data"
    }
   ],
   "source": [
    "plt.boxplot(x, sym='*')\n",
    "plt.show()"
   ]
  },
  {
   "cell_type": "markdown",
   "metadata": {},
   "source": [
    "Narysujmy wykres skrzypcowy dla <tt>df.Weight.values</tt>"
   ]
  },
  {
   "cell_type": "code",
   "execution_count": 15,
   "metadata": {},
   "outputs": [
    {
     "name": "stderr",
     "output_type": "stream",
     "text": [
      "C:\\Users\\jakub\\AppData\\Local\\Programs\\Python\\Python310\\lib\\site-packages\\seaborn\\_decorators.py:36: FutureWarning: Pass the following variable as a keyword arg: x. From version 0.12, the only valid positional argument will be `data`, and passing other arguments without an explicit keyword will result in an error or misinterpretation.\n",
      "  warnings.warn(\n"
     ]
    },
    {
     "data": {
      "image/png": "[encoded data removed]",
      "text/plain": [
       "<Figure size 432x288 with 1 Axes>"
      ]
     },
     "metadata": {
      "needs_background": "light"
     },
     "output_type": "display_data"
    }
   ],
   "source": [
    "sns.violinplot(x)\n",
    "plt.show()"
   ]
  },
  {
   "cell_type": "markdown",
   "metadata": {},
   "source": [
    "# Zadanie\n",
    "Proszę podzielić próbkę na dwie grupy ze względu na płeć (kolumna ``sex'') i narysować dla nich:\n",
    "<ul>\n",
    "<li>wykres w kształcie szeregu czasowego</li>\n",
    "<li>histogramy</li>\n",
    "<li>estymacje gęstości</li>\n",
    "<li>dystrybuanty empiryczne</li>\n",
    "<li>wykresy pudełkowe</li>\n",
    "<li>wykresy skrzypcowe</li>\n",
    "</ul>"
   ]
  },
  {
   "cell_type": "code",
   "execution_count": 42,
   "metadata": {},
   "outputs": [
    {
     "data": {
      "text/plain": [
       "sex\n",
       "1    AxesSubplot(0.125,0.125;0.775x0.755)\n",
       "2    AxesSubplot(0.125,0.125;0.775x0.755)\n",
       "Name: Weight, dtype: object"
      ]
     },
     "execution_count": 42,
     "metadata": {},
     "output_type": "execute_result"
    },
    {
     "data": {
      "image/png": "[encoded data removed]",
      "text/plain": [
       "<Figure size 432x288 with 1 Axes>"
      ]
     },
     "metadata": {
      "needs_background": "light"
     },
     "output_type": "display_data"
    }
   ],
   "source": [
    "df.set_index('Minutes', inplace=True)\n",
    "df2 = df.groupby('sex')['Weight']\n",
    "df2.plot(legend=True)"
   ]
  },
  {
   "cell_type": "code",
   "execution_count": 47,
   "metadata": {},
   "outputs": [
    {
     "data": {
      "text/plain": [
       "sex\n",
       "1    AxesSubplot(0.125,0.125;0.775x0.755)\n",
       "2    AxesSubplot(0.125,0.125;0.775x0.755)\n",
       "Name: Weight, dtype: object"
      ]
     },
     "execution_count": 47,
     "metadata": {},
     "output_type": "execute_result"
    },
    {
     "data": {
      "image/png": "[encoded data removed]",
      "text/plain": [
       "<Figure size 432x288 with 1 Axes>"
      ]
     },
     "metadata": {
      "needs_background": "light"
     },
     "output_type": "display_data"
    }
   ],
   "source": [
    "df2.hist(bins=30, alpha=0.5)"
   ]
  },
  {
   "cell_type": "code",
   "execution_count": 63,
   "metadata": {},
   "outputs": [
    {
     "ename": "TypeError",
     "evalue": "The x variable is categorical, but one of ['numeric', 'datetime'] is required",
     "output_type": "error",
     "traceback": [
      "\u001b[1;31m---------------------------------------------------------------------------\u001b[0m",
      "\u001b[1;31mTypeError\u001b[0m                                 Traceback (most recent call last)",
      "\u001b[1;32mc:\\Studia\\3rok\\AI\\podstawy_sztucznej_inteligencji\\Z02_numy_pandas.ipynb Cell 178'\u001b[0m in \u001b[0;36m<cell line: 2>\u001b[1;34m()\u001b[0m\n\u001b[0;32m      <a href='vscode-notebook-cell:/c%3A/Studia/3rok/AI/podstawy_sztucznej_inteligencji/Z02_numy_pandas.ipynb#ch0000177?line=0'>1</a>\u001b[0m \u001b[39mimport\u001b[39;00m \u001b[39mseaborn\u001b[39;00m \u001b[39mas\u001b[39;00m \u001b[39msns\u001b[39;00m\n\u001b[1;32m----> <a href='vscode-notebook-cell:/c%3A/Studia/3rok/AI/podstawy_sztucznej_inteligencji/Z02_numy_pandas.ipynb#ch0000177?line=1'>2</a>\u001b[0m sns\u001b[39m.\u001b[39;49mkdeplot(df2)\n",
      "File \u001b[1;32m~\\AppData\\Local\\Programs\\Python\\Python310\\lib\\site-packages\\seaborn\\_decorators.py:46\u001b[0m, in \u001b[0;36m_deprecate_positional_args.<locals>.inner_f\u001b[1;34m(*args, **kwargs)\u001b[0m\n\u001b[0;32m     <a href='file:///c%3A/Users/jakub/AppData/Local/Programs/Python/Python310/lib/site-packages/seaborn/_decorators.py?line=35'>36</a>\u001b[0m     warnings\u001b[39m.\u001b[39mwarn(\n\u001b[0;32m     <a href='file:///c%3A/Users/jakub/AppData/Local/Programs/Python/Python310/lib/site-packages/seaborn/_decorators.py?line=36'>37</a>\u001b[0m         \u001b[39m\"\u001b[39m\u001b[39mPass the following variable\u001b[39m\u001b[39m{}\u001b[39;00m\u001b[39m as \u001b[39m\u001b[39m{}\u001b[39;00m\u001b[39mkeyword arg\u001b[39m\u001b[39m{}\u001b[39;00m\u001b[39m: \u001b[39m\u001b[39m{}\u001b[39;00m\u001b[39m. \u001b[39m\u001b[39m\"\u001b[39m\n\u001b[0;32m     <a href='file:///c%3A/Users/jakub/AppData/Local/Programs/Python/Python310/lib/site-packages/seaborn/_decorators.py?line=37'>38</a>\u001b[0m         \u001b[39m\"\u001b[39m\u001b[39mFrom version 0.12, the only valid positional argument \u001b[39m\u001b[39m\"\u001b[39m\n\u001b[1;32m   (...)\u001b[0m\n\u001b[0;32m     <a href='file:///c%3A/Users/jakub/AppData/Local/Programs/Python/Python310/lib/site-packages/seaborn/_decorators.py?line=42'>43</a>\u001b[0m         \u001b[39mFutureWarning\u001b[39;00m\n\u001b[0;32m     <a href='file:///c%3A/Users/jakub/AppData/Local/Programs/Python/Python310/lib/site-packages/seaborn/_decorators.py?line=43'>44</a>\u001b[0m     )\n\u001b[0;32m     <a href='file:///c%3A/Users/jakub/AppData/Local/Programs/Python/Python310/lib/site-packages/seaborn/_decorators.py?line=44'>45</a>\u001b[0m kwargs\u001b[39m.\u001b[39mupdate({k: arg \u001b[39mfor\u001b[39;00m k, arg \u001b[39min\u001b[39;00m \u001b[39mzip\u001b[39m(sig\u001b[39m.\u001b[39mparameters, args)})\n\u001b[1;32m---> <a href='file:///c%3A/Users/jakub/AppData/Local/Programs/Python/Python310/lib/site-packages/seaborn/_decorators.py?line=45'>46</a>\u001b[0m \u001b[39mreturn\u001b[39;00m f(\u001b[39m*\u001b[39m\u001b[39m*\u001b[39mkwargs)\n",
      "File \u001b[1;32m~\\AppData\\Local\\Programs\\Python\\Python310\\lib\\site-packages\\seaborn\\distributions.py:1762\u001b[0m, in \u001b[0;36mkdeplot\u001b[1;34m(x, y, shade, vertical, kernel, bw, gridsize, cut, clip, legend, cumulative, shade_lowest, cbar, cbar_ax, cbar_kws, ax, weights, hue, palette, hue_order, hue_norm, multiple, common_norm, common_grid, levels, thresh, bw_method, bw_adjust, log_scale, color, fill, data, data2, warn_singular, **kwargs)\u001b[0m\n\u001b[0;32m   <a href='file:///c%3A/Users/jakub/AppData/Local/Programs/Python/Python310/lib/site-packages/seaborn/distributions.py?line=1751'>1752</a>\u001b[0m \u001b[39m# Pack the kwargs for statistics.KDE\u001b[39;00m\n\u001b[0;32m   <a href='file:///c%3A/Users/jakub/AppData/Local/Programs/Python/Python310/lib/site-packages/seaborn/distributions.py?line=1752'>1753</a>\u001b[0m estimate_kws \u001b[39m=\u001b[39m \u001b[39mdict\u001b[39m(\n\u001b[0;32m   <a href='file:///c%3A/Users/jakub/AppData/Local/Programs/Python/Python310/lib/site-packages/seaborn/distributions.py?line=1753'>1754</a>\u001b[0m     bw_method\u001b[39m=\u001b[39mbw_method,\n\u001b[0;32m   <a href='file:///c%3A/Users/jakub/AppData/Local/Programs/Python/Python310/lib/site-packages/seaborn/distributions.py?line=1754'>1755</a>\u001b[0m     bw_adjust\u001b[39m=\u001b[39mbw_adjust,\n\u001b[1;32m   (...)\u001b[0m\n\u001b[0;32m   <a href='file:///c%3A/Users/jakub/AppData/Local/Programs/Python/Python310/lib/site-packages/seaborn/distributions.py?line=1758'>1759</a>\u001b[0m     cumulative\u001b[39m=\u001b[39mcumulative,\n\u001b[0;32m   <a href='file:///c%3A/Users/jakub/AppData/Local/Programs/Python/Python310/lib/site-packages/seaborn/distributions.py?line=1759'>1760</a>\u001b[0m )\n\u001b[1;32m-> <a href='file:///c%3A/Users/jakub/AppData/Local/Programs/Python/Python310/lib/site-packages/seaborn/distributions.py?line=1761'>1762</a>\u001b[0m p\u001b[39m.\u001b[39;49m_attach(ax, allowed_types\u001b[39m=\u001b[39;49m[\u001b[39m\"\u001b[39;49m\u001b[39mnumeric\u001b[39;49m\u001b[39m\"\u001b[39;49m, \u001b[39m\"\u001b[39;49m\u001b[39mdatetime\u001b[39;49m\u001b[39m\"\u001b[39;49m], log_scale\u001b[39m=\u001b[39;49mlog_scale)\n\u001b[0;32m   <a href='file:///c%3A/Users/jakub/AppData/Local/Programs/Python/Python310/lib/site-packages/seaborn/distributions.py?line=1763'>1764</a>\u001b[0m \u001b[39mif\u001b[39;00m p\u001b[39m.\u001b[39munivariate:\n\u001b[0;32m   <a href='file:///c%3A/Users/jakub/AppData/Local/Programs/Python/Python310/lib/site-packages/seaborn/distributions.py?line=1765'>1766</a>\u001b[0m     plot_kws \u001b[39m=\u001b[39m kwargs\u001b[39m.\u001b[39mcopy()\n",
      "File \u001b[1;32m~\\AppData\\Local\\Programs\\Python\\Python310\\lib\\site-packages\\seaborn\\_core.py:1125\u001b[0m, in \u001b[0;36mVectorPlotter._attach\u001b[1;34m(self, obj, allowed_types, log_scale)\u001b[0m\n\u001b[0;32m   <a href='file:///c%3A/Users/jakub/AppData/Local/Programs/Python/Python310/lib/site-packages/seaborn/_core.py?line=1119'>1120</a>\u001b[0m \u001b[39mif\u001b[39;00m var_type \u001b[39mnot\u001b[39;00m \u001b[39min\u001b[39;00m allowed_types:\n\u001b[0;32m   <a href='file:///c%3A/Users/jakub/AppData/Local/Programs/Python/Python310/lib/site-packages/seaborn/_core.py?line=1120'>1121</a>\u001b[0m     err \u001b[39m=\u001b[39m (\n\u001b[0;32m   <a href='file:///c%3A/Users/jakub/AppData/Local/Programs/Python/Python310/lib/site-packages/seaborn/_core.py?line=1121'>1122</a>\u001b[0m         \u001b[39mf\u001b[39m\u001b[39m\"\u001b[39m\u001b[39mThe \u001b[39m\u001b[39m{\u001b[39;00mvar\u001b[39m}\u001b[39;00m\u001b[39m variable is \u001b[39m\u001b[39m{\u001b[39;00mvar_type\u001b[39m}\u001b[39;00m\u001b[39m, but one of \u001b[39m\u001b[39m\"\u001b[39m\n\u001b[0;32m   <a href='file:///c%3A/Users/jakub/AppData/Local/Programs/Python/Python310/lib/site-packages/seaborn/_core.py?line=1122'>1123</a>\u001b[0m         \u001b[39mf\u001b[39m\u001b[39m\"\u001b[39m\u001b[39m{\u001b[39;00mallowed_types\u001b[39m}\u001b[39;00m\u001b[39m is required\u001b[39m\u001b[39m\"\u001b[39m\n\u001b[0;32m   <a href='file:///c%3A/Users/jakub/AppData/Local/Programs/Python/Python310/lib/site-packages/seaborn/_core.py?line=1123'>1124</a>\u001b[0m     )\n\u001b[1;32m-> <a href='file:///c%3A/Users/jakub/AppData/Local/Programs/Python/Python310/lib/site-packages/seaborn/_core.py?line=1124'>1125</a>\u001b[0m     \u001b[39mraise\u001b[39;00m \u001b[39mTypeError\u001b[39;00m(err)\n\u001b[0;32m   <a href='file:///c%3A/Users/jakub/AppData/Local/Programs/Python/Python310/lib/site-packages/seaborn/_core.py?line=1126'>1127</a>\u001b[0m \u001b[39m# Register with the matplotlib unit conversion machinery\u001b[39;00m\n\u001b[0;32m   <a href='file:///c%3A/Users/jakub/AppData/Local/Programs/Python/Python310/lib/site-packages/seaborn/_core.py?line=1127'>1128</a>\u001b[0m \u001b[39m# Perhaps cleaner to manage our own transform objects?\u001b[39;00m\n\u001b[0;32m   <a href='file:///c%3A/Users/jakub/AppData/Local/Programs/Python/Python310/lib/site-packages/seaborn/_core.py?line=1128'>1129</a>\u001b[0m \u001b[39m# XXX Currently this does not allow \"unshared\" categorical axes\u001b[39;00m\n\u001b[0;32m   <a href='file:///c%3A/Users/jakub/AppData/Local/Programs/Python/Python310/lib/site-packages/seaborn/_core.py?line=1129'>1130</a>\u001b[0m \u001b[39m# We could add metadata to a FacetGrid and set units based on that.\u001b[39;00m\n\u001b[0;32m   <a href='file:///c%3A/Users/jakub/AppData/Local/Programs/Python/Python310/lib/site-packages/seaborn/_core.py?line=1130'>1131</a>\u001b[0m \u001b[39m# See also comment in comp_data, which only uses a single axes to do\u001b[39;00m\n\u001b[0;32m   <a href='file:///c%3A/Users/jakub/AppData/Local/Programs/Python/Python310/lib/site-packages/seaborn/_core.py?line=1131'>1132</a>\u001b[0m \u001b[39m# its mapping, meaning that it won't handle unshared axes well either.\u001b[39;00m\n\u001b[0;32m   <a href='file:///c%3A/Users/jakub/AppData/Local/Programs/Python/Python310/lib/site-packages/seaborn/_core.py?line=1132'>1133</a>\u001b[0m \u001b[39mfor\u001b[39;00m ax \u001b[39min\u001b[39;00m ax_list:\n",
      "\u001b[1;31mTypeError\u001b[0m: The x variable is categorical, but one of ['numeric', 'datetime'] is required"
     ]
    },
    {
     "data": {
      "image/png": "[encoded data removed]",
      "text/plain": [
       "<Figure size 432x288 with 1 Axes>"
      ]
     },
     "metadata": {
      "needs_background": "light"
     },
     "output_type": "display_data"
    }
   ],
   "source": [
    "import seaborn as sns\n",
    "sns.kdeplot(df2)"
   ]
  },
  {
   "cell_type": "code",
   "execution_count": 57,
   "metadata": {},
   "outputs": [
    {
     "data": {
      "text/plain": [
       "[<matplotlib.lines.Line2D at 0x28700b7ad10>]"
      ]
     },
     "execution_count": 57,
     "metadata": {},
     "output_type": "execute_result"
    },
    {
     "data": {
      "image/png": "[encoded data removed]",
      "text/plain": [
       "<Figure size 432x288 with 1 Axes>"
      ]
     },
     "metadata": {
      "needs_background": "light"
     },
     "output_type": "display_data"
    }
   ],
   "source": [
    "from scipy import stats\n",
    "plt.plot(stats.cumfreq(df,numbins=25)[0])"
   ]
  },
  {
   "cell_type": "code",
   "execution_count": 60,
   "metadata": {},
   "outputs": [
    {
     "data": {
      "text/plain": [
       "{'whiskers': [<matplotlib.lines.Line2D at 0x28701d53be0>,\n",
       "  <matplotlib.lines.Line2D at 0x28701d53eb0>],\n",
       " 'caps': [<matplotlib.lines.Line2D at 0x28701d781c0>,\n",
       "  <matplotlib.lines.Line2D at 0x28701d78490>],\n",
       " 'boxes': [<matplotlib.lines.Line2D at 0x28701d53910>],\n",
       " 'medians': [<matplotlib.lines.Line2D at 0x28701d78760>],\n",
       " 'fliers': [<matplotlib.lines.Line2D at 0x28701d78a30>],\n",
       " 'means': []}"
      ]
     },
     "execution_count": 60,
     "metadata": {},
     "output_type": "execute_result"
    },
    {
     "data": {
      "image/png": "[encoded data removed]",
      "text/plain": [
       "<Figure size 432x288 with 1 Axes>"
      ]
     },
     "metadata": {
      "needs_background": "light"
     },
     "output_type": "display_data"
    }
   ],
   "source": [
    "plt.boxplot(df['Weight'])"
   ]
  },
  {
   "cell_type": "code",
   "execution_count": null,
   "metadata": {},
   "outputs": [
    {
     "data": {
      "image/png": "[encoded data removed]",
      "text/plain": [
       "<Figure size 432x288 with 1 Axes>"
      ]
     },
     "metadata": {
      "needs_background": "light"
     },
     "output_type": "display_data"
    }
   ],
   "source": []
  },
  {
   "cell_type": "markdown",
   "metadata": {},
   "source": [
    "# Zadanie 9\n",
    "\n",
    "\n",
    "## Reguła Trzech Sigm\n",
    "Reguła Trzech Sigm dla danego rozkładu normalnego $N(mean,\\sigma)$ oznacza, że w przedziale $[mean-3\\sigma,mean+3\\sigma]$ znajduje się 99.7\\% wszystkich obserwacji.\n",
    "\n",
    "Napisz program, który:\n",
    "\n",
    "  * rysuje gęstość rozkładu normalnego o zadanych parametrach $mean$ i $\\sigma$,\n",
    "  * wylicza pole pod krzywą\n",
    "  * zaznacza obszar po krzywą\n",
    "\n",
    "Policz prawdopodobieństwa:\n",
    "\n",
    "  * $P(X \\in [mean-\\sigma,mean+\\sigma])$\n",
    "  * $P(X \\in [mean-2\\sigma,mean+2\\sigma])$\n",
    "  * $P(X \\in [mean-3\\sigma,mean+3\\sigma])$\n",
    "\n"
   ]
  },
  {
   "cell_type": "code",
   "execution_count": null,
   "metadata": {},
   "outputs": [
    {
     "name": "stdout",
     "output_type": "stream",
     "text": [
      "0.682689492137086\n",
      "0.9544997361036417\n",
      "0.9973002039367399\n"
     ]
    },
    {
     "data": {
      "image/png": "[encoded data removed]",
      "text/plain": [
       "<matplotlib.figure.Figure at 0xcff0868c50>"
      ]
     },
     "metadata": {},
     "output_type": "display_data"
    }
   ],
   "source": []
  },
  {
   "cell_type": "code",
   "execution_count": null,
   "metadata": {
    "collapsed": true
   },
   "outputs": [],
   "source": []
  }
 ],
 "metadata": {
  "kernelspec": {
   "display_name": "Python 3",
   "language": "python",
   "name": "python3"
  },
  "language_info": {
   "codemirror_mode": {
    "name": "ipython",
    "version": 3
   },
   "file_extension": ".py",
   "mimetype": "text/x-python",
   "name": "python",
   "nbconvert_exporter": "python",
   "pygments_lexer": "ipython3",
   "version": "3.10.0"
  }
 },
 "nbformat": 4,
 "nbformat_minor": 2
}
